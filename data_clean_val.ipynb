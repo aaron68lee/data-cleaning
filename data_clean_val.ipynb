{
 "cells": [
  {
   "cell_type": "markdown",
   "id": "927a43ae",
   "metadata": {},
   "source": [
    "# Load Data - CS 513 Data Cleaning Final Project\n",
    "\n",
    "Team 162 - Miffy's Kitchen"
   ]
  },
  {
   "cell_type": "code",
   "execution_count": 1,
   "id": "3988728a",
   "metadata": {},
   "outputs": [],
   "source": [
    "import pandas as pd\n",
    "\n",
    "# Load raw CSVs into DataFrame\n",
    "parent_folder = 'NYPL-menus'\n",
    "dish = pd.read_csv(f\"{parent_folder}/Dish.csv\")\n",
    "menu = pd.read_csv(f\"{parent_folder}/Menu.csv\")\n",
    "menu_item = pd.read_csv(f\"{parent_folder}/MenuItem.csv\")\n",
    "menu_page = pd.read_csv(f\"{parent_folder}/MenuPage.csv\")\n",
    "\n",
    "# display(dish)\n",
    "# display(menu)\n",
    "# display(menu_item)\n",
    "# display(menu_page)"
   ]
  },
  {
   "cell_type": "markdown",
   "id": "224a6c8d",
   "metadata": {},
   "source": [
    "# *Data Profiling*"
   ]
  },
  {
   "cell_type": "code",
   "execution_count": 2,
   "id": "5ca3b036",
   "metadata": {},
   "outputs": [
    {
     "data": {
      "text/html": [
       "<div>\n",
       "<style scoped>\n",
       "    .dataframe tbody tr th:only-of-type {\n",
       "        vertical-align: middle;\n",
       "    }\n",
       "\n",
       "    .dataframe tbody tr th {\n",
       "        vertical-align: top;\n",
       "    }\n",
       "\n",
       "    .dataframe thead th {\n",
       "        text-align: right;\n",
       "    }\n",
       "</style>\n",
       "<table border=\"1\" class=\"dataframe\">\n",
       "  <thead>\n",
       "    <tr style=\"text-align: right;\">\n",
       "      <th></th>\n",
       "      <th>id</th>\n",
       "      <th>description</th>\n",
       "      <th>menus_appeared</th>\n",
       "      <th>times_appeared</th>\n",
       "      <th>first_appeared</th>\n",
       "      <th>last_appeared</th>\n",
       "      <th>lowest_price</th>\n",
       "      <th>highest_price</th>\n",
       "    </tr>\n",
       "  </thead>\n",
       "  <tbody>\n",
       "    <tr>\n",
       "      <th>count</th>\n",
       "      <td>423397.000000</td>\n",
       "      <td>0.0</td>\n",
       "      <td>423397.000000</td>\n",
       "      <td>423397.000000</td>\n",
       "      <td>423397.000000</td>\n",
       "      <td>423397.000000</td>\n",
       "      <td>394297.000000</td>\n",
       "      <td>394297.000000</td>\n",
       "    </tr>\n",
       "    <tr>\n",
       "      <th>mean</th>\n",
       "      <td>264456.594900</td>\n",
       "      <td>NaN</td>\n",
       "      <td>3.060489</td>\n",
       "      <td>3.146794</td>\n",
       "      <td>1675.514555</td>\n",
       "      <td>1679.299738</td>\n",
       "      <td>0.965265</td>\n",
       "      <td>1.603875</td>\n",
       "    </tr>\n",
       "    <tr>\n",
       "      <th>std</th>\n",
       "      <td>150489.070889</td>\n",
       "      <td>NaN</td>\n",
       "      <td>27.818178</td>\n",
       "      <td>29.962122</td>\n",
       "      <td>651.321461</td>\n",
       "      <td>651.934580</td>\n",
       "      <td>6.714564</td>\n",
       "      <td>12.696274</td>\n",
       "    </tr>\n",
       "    <tr>\n",
       "      <th>min</th>\n",
       "      <td>1.000000</td>\n",
       "      <td>NaN</td>\n",
       "      <td>0.000000</td>\n",
       "      <td>-6.000000</td>\n",
       "      <td>0.000000</td>\n",
       "      <td>0.000000</td>\n",
       "      <td>0.000000</td>\n",
       "      <td>0.000000</td>\n",
       "    </tr>\n",
       "    <tr>\n",
       "      <th>25%</th>\n",
       "      <td>132374.000000</td>\n",
       "      <td>NaN</td>\n",
       "      <td>1.000000</td>\n",
       "      <td>1.000000</td>\n",
       "      <td>1900.000000</td>\n",
       "      <td>1900.000000</td>\n",
       "      <td>0.000000</td>\n",
       "      <td>0.000000</td>\n",
       "    </tr>\n",
       "    <tr>\n",
       "      <th>50%</th>\n",
       "      <td>269636.000000</td>\n",
       "      <td>NaN</td>\n",
       "      <td>1.000000</td>\n",
       "      <td>1.000000</td>\n",
       "      <td>1914.000000</td>\n",
       "      <td>1917.000000</td>\n",
       "      <td>0.000000</td>\n",
       "      <td>0.000000</td>\n",
       "    </tr>\n",
       "    <tr>\n",
       "      <th>75%</th>\n",
       "      <td>397135.000000</td>\n",
       "      <td>NaN</td>\n",
       "      <td>1.000000</td>\n",
       "      <td>1.000000</td>\n",
       "      <td>1949.000000</td>\n",
       "      <td>1955.000000</td>\n",
       "      <td>0.400000</td>\n",
       "      <td>0.600000</td>\n",
       "    </tr>\n",
       "    <tr>\n",
       "      <th>max</th>\n",
       "      <td>515677.000000</td>\n",
       "      <td>NaN</td>\n",
       "      <td>7740.000000</td>\n",
       "      <td>8484.000000</td>\n",
       "      <td>2928.000000</td>\n",
       "      <td>2928.000000</td>\n",
       "      <td>1035.000000</td>\n",
       "      <td>3050.000000</td>\n",
       "    </tr>\n",
       "  </tbody>\n",
       "</table>\n",
       "</div>"
      ],
      "text/plain": [
       "                  id  description  menus_appeared  times_appeared  \\\n",
       "count  423397.000000          0.0   423397.000000   423397.000000   \n",
       "mean   264456.594900          NaN        3.060489        3.146794   \n",
       "std    150489.070889          NaN       27.818178       29.962122   \n",
       "min         1.000000          NaN        0.000000       -6.000000   \n",
       "25%    132374.000000          NaN        1.000000        1.000000   \n",
       "50%    269636.000000          NaN        1.000000        1.000000   \n",
       "75%    397135.000000          NaN        1.000000        1.000000   \n",
       "max    515677.000000          NaN     7740.000000     8484.000000   \n",
       "\n",
       "       first_appeared  last_appeared   lowest_price  highest_price  \n",
       "count   423397.000000  423397.000000  394297.000000  394297.000000  \n",
       "mean      1675.514555    1679.299738       0.965265       1.603875  \n",
       "std        651.321461     651.934580       6.714564      12.696274  \n",
       "min          0.000000       0.000000       0.000000       0.000000  \n",
       "25%       1900.000000    1900.000000       0.000000       0.000000  \n",
       "50%       1914.000000    1917.000000       0.000000       0.000000  \n",
       "75%       1949.000000    1955.000000       0.400000       0.600000  \n",
       "max       2928.000000    2928.000000    1035.000000    3050.000000  "
      ]
     },
     "execution_count": 2,
     "metadata": {},
     "output_type": "execute_result"
    }
   ],
   "source": [
    "dish.describe()"
   ]
  },
  {
   "cell_type": "code",
   "execution_count": 3,
   "id": "1d97e9b7",
   "metadata": {},
   "outputs": [
    {
     "name": "stdout",
     "output_type": "stream",
     "text": [
      "<class 'pandas.core.frame.DataFrame'>\n",
      "RangeIndex: 423397 entries, 0 to 423396\n",
      "Data columns (total 9 columns):\n",
      " #   Column          Non-Null Count   Dtype  \n",
      "---  ------          --------------   -----  \n",
      " 0   id              423397 non-null  int64  \n",
      " 1   name            423397 non-null  object \n",
      " 2   description     0 non-null       float64\n",
      " 3   menus_appeared  423397 non-null  int64  \n",
      " 4   times_appeared  423397 non-null  int64  \n",
      " 5   first_appeared  423397 non-null  int64  \n",
      " 6   last_appeared   423397 non-null  int64  \n",
      " 7   lowest_price    394297 non-null  float64\n",
      " 8   highest_price   394297 non-null  float64\n",
      "dtypes: float64(3), int64(5), object(1)\n",
      "memory usage: 29.1+ MB\n"
     ]
    },
    {
     "data": {
      "text/plain": [
       "description      423397\n",
       "lowest_price      29100\n",
       "highest_price     29100\n",
       "dtype: int64"
      ]
     },
     "execution_count": 15,
     "metadata": {},
     "output_type": "execute_result"
    }
   ],
   "source": [
    "df = dish\n",
    "df.info(verbose=True)\n",
    "\n",
    "columns_with_mv = df.columns[df.isnull().any()]\n",
    "df[columns_with_mv].isnull().sum()"
   ]
  },
  {
   "cell_type": "markdown",
   "id": "e24edc64",
   "metadata": {},
   "source": [
    "## MenuItem Profile"
   ]
  },
  {
   "cell_type": "code",
   "execution_count": 12,
   "id": "b2bbc632",
   "metadata": {},
   "outputs": [
    {
     "name": "stdout",
     "output_type": "stream",
     "text": [
      "<class 'pandas.core.frame.DataFrame'>\n",
      "RangeIndex: 1332726 entries, 0 to 1332725\n",
      "Data columns (total 9 columns):\n",
      " #   Column        Non-Null Count    Dtype  \n",
      "---  ------        --------------    -----  \n",
      " 0   id            1332726 non-null  int64  \n",
      " 1   menu_page_id  1332726 non-null  int64  \n",
      " 2   price         886810 non-null   float64\n",
      " 3   high_price    91905 non-null    float64\n",
      " 4   dish_id       1332485 non-null  float64\n",
      " 5   created_at    1332726 non-null  object \n",
      " 6   updated_at    1332726 non-null  object \n",
      " 7   xpos          1332726 non-null  float64\n",
      " 8   ypos          1332726 non-null  float64\n",
      "dtypes: float64(5), int64(2), object(2)\n",
      "memory usage: 91.5+ MB\n"
     ]
    }
   ],
   "source": [
    "df = menu_item\n",
    "df.info(verbose=True)"
   ]
  },
  {
   "cell_type": "code",
   "execution_count": null,
   "id": "4fb13533",
   "metadata": {},
   "outputs": [
    {
     "name": "stdout",
     "output_type": "stream",
     "text": [
      "res:\n",
      "17545.0\n",
      "=== Null Count ===\n",
      "id          0\n",
      "event    9391\n",
      "dtype: int64\n",
      "=== Null Percent ===\n",
      "id       0.000000\n",
      "event    0.535252\n",
      "dtype: float64\n"
     ]
    }
   ],
   "source": [
    "df = menu\n",
    "# df.info(verbose=True)\n",
    "\n",
    "fields = [\"id\", \"event\"]\n",
    "null = menu[fields].isnull()\n",
    "counts = null.sum()\n",
    "\n",
    "print(\"res:\")\n",
    "print(menu['event'].isnull().sum()) #/ float(len(menu['event'])))\n",
    "\n",
    "print(\"=== Null Count ===\")\n",
    "print(counts)\n",
    "print(\"=== Null Percent ===\")\n",
    "print(null.mean())"
   ]
  },
  {
   "cell_type": "code",
   "execution_count": 5,
   "id": "93f54c30",
   "metadata": {},
   "outputs": [
    {
     "name": "stdout",
     "output_type": "stream",
     "text": [
      "=== Null Count ===\n",
      "price            445916\n",
      "high_price      1240821\n",
      "menu_page_id          0\n",
      "dtype: int64\n",
      "=== Null Percent ===\n",
      "price           0.334589\n",
      "high_price      0.931040\n",
      "menu_page_id    0.000000\n",
      "dtype: float64\n"
     ]
    }
   ],
   "source": [
    "# null count as percentage or sum\n",
    "fields = [\"price\", \"high_price\", \"menu_page_id\"]\n",
    "null = menu_item[fields].isnull()\n",
    "counts = null.sum()\n",
    "\n",
    "print(\"=== Null Count ===\")\n",
    "print(counts)\n",
    "print(\"=== Null Percent ===\")\n",
    "print(null.mean())"
   ]
  },
  {
   "cell_type": "code",
   "execution_count": 6,
   "id": "60baa91e",
   "metadata": {},
   "outputs": [
    {
     "name": "stdout",
     "output_type": "stream",
     "text": [
      "=== Duplicate Rows ===\n"
     ]
    },
    {
     "data": {
      "text/html": [
       "<div>\n",
       "<style scoped>\n",
       "    .dataframe tbody tr th:only-of-type {\n",
       "        vertical-align: middle;\n",
       "    }\n",
       "\n",
       "    .dataframe tbody tr th {\n",
       "        vertical-align: top;\n",
       "    }\n",
       "\n",
       "    .dataframe thead th {\n",
       "        text-align: right;\n",
       "    }\n",
       "</style>\n",
       "<table border=\"1\" class=\"dataframe\">\n",
       "  <thead>\n",
       "    <tr style=\"text-align: right;\">\n",
       "      <th></th>\n",
       "      <th>id</th>\n",
       "      <th>menu_page_id</th>\n",
       "      <th>price</th>\n",
       "      <th>high_price</th>\n",
       "      <th>dish_id</th>\n",
       "      <th>created_at</th>\n",
       "      <th>updated_at</th>\n",
       "      <th>xpos</th>\n",
       "      <th>ypos</th>\n",
       "    </tr>\n",
       "  </thead>\n",
       "  <tbody>\n",
       "  </tbody>\n",
       "</table>\n",
       "</div>"
      ],
      "text/plain": [
       "Empty DataFrame\n",
       "Columns: [id, menu_page_id, price, high_price, dish_id, created_at, updated_at, xpos, ypos]\n",
       "Index: []"
      ]
     },
     "metadata": {},
     "output_type": "display_data"
    },
    {
     "name": "stdout",
     "output_type": "stream",
     "text": [
      "=== Duplicate Primary Keys ===\n"
     ]
    },
    {
     "data": {
      "text/html": [
       "<div>\n",
       "<style scoped>\n",
       "    .dataframe tbody tr th:only-of-type {\n",
       "        vertical-align: middle;\n",
       "    }\n",
       "\n",
       "    .dataframe tbody tr th {\n",
       "        vertical-align: top;\n",
       "    }\n",
       "\n",
       "    .dataframe thead th {\n",
       "        text-align: right;\n",
       "    }\n",
       "</style>\n",
       "<table border=\"1\" class=\"dataframe\">\n",
       "  <thead>\n",
       "    <tr style=\"text-align: right;\">\n",
       "      <th></th>\n",
       "      <th>id</th>\n",
       "      <th>menu_page_id</th>\n",
       "      <th>price</th>\n",
       "      <th>high_price</th>\n",
       "      <th>dish_id</th>\n",
       "      <th>created_at</th>\n",
       "      <th>updated_at</th>\n",
       "      <th>xpos</th>\n",
       "      <th>ypos</th>\n",
       "    </tr>\n",
       "  </thead>\n",
       "  <tbody>\n",
       "  </tbody>\n",
       "</table>\n",
       "</div>"
      ],
      "text/plain": [
       "Empty DataFrame\n",
       "Columns: [id, menu_page_id, price, high_price, dish_id, created_at, updated_at, xpos, ypos]\n",
       "Index: []"
      ]
     },
     "metadata": {},
     "output_type": "display_data"
    },
    {
     "name": "stdout",
     "output_type": "stream",
     "text": [
      "=== Primary Key Violations ===\n"
     ]
    },
    {
     "data": {
      "text/plain": [
       "{}"
      ]
     },
     "metadata": {},
     "output_type": "display_data"
    },
    {
     "name": "stdout",
     "output_type": "stream",
     "text": [
      "=== Foreign Key Violations ===\n",
      "--- MenuItem to MenuPage - menu_page_id ---\n"
     ]
    },
    {
     "data": {
      "text/html": [
       "<div>\n",
       "<style scoped>\n",
       "    .dataframe tbody tr th:only-of-type {\n",
       "        vertical-align: middle;\n",
       "    }\n",
       "\n",
       "    .dataframe tbody tr th {\n",
       "        vertical-align: top;\n",
       "    }\n",
       "\n",
       "    .dataframe thead th {\n",
       "        text-align: right;\n",
       "    }\n",
       "</style>\n",
       "<table border=\"1\" class=\"dataframe\">\n",
       "  <thead>\n",
       "    <tr style=\"text-align: right;\">\n",
       "      <th></th>\n",
       "      <th>id</th>\n",
       "      <th>menu_page_id</th>\n",
       "      <th>price</th>\n",
       "      <th>high_price</th>\n",
       "      <th>dish_id</th>\n",
       "      <th>created_at</th>\n",
       "      <th>updated_at</th>\n",
       "      <th>xpos</th>\n",
       "      <th>ypos</th>\n",
       "    </tr>\n",
       "  </thead>\n",
       "  <tbody>\n",
       "  </tbody>\n",
       "</table>\n",
       "</div>"
      ],
      "text/plain": [
       "Empty DataFrame\n",
       "Columns: [id, menu_page_id, price, high_price, dish_id, created_at, updated_at, xpos, ypos]\n",
       "Index: []"
      ]
     },
     "metadata": {},
     "output_type": "display_data"
    }
   ],
   "source": [
    "# IC Violations and Constraints\n",
    "\n",
    "# check for duplicate rows\n",
    "df = menu_item\n",
    "dups = df[df.duplicated(subset=['id'], keep=False)]\n",
    "print(\"=== Duplicate Rows ===\")\n",
    "display(dups)\n",
    "\n",
    "# FK and PK\n",
    "# PK Verification\n",
    "counts = df.groupby('id')['id'].nunique()\n",
    "bad_id = counts[counts > 1].index\n",
    "bad_df = df[df['id'].isin(bad_id)]\n",
    "print(\"=== Duplicate Primary Keys ===\")\n",
    "display(bad_df)\n",
    "\n",
    "pk_violations = bad_df.groupby(['id']).size().to_dict()\n",
    "print(\"=== Primary Key Violations ===\")\n",
    "display(pk_violations)\n",
    "\n",
    "# FK Verification\n",
    "bad_fk_menu_item_to_menu_page = df[~df[\"menu_page_id\"].isin(menu_page[\"id\"])]\n",
    "print(\"=== Foreign Key Violations ===\")\n",
    "print(\"--- MenuItem to MenuPage - menu_page_id ---\")\n",
    "display(bad_fk_menu_item_to_menu_page)\n",
    "\n"
   ]
  },
  {
   "cell_type": "code",
   "execution_count": 20,
   "id": "51abee58",
   "metadata": {},
   "outputs": [
    {
     "data": {
      "text/html": [
       "<div>\n",
       "<style scoped>\n",
       "    .dataframe tbody tr th:only-of-type {\n",
       "        vertical-align: middle;\n",
       "    }\n",
       "\n",
       "    .dataframe tbody tr th {\n",
       "        vertical-align: top;\n",
       "    }\n",
       "\n",
       "    .dataframe thead th {\n",
       "        text-align: right;\n",
       "    }\n",
       "</style>\n",
       "<table border=\"1\" class=\"dataframe\">\n",
       "  <thead>\n",
       "    <tr style=\"text-align: right;\">\n",
       "      <th></th>\n",
       "      <th>id</th>\n",
       "      <th>menu_page_id</th>\n",
       "      <th>price</th>\n",
       "      <th>high_price</th>\n",
       "      <th>dish_id</th>\n",
       "      <th>created_at</th>\n",
       "      <th>updated_at</th>\n",
       "      <th>xpos</th>\n",
       "      <th>ypos</th>\n",
       "    </tr>\n",
       "  </thead>\n",
       "  <tbody>\n",
       "    <tr>\n",
       "      <th>1352</th>\n",
       "      <td>1455</td>\n",
       "      <td>168</td>\n",
       "      <td>40.00</td>\n",
       "      <td>0.4</td>\n",
       "      <td>1034.0</td>\n",
       "      <td>2011-04-19 19:40:31 UTC</td>\n",
       "      <td>2011-12-05 03:06:28 UTC</td>\n",
       "      <td>0.217143</td>\n",
       "      <td>0.223982</td>\n",
       "    </tr>\n",
       "    <tr>\n",
       "      <th>2122</th>\n",
       "      <td>2303</td>\n",
       "      <td>3079</td>\n",
       "      <td>1.00</td>\n",
       "      <td>0.2</td>\n",
       "      <td>1641.0</td>\n",
       "      <td>2011-04-19 23:38:02 UTC</td>\n",
       "      <td>2011-04-19 23:38:02 UTC</td>\n",
       "      <td>0.172857</td>\n",
       "      <td>0.635264</td>\n",
       "    </tr>\n",
       "    <tr>\n",
       "      <th>2464</th>\n",
       "      <td>2694</td>\n",
       "      <td>4782</td>\n",
       "      <td>0.50</td>\n",
       "      <td>0.3</td>\n",
       "      <td>1921.0</td>\n",
       "      <td>2011-04-20 01:39:39 UTC</td>\n",
       "      <td>2011-05-01 04:40:12 UTC</td>\n",
       "      <td>0.408571</td>\n",
       "      <td>0.862274</td>\n",
       "    </tr>\n",
       "    <tr>\n",
       "      <th>2489</th>\n",
       "      <td>2724</td>\n",
       "      <td>168</td>\n",
       "      <td>2.00</td>\n",
       "      <td>1.0</td>\n",
       "      <td>1941.0</td>\n",
       "      <td>2011-04-20 01:47:54 UTC</td>\n",
       "      <td>2011-04-20 01:47:54 UTC</td>\n",
       "      <td>0.460000</td>\n",
       "      <td>0.580359</td>\n",
       "    </tr>\n",
       "    <tr>\n",
       "      <th>3864</th>\n",
       "      <td>4254</td>\n",
       "      <td>1388</td>\n",
       "      <td>1.00</td>\n",
       "      <td>0.5</td>\n",
       "      <td>2962.0</td>\n",
       "      <td>2011-04-20 06:25:49 UTC</td>\n",
       "      <td>2011-04-20 06:25:49 UTC</td>\n",
       "      <td>0.117143</td>\n",
       "      <td>0.464918</td>\n",
       "    </tr>\n",
       "    <tr>\n",
       "      <th>...</th>\n",
       "      <td>...</td>\n",
       "      <td>...</td>\n",
       "      <td>...</td>\n",
       "      <td>...</td>\n",
       "      <td>...</td>\n",
       "      <td>...</td>\n",
       "      <td>...</td>\n",
       "      <td>...</td>\n",
       "      <td>...</td>\n",
       "    </tr>\n",
       "    <tr>\n",
       "      <th>1298635</th>\n",
       "      <td>1350803</td>\n",
       "      <td>76350</td>\n",
       "      <td>0.50</td>\n",
       "      <td>0.1</td>\n",
       "      <td>434578.0</td>\n",
       "      <td>2014-09-10 03:58:02 UTC</td>\n",
       "      <td>2014-09-10 03:58:02 UTC</td>\n",
       "      <td>0.526667</td>\n",
       "      <td>0.673693</td>\n",
       "    </tr>\n",
       "    <tr>\n",
       "      <th>1301721</th>\n",
       "      <td>1353921</td>\n",
       "      <td>76346</td>\n",
       "      <td>1.00</td>\n",
       "      <td>0.6</td>\n",
       "      <td>1474.0</td>\n",
       "      <td>2014-09-19 14:40:44 UTC</td>\n",
       "      <td>2014-09-19 14:43:02 UTC</td>\n",
       "      <td>0.149333</td>\n",
       "      <td>0.440462</td>\n",
       "    </tr>\n",
       "    <tr>\n",
       "      <th>1301724</th>\n",
       "      <td>1353924</td>\n",
       "      <td>76346</td>\n",
       "      <td>50.00</td>\n",
       "      <td>1.0</td>\n",
       "      <td>390145.0</td>\n",
       "      <td>2014-09-19 14:43:19 UTC</td>\n",
       "      <td>2014-09-19 14:43:19 UTC</td>\n",
       "      <td>0.128000</td>\n",
       "      <td>0.569001</td>\n",
       "    </tr>\n",
       "    <tr>\n",
       "      <th>1304466</th>\n",
       "      <td>1356727</td>\n",
       "      <td>76544</td>\n",
       "      <td>25.00</td>\n",
       "      <td>5.0</td>\n",
       "      <td>489930.0</td>\n",
       "      <td>2014-10-02 15:06:40 UTC</td>\n",
       "      <td>2014-10-02 15:06:40 UTC</td>\n",
       "      <td>0.412000</td>\n",
       "      <td>0.518781</td>\n",
       "    </tr>\n",
       "    <tr>\n",
       "      <th>1304795</th>\n",
       "      <td>1357074</td>\n",
       "      <td>67306</td>\n",
       "      <td>1.75</td>\n",
       "      <td>0.9</td>\n",
       "      <td>372887.0</td>\n",
       "      <td>2014-10-10 17:03:20 UTC</td>\n",
       "      <td>2014-10-10 17:03:20 UTC</td>\n",
       "      <td>0.277333</td>\n",
       "      <td>0.795298</td>\n",
       "    </tr>\n",
       "  </tbody>\n",
       "</table>\n",
       "<p>1274 rows × 9 columns</p>\n",
       "</div>"
      ],
      "text/plain": [
       "              id  menu_page_id  price  high_price   dish_id  \\\n",
       "1352        1455           168  40.00         0.4    1034.0   \n",
       "2122        2303          3079   1.00         0.2    1641.0   \n",
       "2464        2694          4782   0.50         0.3    1921.0   \n",
       "2489        2724           168   2.00         1.0    1941.0   \n",
       "3864        4254          1388   1.00         0.5    2962.0   \n",
       "...          ...           ...    ...         ...       ...   \n",
       "1298635  1350803         76350   0.50         0.1  434578.0   \n",
       "1301721  1353921         76346   1.00         0.6    1474.0   \n",
       "1301724  1353924         76346  50.00         1.0  390145.0   \n",
       "1304466  1356727         76544  25.00         5.0  489930.0   \n",
       "1304795  1357074         67306   1.75         0.9  372887.0   \n",
       "\n",
       "                      created_at               updated_at      xpos      ypos  \n",
       "1352     2011-04-19 19:40:31 UTC  2011-12-05 03:06:28 UTC  0.217143  0.223982  \n",
       "2122     2011-04-19 23:38:02 UTC  2011-04-19 23:38:02 UTC  0.172857  0.635264  \n",
       "2464     2011-04-20 01:39:39 UTC  2011-05-01 04:40:12 UTC  0.408571  0.862274  \n",
       "2489     2011-04-20 01:47:54 UTC  2011-04-20 01:47:54 UTC  0.460000  0.580359  \n",
       "3864     2011-04-20 06:25:49 UTC  2011-04-20 06:25:49 UTC  0.117143  0.464918  \n",
       "...                          ...                      ...       ...       ...  \n",
       "1298635  2014-09-10 03:58:02 UTC  2014-09-10 03:58:02 UTC  0.526667  0.673693  \n",
       "1301721  2014-09-19 14:40:44 UTC  2014-09-19 14:43:02 UTC  0.149333  0.440462  \n",
       "1301724  2014-09-19 14:43:19 UTC  2014-09-19 14:43:19 UTC  0.128000  0.569001  \n",
       "1304466  2014-10-02 15:06:40 UTC  2014-10-02 15:06:40 UTC  0.412000  0.518781  \n",
       "1304795  2014-10-10 17:03:20 UTC  2014-10-10 17:03:20 UTC  0.277333  0.795298  \n",
       "\n",
       "[1274 rows x 9 columns]"
      ]
     },
     "execution_count": 20,
     "metadata": {},
     "output_type": "execute_result"
    }
   ],
   "source": [
    "# IC Verification - high_price is greater than or equal to price\n",
    "bad_ic_menu_item_high_price = menu_item[menu_item[\"high_price\"] < menu_item[\"price\"]]\n",
    "bad_ic_menu_item_high_price"
   ]
  },
  {
   "cell_type": "markdown",
   "id": "ebf0acd4",
   "metadata": {},
   "source": [
    "## MenuPage Profile"
   ]
  },
  {
   "cell_type": "code",
   "execution_count": 21,
   "id": "87697c4a",
   "metadata": {},
   "outputs": [
    {
     "name": "stdout",
     "output_type": "stream",
     "text": [
      "=== Null Count ===\n",
      "id         0\n",
      "menu_id    0\n",
      "dtype: int64\n",
      "=== Null Percent ===\n",
      "id         0.0\n",
      "menu_id    0.0\n",
      "dtype: float64\n"
     ]
    }
   ],
   "source": [
    "# null count as percentage or sum\n",
    "fields = [\"id\", \"menu_id\"]\n",
    "null = menu_page[fields].isnull()\n",
    "counts = null.sum()\n",
    "\n",
    "print(\"=== Null Count ===\")\n",
    "print(counts)\n",
    "print(\"=== Null Percent ===\")\n",
    "print(null.mean())"
   ]
  },
  {
   "cell_type": "code",
   "execution_count": 22,
   "id": "31e4e3bd",
   "metadata": {},
   "outputs": [
    {
     "name": "stdout",
     "output_type": "stream",
     "text": [
      "=== Duplicate Rows ===\n"
     ]
    },
    {
     "data": {
      "text/html": [
       "<div>\n",
       "<style scoped>\n",
       "    .dataframe tbody tr th:only-of-type {\n",
       "        vertical-align: middle;\n",
       "    }\n",
       "\n",
       "    .dataframe tbody tr th {\n",
       "        vertical-align: top;\n",
       "    }\n",
       "\n",
       "    .dataframe thead th {\n",
       "        text-align: right;\n",
       "    }\n",
       "</style>\n",
       "<table border=\"1\" class=\"dataframe\">\n",
       "  <thead>\n",
       "    <tr style=\"text-align: right;\">\n",
       "      <th></th>\n",
       "      <th>id</th>\n",
       "      <th>menu_id</th>\n",
       "      <th>page_number</th>\n",
       "      <th>image_id</th>\n",
       "      <th>full_height</th>\n",
       "      <th>full_width</th>\n",
       "      <th>uuid</th>\n",
       "    </tr>\n",
       "  </thead>\n",
       "  <tbody>\n",
       "  </tbody>\n",
       "</table>\n",
       "</div>"
      ],
      "text/plain": [
       "Empty DataFrame\n",
       "Columns: [id, menu_id, page_number, image_id, full_height, full_width, uuid]\n",
       "Index: []"
      ]
     },
     "metadata": {},
     "output_type": "display_data"
    }
   ],
   "source": [
    "# IC Violations and Constraints\n",
    "\n",
    "# check for duplicate rows\n",
    "df = menu_page\n",
    "dups = df[df.duplicated(subset=['id'], keep=False)]\n",
    "print(\"=== Duplicate Rows ===\")\n",
    "display(dups)\n"
   ]
  },
  {
   "cell_type": "code",
   "execution_count": 23,
   "id": "a0cd365c",
   "metadata": {},
   "outputs": [
    {
     "name": "stdout",
     "output_type": "stream",
     "text": [
      "=== Duplicate Primary Keys ===\n"
     ]
    },
    {
     "data": {
      "text/html": [
       "<div>\n",
       "<style scoped>\n",
       "    .dataframe tbody tr th:only-of-type {\n",
       "        vertical-align: middle;\n",
       "    }\n",
       "\n",
       "    .dataframe tbody tr th {\n",
       "        vertical-align: top;\n",
       "    }\n",
       "\n",
       "    .dataframe thead th {\n",
       "        text-align: right;\n",
       "    }\n",
       "</style>\n",
       "<table border=\"1\" class=\"dataframe\">\n",
       "  <thead>\n",
       "    <tr style=\"text-align: right;\">\n",
       "      <th></th>\n",
       "      <th>id</th>\n",
       "      <th>menu_id</th>\n",
       "      <th>page_number</th>\n",
       "      <th>image_id</th>\n",
       "      <th>full_height</th>\n",
       "      <th>full_width</th>\n",
       "      <th>uuid</th>\n",
       "    </tr>\n",
       "  </thead>\n",
       "  <tbody>\n",
       "  </tbody>\n",
       "</table>\n",
       "</div>"
      ],
      "text/plain": [
       "Empty DataFrame\n",
       "Columns: [id, menu_id, page_number, image_id, full_height, full_width, uuid]\n",
       "Index: []"
      ]
     },
     "metadata": {},
     "output_type": "display_data"
    },
    {
     "name": "stdout",
     "output_type": "stream",
     "text": [
      "=== Primary Key Violations ===\n",
      "=== Foreign Key Violations ===\n",
      "--- MenuPage to Menu - menu_id ---\n"
     ]
    },
    {
     "data": {
      "text/html": [
       "<div>\n",
       "<style scoped>\n",
       "    .dataframe tbody tr th:only-of-type {\n",
       "        vertical-align: middle;\n",
       "    }\n",
       "\n",
       "    .dataframe tbody tr th {\n",
       "        vertical-align: top;\n",
       "    }\n",
       "\n",
       "    .dataframe thead th {\n",
       "        text-align: right;\n",
       "    }\n",
       "</style>\n",
       "<table border=\"1\" class=\"dataframe\">\n",
       "  <thead>\n",
       "    <tr style=\"text-align: right;\">\n",
       "      <th></th>\n",
       "      <th>id</th>\n",
       "      <th>menu_id</th>\n",
       "      <th>page_number</th>\n",
       "      <th>image_id</th>\n",
       "      <th>full_height</th>\n",
       "      <th>full_width</th>\n",
       "      <th>uuid</th>\n",
       "    </tr>\n",
       "  </thead>\n",
       "  <tbody>\n",
       "    <tr>\n",
       "      <th>0</th>\n",
       "      <td>119</td>\n",
       "      <td>12460</td>\n",
       "      <td>1.0</td>\n",
       "      <td>1603595</td>\n",
       "      <td>7230.0</td>\n",
       "      <td>5428.0</td>\n",
       "      <td>510d47e4-2955-a3d9-e040-e00a18064a99</td>\n",
       "    </tr>\n",
       "    <tr>\n",
       "      <th>1</th>\n",
       "      <td>120</td>\n",
       "      <td>12460</td>\n",
       "      <td>2.0</td>\n",
       "      <td>1603596</td>\n",
       "      <td>5428.0</td>\n",
       "      <td>7230.0</td>\n",
       "      <td>510d47e4-2956-a3d9-e040-e00a18064a99</td>\n",
       "    </tr>\n",
       "    <tr>\n",
       "      <th>2</th>\n",
       "      <td>121</td>\n",
       "      <td>12460</td>\n",
       "      <td>3.0</td>\n",
       "      <td>1603597</td>\n",
       "      <td>7230.0</td>\n",
       "      <td>5428.0</td>\n",
       "      <td>510d47e4-2957-a3d9-e040-e00a18064a99</td>\n",
       "    </tr>\n",
       "    <tr>\n",
       "      <th>3</th>\n",
       "      <td>122</td>\n",
       "      <td>12460</td>\n",
       "      <td>4.0</td>\n",
       "      <td>1603598</td>\n",
       "      <td>7230.0</td>\n",
       "      <td>5428.0</td>\n",
       "      <td>510d47e4-2958-a3d9-e040-e00a18064a99</td>\n",
       "    </tr>\n",
       "    <tr>\n",
       "      <th>4</th>\n",
       "      <td>123</td>\n",
       "      <td>12461</td>\n",
       "      <td>1.0</td>\n",
       "      <td>1603591</td>\n",
       "      <td>7230.0</td>\n",
       "      <td>5428.0</td>\n",
       "      <td>510d47e4-2959-a3d9-e040-e00a18064a99</td>\n",
       "    </tr>\n",
       "    <tr>\n",
       "      <th>...</th>\n",
       "      <td>...</td>\n",
       "      <td>...</td>\n",
       "      <td>...</td>\n",
       "      <td>...</td>\n",
       "      <td>...</td>\n",
       "      <td>...</td>\n",
       "      <td>...</td>\n",
       "    </tr>\n",
       "    <tr>\n",
       "      <th>66922</th>\n",
       "      <td>77417</td>\n",
       "      <td>35525</td>\n",
       "      <td>2.0</td>\n",
       "      <td>5194206</td>\n",
       "      <td>2942.0</td>\n",
       "      <td>1990.0</td>\n",
       "      <td>af4751c0-6212-0132-6245-58d385a7bbd0</td>\n",
       "    </tr>\n",
       "    <tr>\n",
       "      <th>66923</th>\n",
       "      <td>77418</td>\n",
       "      <td>35525</td>\n",
       "      <td>3.0</td>\n",
       "      <td>5194207</td>\n",
       "      <td>2837.0</td>\n",
       "      <td>2628.0</td>\n",
       "      <td>af604d50-6212-0132-b41d-58d385a7bbd0</td>\n",
       "    </tr>\n",
       "    <tr>\n",
       "      <th>66924</th>\n",
       "      <td>77419</td>\n",
       "      <td>35525</td>\n",
       "      <td>4.0</td>\n",
       "      <td>5194208</td>\n",
       "      <td>2852.0</td>\n",
       "      <td>2002.0</td>\n",
       "      <td>af7910c0-6212-0132-e227-58d385a7bbd0</td>\n",
       "    </tr>\n",
       "    <tr>\n",
       "      <th>66925</th>\n",
       "      <td>77420</td>\n",
       "      <td>35525</td>\n",
       "      <td>5.0</td>\n",
       "      <td>5194209</td>\n",
       "      <td>2835.0</td>\n",
       "      <td>1990.0</td>\n",
       "      <td>af92d3f0-6212-0132-6b8d-58d385a7bbd0</td>\n",
       "    </tr>\n",
       "    <tr>\n",
       "      <th>66926</th>\n",
       "      <td>77421</td>\n",
       "      <td>35525</td>\n",
       "      <td>6.0</td>\n",
       "      <td>5194210</td>\n",
       "      <td>2821.0</td>\n",
       "      <td>2130.0</td>\n",
       "      <td>afac7cc0-6212-0132-44a7-58d385a7bbd0</td>\n",
       "    </tr>\n",
       "  </tbody>\n",
       "</table>\n",
       "<p>5803 rows × 7 columns</p>\n",
       "</div>"
      ],
      "text/plain": [
       "          id  menu_id  page_number image_id  full_height  full_width  \\\n",
       "0        119    12460          1.0  1603595       7230.0      5428.0   \n",
       "1        120    12460          2.0  1603596       5428.0      7230.0   \n",
       "2        121    12460          3.0  1603597       7230.0      5428.0   \n",
       "3        122    12460          4.0  1603598       7230.0      5428.0   \n",
       "4        123    12461          1.0  1603591       7230.0      5428.0   \n",
       "...      ...      ...          ...      ...          ...         ...   \n",
       "66922  77417    35525          2.0  5194206       2942.0      1990.0   \n",
       "66923  77418    35525          3.0  5194207       2837.0      2628.0   \n",
       "66924  77419    35525          4.0  5194208       2852.0      2002.0   \n",
       "66925  77420    35525          5.0  5194209       2835.0      1990.0   \n",
       "66926  77421    35525          6.0  5194210       2821.0      2130.0   \n",
       "\n",
       "                                       uuid  \n",
       "0      510d47e4-2955-a3d9-e040-e00a18064a99  \n",
       "1      510d47e4-2956-a3d9-e040-e00a18064a99  \n",
       "2      510d47e4-2957-a3d9-e040-e00a18064a99  \n",
       "3      510d47e4-2958-a3d9-e040-e00a18064a99  \n",
       "4      510d47e4-2959-a3d9-e040-e00a18064a99  \n",
       "...                                     ...  \n",
       "66922  af4751c0-6212-0132-6245-58d385a7bbd0  \n",
       "66923  af604d50-6212-0132-b41d-58d385a7bbd0  \n",
       "66924  af7910c0-6212-0132-e227-58d385a7bbd0  \n",
       "66925  af92d3f0-6212-0132-6b8d-58d385a7bbd0  \n",
       "66926  afac7cc0-6212-0132-44a7-58d385a7bbd0  \n",
       "\n",
       "[5803 rows x 7 columns]"
      ]
     },
     "metadata": {},
     "output_type": "display_data"
    }
   ],
   "source": [
    "\n",
    "# FK and PK\n",
    "# PK Verification\n",
    "counts = df.groupby('id')['id'].nunique()\n",
    "bad_id = counts[counts > 1].index\n",
    "bad_df = df[df['id'].isin(bad_id)]\n",
    "print(\"=== Duplicate Primary Keys ===\")\n",
    "display(bad_df)\n",
    "\n",
    "pk_violations = bad_df.groupby(['id', 'id']).size().to_dict()\n",
    "print(\"=== Primary Key Violations ===\")\n",
    "pk_violations\n",
    "\n",
    "# FK Verification\n",
    "bad_fk_menu_page = df[~df[\"menu_id\"].isin(menu[\"id\"])]\n",
    "print(\"=== Foreign Key Violations ===\")\n",
    "print(\"--- MenuPage to Menu - menu_id ---\")\n",
    "display(bad_fk_menu_page)"
   ]
  },
  {
   "cell_type": "markdown",
   "id": "8c0c1113",
   "metadata": {},
   "source": [
    "# *OpenRefine Cleaning Verification*"
   ]
  },
  {
   "cell_type": "code",
   "execution_count": 22,
   "id": "d001b5c8",
   "metadata": {},
   "outputs": [],
   "source": [
    "parent_folder = 'NYPL-menus-clean'\n",
    "# dish_clean = pd.read_csv(f\"{parent_folder}/Dish.csv\")\n",
    "menu_clean = pd.read_csv(f\"{parent_folder}/menu_clean.csv\")\n",
    "menu_item_clean = pd.read_csv(f\"{parent_folder}/MenuItem.csv\")\n",
    "menu_page_clean = pd.read_csv(f\"{parent_folder}/MenuPage.csv\")"
   ]
  },
  {
   "cell_type": "code",
   "execution_count": 25,
   "id": "a86d5543",
   "metadata": {},
   "outputs": [
    {
     "data": {
      "application/vnd.microsoft.datawrangler.viewer.v0+json": {
       "columns": [
        {
         "name": "index",
         "rawType": "object",
         "type": "string"
        },
        {
         "name": "0",
         "rawType": "int64",
         "type": "integer"
        }
       ],
       "ref": "8383270b-dd5c-4ddc-9977-4d4d62a932eb",
       "rows": [
        [
         "id",
         "0"
        ],
        [
         "name",
         "0"
        ],
        [
         "sponsor",
         "0"
        ],
        [
         "event",
         "999"
        ],
        [
         "venue",
         "0"
        ],
        [
         "place",
         "0"
        ],
        [
         "physical_description",
         "0"
        ],
        [
         "occasion",
         "0"
        ],
        [
         "notes",
         "0"
        ],
        [
         "call_number",
         "0"
        ],
        [
         "keywords",
         "0"
        ],
        [
         "language",
         "0"
        ],
        [
         "date",
         "0"
        ],
        [
         "location",
         "0"
        ],
        [
         "location_type",
         "0"
        ],
        [
         "currency",
         "0"
        ],
        [
         "currency_symbol",
         "0"
        ],
        [
         "status",
         "0"
        ],
        [
         "page_count",
         "0"
        ],
        [
         "dish_count",
         "0"
        ]
       ],
       "shape": {
        "columns": 1,
        "rows": 20
       }
      },
      "text/plain": [
       "id                        0\n",
       "name                      0\n",
       "sponsor                   0\n",
       "event                   999\n",
       "venue                     0\n",
       "place                     0\n",
       "physical_description      0\n",
       "occasion                  0\n",
       "notes                     0\n",
       "call_number               0\n",
       "keywords                  0\n",
       "language                  0\n",
       "date                      0\n",
       "location                  0\n",
       "location_type             0\n",
       "currency                  0\n",
       "currency_symbol           0\n",
       "status                    0\n",
       "page_count                0\n",
       "dish_count                0\n",
       "dtype: int64"
      ]
     },
     "execution_count": 25,
     "metadata": {},
     "output_type": "execute_result"
    }
   ],
   "source": [
    "import pandas as pd\n",
    "\n",
    "# Read in original and cleaned CSV files\n",
    "df = pd.read_csv(f\"NYPL-menus/Menu.csv\")\n",
    "df_clean = pd.read_csv(f\"NYPL-menus-clean/menu_clean.csv\")\n",
    "\n",
    "# Count number of cells changed for affected columns\n",
    "fields = [\"event\"]\n",
    "df_clean[df_clean[fields] != df[fields]].count()"
   ]
  },
  {
   "cell_type": "markdown",
   "id": "9ca7aaf0",
   "metadata": {},
   "source": [
    "## Dish Verify"
   ]
  },
  {
   "cell_type": "code",
   "execution_count": 11,
   "id": "c610e985",
   "metadata": {},
   "outputs": [
    {
     "name": "stdout",
     "output_type": "stream",
     "text": [
      "=== Count ===\n",
      "description    423397\n",
      "dtype: int64\n",
      "=== Percent ===\n",
      "description    1.0\n",
      "dtype: float64\n"
     ]
    }
   ],
   "source": [
    "# null count as percentage or sum\n",
    "fields = ['description']\n",
    "null = dish[fields].isnull()\n",
    "counts = null.sum()\n",
    "\n",
    "print(\"=== Count ===\")\n",
    "print(counts)\n",
    "print(\"=== Percent ===\")\n",
    "print(null.mean())"
   ]
  },
  {
   "cell_type": "code",
   "execution_count": 12,
   "id": "433d7b20",
   "metadata": {},
   "outputs": [
    {
     "data": {
      "text/html": [
       "<div>\n",
       "<style scoped>\n",
       "    .dataframe tbody tr th:only-of-type {\n",
       "        vertical-align: middle;\n",
       "    }\n",
       "\n",
       "    .dataframe tbody tr th {\n",
       "        vertical-align: top;\n",
       "    }\n",
       "\n",
       "    .dataframe thead th {\n",
       "        text-align: right;\n",
       "    }\n",
       "</style>\n",
       "<table border=\"1\" class=\"dataframe\">\n",
       "  <thead>\n",
       "    <tr style=\"text-align: right;\">\n",
       "      <th></th>\n",
       "      <th>id</th>\n",
       "      <th>name</th>\n",
       "      <th>description</th>\n",
       "      <th>menus_appeared</th>\n",
       "      <th>times_appeared</th>\n",
       "      <th>first_appeared</th>\n",
       "      <th>last_appeared</th>\n",
       "      <th>lowest_price</th>\n",
       "      <th>highest_price</th>\n",
       "    </tr>\n",
       "  </thead>\n",
       "  <tbody>\n",
       "  </tbody>\n",
       "</table>\n",
       "</div>"
      ],
      "text/plain": [
       "Empty DataFrame\n",
       "Columns: [id, name, description, menus_appeared, times_appeared, first_appeared, last_appeared, lowest_price, highest_price]\n",
       "Index: []"
      ]
     },
     "metadata": {},
     "output_type": "display_data"
    },
    {
     "data": {
      "text/html": [
       "<div>\n",
       "<style scoped>\n",
       "    .dataframe tbody tr th:only-of-type {\n",
       "        vertical-align: middle;\n",
       "    }\n",
       "\n",
       "    .dataframe tbody tr th {\n",
       "        vertical-align: top;\n",
       "    }\n",
       "\n",
       "    .dataframe thead th {\n",
       "        text-align: right;\n",
       "    }\n",
       "</style>\n",
       "<table border=\"1\" class=\"dataframe\">\n",
       "  <thead>\n",
       "    <tr style=\"text-align: right;\">\n",
       "      <th></th>\n",
       "      <th>id</th>\n",
       "      <th>name</th>\n",
       "      <th>description</th>\n",
       "      <th>menus_appeared</th>\n",
       "      <th>times_appeared</th>\n",
       "      <th>first_appeared</th>\n",
       "      <th>last_appeared</th>\n",
       "      <th>lowest_price</th>\n",
       "      <th>highest_price</th>\n",
       "    </tr>\n",
       "  </thead>\n",
       "  <tbody>\n",
       "  </tbody>\n",
       "</table>\n",
       "</div>"
      ],
      "text/plain": [
       "Empty DataFrame\n",
       "Columns: [id, name, description, menus_appeared, times_appeared, first_appeared, last_appeared, lowest_price, highest_price]\n",
       "Index: []"
      ]
     },
     "metadata": {},
     "output_type": "display_data"
    },
    {
     "data": {
      "text/plain": [
       "{}"
      ]
     },
     "execution_count": 12,
     "metadata": {},
     "output_type": "execute_result"
    }
   ],
   "source": [
    "# IC Violations and Constraints\n",
    "\n",
    "# check for duplicate rows\n",
    "df = dish\n",
    "dups = df[df.duplicated(subset=['id'], keep=False)]\n",
    "display(dups)\n",
    "\n",
    "# FK and PK\n",
    "counts = df.groupby('id')['name'].nunique()\n",
    "bad_id = counts[counts > 1].index\n",
    "bad_df = df[df['id'].isin(bad_id)]\n",
    "display(bad_df)\n",
    "\n",
    "ic3_violations = bad_df.groupby(['id', 'name']).size().to_dict()\n",
    "ic3_violations"
   ]
  },
  {
   "cell_type": "markdown",
   "id": "24d49368",
   "metadata": {},
   "source": [
    "## MenuItem Verify"
   ]
  },
  {
   "cell_type": "code",
   "execution_count": 29,
   "id": "3fac59e5",
   "metadata": {},
   "outputs": [
    {
     "name": "stdout",
     "output_type": "stream",
     "text": [
      "=== Null Count ===\n",
      "price           0\n",
      "high_price      0\n",
      "menu_page_id    0\n",
      "dtype: int64\n",
      "=== Null Percent ===\n",
      "price           0.0\n",
      "high_price      0.0\n",
      "menu_page_id    0.0\n",
      "dtype: float64\n"
     ]
    }
   ],
   "source": [
    "# null count as percentage or sum\n",
    "fields = [\"price\", \"high_price\", \"menu_page_id\"]\n",
    "null = menu_item_clean[fields].isnull()\n",
    "counts = null.sum()\n",
    "\n",
    "print(\"=== Null Count ===\")\n",
    "print(counts)\n",
    "print(\"=== Null Percent ===\")\n",
    "print(null.mean())"
   ]
  },
  {
   "cell_type": "code",
   "execution_count": 27,
   "id": "386ff856",
   "metadata": {},
   "outputs": [
    {
     "name": "stdout",
     "output_type": "stream",
     "text": [
      "=== Duplicate Primary Keys ===\n"
     ]
    },
    {
     "data": {
      "text/html": [
       "<div>\n",
       "<style scoped>\n",
       "    .dataframe tbody tr th:only-of-type {\n",
       "        vertical-align: middle;\n",
       "    }\n",
       "\n",
       "    .dataframe tbody tr th {\n",
       "        vertical-align: top;\n",
       "    }\n",
       "\n",
       "    .dataframe thead th {\n",
       "        text-align: right;\n",
       "    }\n",
       "</style>\n",
       "<table border=\"1\" class=\"dataframe\">\n",
       "  <thead>\n",
       "    <tr style=\"text-align: right;\">\n",
       "      <th></th>\n",
       "      <th>id</th>\n",
       "      <th>menu_page_id</th>\n",
       "      <th>price</th>\n",
       "      <th>high_price</th>\n",
       "      <th>dish_id</th>\n",
       "      <th>created_at</th>\n",
       "      <th>updated_at</th>\n",
       "      <th>xpos</th>\n",
       "      <th>ypos</th>\n",
       "    </tr>\n",
       "  </thead>\n",
       "  <tbody>\n",
       "  </tbody>\n",
       "</table>\n",
       "</div>"
      ],
      "text/plain": [
       "Empty DataFrame\n",
       "Columns: [id, menu_page_id, price, high_price, dish_id, created_at, updated_at, xpos, ypos]\n",
       "Index: []"
      ]
     },
     "metadata": {},
     "output_type": "display_data"
    },
    {
     "data": {
      "text/html": [
       "<div>\n",
       "<style scoped>\n",
       "    .dataframe tbody tr th:only-of-type {\n",
       "        vertical-align: middle;\n",
       "    }\n",
       "\n",
       "    .dataframe tbody tr th {\n",
       "        vertical-align: top;\n",
       "    }\n",
       "\n",
       "    .dataframe thead th {\n",
       "        text-align: right;\n",
       "    }\n",
       "</style>\n",
       "<table border=\"1\" class=\"dataframe\">\n",
       "  <thead>\n",
       "    <tr style=\"text-align: right;\">\n",
       "      <th></th>\n",
       "      <th>id</th>\n",
       "      <th>menu_page_id</th>\n",
       "      <th>price</th>\n",
       "      <th>high_price</th>\n",
       "      <th>dish_id</th>\n",
       "      <th>created_at</th>\n",
       "      <th>updated_at</th>\n",
       "      <th>xpos</th>\n",
       "      <th>ypos</th>\n",
       "    </tr>\n",
       "  </thead>\n",
       "  <tbody>\n",
       "  </tbody>\n",
       "</table>\n",
       "</div>"
      ],
      "text/plain": [
       "Empty DataFrame\n",
       "Columns: [id, menu_page_id, price, high_price, dish_id, created_at, updated_at, xpos, ypos]\n",
       "Index: []"
      ]
     },
     "metadata": {},
     "output_type": "display_data"
    },
    {
     "name": "stdout",
     "output_type": "stream",
     "text": [
      "=== Primary Key Violations ===\n"
     ]
    },
    {
     "data": {
      "text/plain": [
       "{}"
      ]
     },
     "metadata": {},
     "output_type": "display_data"
    },
    {
     "name": "stdout",
     "output_type": "stream",
     "text": [
      "=== Foreign Key Violations ===\n",
      "--- MenuItem to MenuPage - menu_page_id ---\n"
     ]
    },
    {
     "data": {
      "text/html": [
       "<div>\n",
       "<style scoped>\n",
       "    .dataframe tbody tr th:only-of-type {\n",
       "        vertical-align: middle;\n",
       "    }\n",
       "\n",
       "    .dataframe tbody tr th {\n",
       "        vertical-align: top;\n",
       "    }\n",
       "\n",
       "    .dataframe thead th {\n",
       "        text-align: right;\n",
       "    }\n",
       "</style>\n",
       "<table border=\"1\" class=\"dataframe\">\n",
       "  <thead>\n",
       "    <tr style=\"text-align: right;\">\n",
       "      <th></th>\n",
       "      <th>id</th>\n",
       "      <th>menu_page_id</th>\n",
       "      <th>price</th>\n",
       "      <th>high_price</th>\n",
       "      <th>dish_id</th>\n",
       "      <th>created_at</th>\n",
       "      <th>updated_at</th>\n",
       "      <th>xpos</th>\n",
       "      <th>ypos</th>\n",
       "    </tr>\n",
       "  </thead>\n",
       "  <tbody>\n",
       "  </tbody>\n",
       "</table>\n",
       "</div>"
      ],
      "text/plain": [
       "Empty DataFrame\n",
       "Columns: [id, menu_page_id, price, high_price, dish_id, created_at, updated_at, xpos, ypos]\n",
       "Index: []"
      ]
     },
     "metadata": {},
     "output_type": "display_data"
    }
   ],
   "source": [
    "# IC Violations and Constraints\n",
    "\n",
    "# check for duplicate rows\n",
    "df = menu_item_clean\n",
    "dups = df[df.duplicated(subset=['id'], keep=False)]\n",
    "print(\"=== Duplicate Primary Keys ===\")\n",
    "display(dups)\n",
    "\n",
    "# FK and PK\n",
    "# PK Verification\n",
    "counts = df.groupby('id')['id'].nunique()\n",
    "bad_id = counts[counts > 1].index\n",
    "bad_df = df[df['id'].isin(bad_id)]\n",
    "display(bad_df)\n",
    "\n",
    "pk_violations = bad_df.groupby(['id']).size().to_dict()\n",
    "print(\"=== Primary Key Violations ===\")\n",
    "display(pk_violations)\n",
    "\n",
    "# FK Verification\n",
    "bad_fk_menu_item_to_menu_page = df[~df[\"menu_page_id\"].isin(menu_page[\"id\"])]\n",
    "print(\"=== Foreign Key Violations ===\")\n",
    "print(\"--- MenuItem to MenuPage - menu_page_id ---\")\n",
    "display(bad_fk_menu_item_to_menu_page)"
   ]
  },
  {
   "cell_type": "code",
   "execution_count": 28,
   "id": "78dfd0f9",
   "metadata": {},
   "outputs": [
    {
     "data": {
      "text/html": [
       "<div>\n",
       "<style scoped>\n",
       "    .dataframe tbody tr th:only-of-type {\n",
       "        vertical-align: middle;\n",
       "    }\n",
       "\n",
       "    .dataframe tbody tr th {\n",
       "        vertical-align: top;\n",
       "    }\n",
       "\n",
       "    .dataframe thead th {\n",
       "        text-align: right;\n",
       "    }\n",
       "</style>\n",
       "<table border=\"1\" class=\"dataframe\">\n",
       "  <thead>\n",
       "    <tr style=\"text-align: right;\">\n",
       "      <th></th>\n",
       "      <th>id</th>\n",
       "      <th>menu_page_id</th>\n",
       "      <th>price</th>\n",
       "      <th>high_price</th>\n",
       "      <th>dish_id</th>\n",
       "      <th>created_at</th>\n",
       "      <th>updated_at</th>\n",
       "      <th>xpos</th>\n",
       "      <th>ypos</th>\n",
       "    </tr>\n",
       "  </thead>\n",
       "  <tbody>\n",
       "  </tbody>\n",
       "</table>\n",
       "</div>"
      ],
      "text/plain": [
       "Empty DataFrame\n",
       "Columns: [id, menu_page_id, price, high_price, dish_id, created_at, updated_at, xpos, ypos]\n",
       "Index: []"
      ]
     },
     "execution_count": 28,
     "metadata": {},
     "output_type": "execute_result"
    }
   ],
   "source": [
    "# IC Verification - high_price is greater than or equal to price\n",
    "bad_ic_menu_item_high_price = menu_item_clean[menu_item_clean[\"high_price\"] < menu_item_clean[\"price\"]]\n",
    "bad_ic_menu_item_high_price"
   ]
  },
  {
   "cell_type": "markdown",
   "id": "6729956c",
   "metadata": {},
   "source": [
    "## MenuPage Verify"
   ]
  },
  {
   "cell_type": "code",
   "execution_count": 15,
   "id": "7b9146b0",
   "metadata": {},
   "outputs": [
    {
     "name": "stdout",
     "output_type": "stream",
     "text": [
      "=== Count ===\n",
      "id         0\n",
      "menu_id    0\n",
      "dtype: int64\n",
      "=== Percent ===\n",
      "id         0.0\n",
      "menu_id    0.0\n",
      "dtype: float64\n"
     ]
    }
   ],
   "source": [
    "# null count as percentage or sum\n",
    "fields = [\"id\", \"menu_id\"]\n",
    "null = menu_page_clean[fields].isnull()\n",
    "counts = null.sum()\n",
    "\n",
    "print(\"=== Count ===\")\n",
    "print(counts)\n",
    "print(\"=== Percent ===\")\n",
    "print(null.mean())"
   ]
  },
  {
   "cell_type": "code",
   "execution_count": 16,
   "id": "d6a41486",
   "metadata": {},
   "outputs": [
    {
     "name": "stdout",
     "output_type": "stream",
     "text": [
      "=== Duplicate Rows ===\n"
     ]
    },
    {
     "data": {
      "text/html": [
       "<div>\n",
       "<style scoped>\n",
       "    .dataframe tbody tr th:only-of-type {\n",
       "        vertical-align: middle;\n",
       "    }\n",
       "\n",
       "    .dataframe tbody tr th {\n",
       "        vertical-align: top;\n",
       "    }\n",
       "\n",
       "    .dataframe thead th {\n",
       "        text-align: right;\n",
       "    }\n",
       "</style>\n",
       "<table border=\"1\" class=\"dataframe\">\n",
       "  <thead>\n",
       "    <tr style=\"text-align: right;\">\n",
       "      <th></th>\n",
       "      <th>id</th>\n",
       "      <th>menu_id</th>\n",
       "      <th>page_number</th>\n",
       "      <th>image_id</th>\n",
       "      <th>full_height</th>\n",
       "      <th>full_width</th>\n",
       "      <th>uuid</th>\n",
       "    </tr>\n",
       "  </thead>\n",
       "  <tbody>\n",
       "  </tbody>\n",
       "</table>\n",
       "</div>"
      ],
      "text/plain": [
       "Empty DataFrame\n",
       "Columns: [id, menu_id, page_number, image_id, full_height, full_width, uuid]\n",
       "Index: []"
      ]
     },
     "metadata": {},
     "output_type": "display_data"
    },
    {
     "name": "stdout",
     "output_type": "stream",
     "text": [
      "=== Duplicate Primary Keys ===\n"
     ]
    },
    {
     "data": {
      "text/html": [
       "<div>\n",
       "<style scoped>\n",
       "    .dataframe tbody tr th:only-of-type {\n",
       "        vertical-align: middle;\n",
       "    }\n",
       "\n",
       "    .dataframe tbody tr th {\n",
       "        vertical-align: top;\n",
       "    }\n",
       "\n",
       "    .dataframe thead th {\n",
       "        text-align: right;\n",
       "    }\n",
       "</style>\n",
       "<table border=\"1\" class=\"dataframe\">\n",
       "  <thead>\n",
       "    <tr style=\"text-align: right;\">\n",
       "      <th></th>\n",
       "      <th>id</th>\n",
       "      <th>menu_id</th>\n",
       "      <th>page_number</th>\n",
       "      <th>image_id</th>\n",
       "      <th>full_height</th>\n",
       "      <th>full_width</th>\n",
       "      <th>uuid</th>\n",
       "    </tr>\n",
       "  </thead>\n",
       "  <tbody>\n",
       "  </tbody>\n",
       "</table>\n",
       "</div>"
      ],
      "text/plain": [
       "Empty DataFrame\n",
       "Columns: [id, menu_id, page_number, image_id, full_height, full_width, uuid]\n",
       "Index: []"
      ]
     },
     "metadata": {},
     "output_type": "display_data"
    },
    {
     "name": "stdout",
     "output_type": "stream",
     "text": [
      "=== Primary Key Violations ===\n",
      "=== Foreign Key Violations ===\n",
      "--- MenuPage to Menu - menu_id ---\n"
     ]
    },
    {
     "data": {
      "text/html": [
       "<div>\n",
       "<style scoped>\n",
       "    .dataframe tbody tr th:only-of-type {\n",
       "        vertical-align: middle;\n",
       "    }\n",
       "\n",
       "    .dataframe tbody tr th {\n",
       "        vertical-align: top;\n",
       "    }\n",
       "\n",
       "    .dataframe thead th {\n",
       "        text-align: right;\n",
       "    }\n",
       "</style>\n",
       "<table border=\"1\" class=\"dataframe\">\n",
       "  <thead>\n",
       "    <tr style=\"text-align: right;\">\n",
       "      <th></th>\n",
       "      <th>id</th>\n",
       "      <th>menu_id</th>\n",
       "      <th>page_number</th>\n",
       "      <th>image_id</th>\n",
       "      <th>full_height</th>\n",
       "      <th>full_width</th>\n",
       "      <th>uuid</th>\n",
       "    </tr>\n",
       "  </thead>\n",
       "  <tbody>\n",
       "    <tr>\n",
       "      <th>0</th>\n",
       "      <td>119</td>\n",
       "      <td>12460</td>\n",
       "      <td>1.0</td>\n",
       "      <td>1603595</td>\n",
       "      <td>7230.0</td>\n",
       "      <td>5428.0</td>\n",
       "      <td>510d47e4-2955-a3d9-e040-e00a18064a99</td>\n",
       "    </tr>\n",
       "    <tr>\n",
       "      <th>1</th>\n",
       "      <td>120</td>\n",
       "      <td>12460</td>\n",
       "      <td>2.0</td>\n",
       "      <td>1603596</td>\n",
       "      <td>5428.0</td>\n",
       "      <td>7230.0</td>\n",
       "      <td>510d47e4-2956-a3d9-e040-e00a18064a99</td>\n",
       "    </tr>\n",
       "    <tr>\n",
       "      <th>2</th>\n",
       "      <td>121</td>\n",
       "      <td>12460</td>\n",
       "      <td>3.0</td>\n",
       "      <td>1603597</td>\n",
       "      <td>7230.0</td>\n",
       "      <td>5428.0</td>\n",
       "      <td>510d47e4-2957-a3d9-e040-e00a18064a99</td>\n",
       "    </tr>\n",
       "    <tr>\n",
       "      <th>3</th>\n",
       "      <td>122</td>\n",
       "      <td>12460</td>\n",
       "      <td>4.0</td>\n",
       "      <td>1603598</td>\n",
       "      <td>7230.0</td>\n",
       "      <td>5428.0</td>\n",
       "      <td>510d47e4-2958-a3d9-e040-e00a18064a99</td>\n",
       "    </tr>\n",
       "    <tr>\n",
       "      <th>4</th>\n",
       "      <td>123</td>\n",
       "      <td>12461</td>\n",
       "      <td>1.0</td>\n",
       "      <td>1603591</td>\n",
       "      <td>7230.0</td>\n",
       "      <td>5428.0</td>\n",
       "      <td>510d47e4-2959-a3d9-e040-e00a18064a99</td>\n",
       "    </tr>\n",
       "    <tr>\n",
       "      <th>...</th>\n",
       "      <td>...</td>\n",
       "      <td>...</td>\n",
       "      <td>...</td>\n",
       "      <td>...</td>\n",
       "      <td>...</td>\n",
       "      <td>...</td>\n",
       "      <td>...</td>\n",
       "    </tr>\n",
       "    <tr>\n",
       "      <th>66922</th>\n",
       "      <td>77417</td>\n",
       "      <td>35525</td>\n",
       "      <td>2.0</td>\n",
       "      <td>5194206</td>\n",
       "      <td>2942.0</td>\n",
       "      <td>1990.0</td>\n",
       "      <td>af4751c0-6212-0132-6245-58d385a7bbd0</td>\n",
       "    </tr>\n",
       "    <tr>\n",
       "      <th>66923</th>\n",
       "      <td>77418</td>\n",
       "      <td>35525</td>\n",
       "      <td>3.0</td>\n",
       "      <td>5194207</td>\n",
       "      <td>2837.0</td>\n",
       "      <td>2628.0</td>\n",
       "      <td>af604d50-6212-0132-b41d-58d385a7bbd0</td>\n",
       "    </tr>\n",
       "    <tr>\n",
       "      <th>66924</th>\n",
       "      <td>77419</td>\n",
       "      <td>35525</td>\n",
       "      <td>4.0</td>\n",
       "      <td>5194208</td>\n",
       "      <td>2852.0</td>\n",
       "      <td>2002.0</td>\n",
       "      <td>af7910c0-6212-0132-e227-58d385a7bbd0</td>\n",
       "    </tr>\n",
       "    <tr>\n",
       "      <th>66925</th>\n",
       "      <td>77420</td>\n",
       "      <td>35525</td>\n",
       "      <td>5.0</td>\n",
       "      <td>5194209</td>\n",
       "      <td>2835.0</td>\n",
       "      <td>1990.0</td>\n",
       "      <td>af92d3f0-6212-0132-6b8d-58d385a7bbd0</td>\n",
       "    </tr>\n",
       "    <tr>\n",
       "      <th>66926</th>\n",
       "      <td>77421</td>\n",
       "      <td>35525</td>\n",
       "      <td>6.0</td>\n",
       "      <td>5194210</td>\n",
       "      <td>2821.0</td>\n",
       "      <td>2130.0</td>\n",
       "      <td>afac7cc0-6212-0132-44a7-58d385a7bbd0</td>\n",
       "    </tr>\n",
       "  </tbody>\n",
       "</table>\n",
       "<p>5803 rows × 7 columns</p>\n",
       "</div>"
      ],
      "text/plain": [
       "          id  menu_id  page_number image_id  full_height  full_width  \\\n",
       "0        119    12460          1.0  1603595       7230.0      5428.0   \n",
       "1        120    12460          2.0  1603596       5428.0      7230.0   \n",
       "2        121    12460          3.0  1603597       7230.0      5428.0   \n",
       "3        122    12460          4.0  1603598       7230.0      5428.0   \n",
       "4        123    12461          1.0  1603591       7230.0      5428.0   \n",
       "...      ...      ...          ...      ...          ...         ...   \n",
       "66922  77417    35525          2.0  5194206       2942.0      1990.0   \n",
       "66923  77418    35525          3.0  5194207       2837.0      2628.0   \n",
       "66924  77419    35525          4.0  5194208       2852.0      2002.0   \n",
       "66925  77420    35525          5.0  5194209       2835.0      1990.0   \n",
       "66926  77421    35525          6.0  5194210       2821.0      2130.0   \n",
       "\n",
       "                                       uuid  \n",
       "0      510d47e4-2955-a3d9-e040-e00a18064a99  \n",
       "1      510d47e4-2956-a3d9-e040-e00a18064a99  \n",
       "2      510d47e4-2957-a3d9-e040-e00a18064a99  \n",
       "3      510d47e4-2958-a3d9-e040-e00a18064a99  \n",
       "4      510d47e4-2959-a3d9-e040-e00a18064a99  \n",
       "...                                     ...  \n",
       "66922  af4751c0-6212-0132-6245-58d385a7bbd0  \n",
       "66923  af604d50-6212-0132-b41d-58d385a7bbd0  \n",
       "66924  af7910c0-6212-0132-e227-58d385a7bbd0  \n",
       "66925  af92d3f0-6212-0132-6b8d-58d385a7bbd0  \n",
       "66926  afac7cc0-6212-0132-44a7-58d385a7bbd0  \n",
       "\n",
       "[5803 rows x 7 columns]"
      ]
     },
     "metadata": {},
     "output_type": "display_data"
    }
   ],
   "source": [
    "# IC Violations and Constraints\n",
    "\n",
    "# check for duplicate rows\n",
    "df = menu_page_clean\n",
    "dups = df[df.duplicated(subset=['id'], keep=False)]\n",
    "print(\"=== Duplicate Rows ===\")\n",
    "display(dups)\n",
    "\n",
    "# FK and PK\n",
    "# PK Verification\n",
    "counts = df.groupby('id')['id'].nunique()\n",
    "bad_id = counts[counts > 1].index\n",
    "bad_df = df[df['id'].isin(bad_id)]\n",
    "print(\"=== Duplicate Primary Keys ===\")\n",
    "display(bad_df)\n",
    "\n",
    "pk_violations = bad_df.groupby(['id']).size().to_dict()\n",
    "print(\"=== Primary Key Violations ===\")\n",
    "pk_violations\n",
    "\n",
    "# FK Verification\n",
    "bad_fk_menu_page = df[~df[\"menu_id\"].isin(menu[\"id\"])]\n",
    "print(\"=== Foreign Key Violations ===\")\n",
    "print(\"--- MenuPage to Menu - menu_id ---\")\n",
    "display(bad_fk_menu_page)"
   ]
  },
  {
   "cell_type": "markdown",
   "id": "251de833",
   "metadata": {},
   "source": [
    "## Menu Verify"
   ]
  },
  {
   "cell_type": "code",
   "execution_count": 24,
   "id": "0ff7f39a",
   "metadata": {},
   "outputs": [
    {
     "name": "stdout",
     "output_type": "stream",
     "text": [
      "res:\n",
      "9391\n"
     ]
    }
   ],
   "source": [
    "df = menu_clean\n",
    "# df.info(verbose=True)\n",
    "\n",
    "fields = [\"event\"]\n",
    "null = menu[fields].isnull()\n",
    "counts = null.sum()\n",
    "\n",
    "print(\"res:\")\n",
    "print(menu['event'].isnull().sum()) #/ float(len(menu['event'])))"
   ]
  },
  {
   "cell_type": "markdown",
   "id": "6e7fccc7",
   "metadata": {},
   "source": [
    "# Data Cleaning"
   ]
  },
  {
   "cell_type": "markdown",
   "id": "b64445da",
   "metadata": {},
   "source": [
    "## Foreign Key Violations - MenuItem"
   ]
  },
  {
   "cell_type": "code",
   "execution_count": 17,
   "id": "bc433a2e",
   "metadata": {},
   "outputs": [
    {
     "data": {
      "text/html": [
       "<div>\n",
       "<style scoped>\n",
       "    .dataframe tbody tr th:only-of-type {\n",
       "        vertical-align: middle;\n",
       "    }\n",
       "\n",
       "    .dataframe tbody tr th {\n",
       "        vertical-align: top;\n",
       "    }\n",
       "\n",
       "    .dataframe thead th {\n",
       "        text-align: right;\n",
       "    }\n",
       "</style>\n",
       "<table border=\"1\" class=\"dataframe\">\n",
       "  <thead>\n",
       "    <tr style=\"text-align: right;\">\n",
       "      <th></th>\n",
       "      <th>id</th>\n",
       "      <th>menu_page_id</th>\n",
       "      <th>price</th>\n",
       "      <th>high_price</th>\n",
       "      <th>dish_id</th>\n",
       "      <th>created_at</th>\n",
       "      <th>updated_at</th>\n",
       "      <th>xpos</th>\n",
       "      <th>ypos</th>\n",
       "    </tr>\n",
       "  </thead>\n",
       "  <tbody>\n",
       "  </tbody>\n",
       "</table>\n",
       "</div>"
      ],
      "text/plain": [
       "Empty DataFrame\n",
       "Columns: [id, menu_page_id, price, high_price, dish_id, created_at, updated_at, xpos, ypos]\n",
       "Index: []"
      ]
     },
     "metadata": {},
     "output_type": "display_data"
    },
    {
     "data": {
      "text/html": [
       "<div>\n",
       "<style scoped>\n",
       "    .dataframe tbody tr th:only-of-type {\n",
       "        vertical-align: middle;\n",
       "    }\n",
       "\n",
       "    .dataframe tbody tr th {\n",
       "        vertical-align: top;\n",
       "    }\n",
       "\n",
       "    .dataframe thead th {\n",
       "        text-align: right;\n",
       "    }\n",
       "</style>\n",
       "<table border=\"1\" class=\"dataframe\">\n",
       "  <thead>\n",
       "    <tr style=\"text-align: right;\">\n",
       "      <th></th>\n",
       "      <th>id</th>\n",
       "      <th>menu_page_id</th>\n",
       "      <th>price</th>\n",
       "      <th>high_price</th>\n",
       "      <th>dish_id</th>\n",
       "      <th>created_at</th>\n",
       "      <th>updated_at</th>\n",
       "      <th>xpos</th>\n",
       "      <th>ypos</th>\n",
       "    </tr>\n",
       "  </thead>\n",
       "  <tbody>\n",
       "  </tbody>\n",
       "</table>\n",
       "</div>"
      ],
      "text/plain": [
       "Empty DataFrame\n",
       "Columns: [id, menu_page_id, price, high_price, dish_id, created_at, updated_at, xpos, ypos]\n",
       "Index: []"
      ]
     },
     "metadata": {},
     "output_type": "display_data"
    }
   ],
   "source": [
    "# Since we cannot reconstruct what menu_page_id should be from within MenuItem, we must delete these rows\n",
    "menu_item_clean = menu_item_clean[~menu_item_clean[\"id\"].isin(bad_fk_menu_item_to_menu_page[\"id\"])]\n",
    "\n",
    "# Verify all foreign key constraints have been resolved\n",
    "display(menu_item_clean[~menu_item_clean[\"menu_page_id\"].isin(menu_page[\"id\"])])\n",
    "\n"
   ]
  },
  {
   "cell_type": "code",
   "execution_count": 18,
   "id": "e94e3409",
   "metadata": {},
   "outputs": [
    {
     "data": {
      "text/html": [
       "<div>\n",
       "<style scoped>\n",
       "    .dataframe tbody tr th:only-of-type {\n",
       "        vertical-align: middle;\n",
       "    }\n",
       "\n",
       "    .dataframe tbody tr th {\n",
       "        vertical-align: top;\n",
       "    }\n",
       "\n",
       "    .dataframe thead th {\n",
       "        text-align: right;\n",
       "    }\n",
       "</style>\n",
       "<table border=\"1\" class=\"dataframe\">\n",
       "  <thead>\n",
       "    <tr style=\"text-align: right;\">\n",
       "      <th></th>\n",
       "      <th>id</th>\n",
       "      <th>menu_id</th>\n",
       "      <th>page_number</th>\n",
       "      <th>image_id</th>\n",
       "      <th>full_height</th>\n",
       "      <th>full_width</th>\n",
       "      <th>uuid</th>\n",
       "    </tr>\n",
       "  </thead>\n",
       "  <tbody>\n",
       "  </tbody>\n",
       "</table>\n",
       "</div>"
      ],
      "text/plain": [
       "Empty DataFrame\n",
       "Columns: [id, menu_id, page_number, image_id, full_height, full_width, uuid]\n",
       "Index: []"
      ]
     },
     "metadata": {},
     "output_type": "display_data"
    }
   ],
   "source": [
    "# Since we cannot reconstruct what menu_id should be within MenuPage, we must delete these rows\n",
    "menu_page_clean = menu_page_clean[~menu_page_clean[\"id\"].isin(bad_fk_menu_page[\"id\"])]\n",
    "\n",
    "# Verify all foreign key constraints have been resolved\n",
    "display(menu_page_clean[~menu_page_clean[\"menu_id\"].isin(menu[\"id\"])])\n",
    "\n"
   ]
  },
  {
   "cell_type": "code",
   "execution_count": null,
   "id": "3cfde24a",
   "metadata": {},
   "outputs": [],
   "source": [
    "# save cleaned csvs\n",
    "\n",
    "parent_folder = \"NYPL-menus-clean\"\n",
    "menu_item_clean.to_csv(f\"{parent_folder}/menu_item_clean.csv\")\n",
    "menu_page_clean.to_csv(f\"{parent_folder}/menu_page_clean.csv\")"
   ]
  }
 ],
 "metadata": {
  "kernelspec": {
   "display_name": "base",
   "language": "python",
   "name": "python3"
  },
  "language_info": {
   "codemirror_mode": {
    "name": "ipython",
    "version": 3
   },
   "file_extension": ".py",
   "mimetype": "text/x-python",
   "name": "python",
   "nbconvert_exporter": "python",
   "pygments_lexer": "ipython3",
   "version": "3.9.18"
  }
 },
 "nbformat": 4,
 "nbformat_minor": 5
}
