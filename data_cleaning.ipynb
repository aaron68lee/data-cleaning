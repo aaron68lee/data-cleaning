{
 "cells": [
  {
   "cell_type": "markdown",
   "id": "927a43ae",
   "metadata": {},
   "source": [
    "# Load Data - CS 513 Data Cleaning Final Project\n",
    "\n",
    "Team 162 - Miffy's Kitchen"
   ]
  },
  {
   "cell_type": "code",
   "execution_count": 1,
   "id": "3988728a",
   "metadata": {},
   "outputs": [],
   "source": [
    "import pandas as pd\n",
    "\n",
    "# Load raw CSVs into DataFrame\n",
    "parent_folder = 'NYPL-menus'\n",
    "dish = pd.read_csv(f\"{parent_folder}/Dish.csv\")\n",
    "menu = pd.read_csv(f\"{parent_folder}/Menu.csv\")\n",
    "menu_item = pd.read_csv(f\"{parent_folder}/MenuItem.csv\")\n",
    "menu_page = pd.read_csv(f\"{parent_folder}/MenuPage.csv\")\n",
    "\n",
    "# display(dish)\n",
    "# display(menu)\n",
    "# display(menu_item)\n",
    "# display(menu_page)"
   ]
  },
  {
   "cell_type": "markdown",
   "id": "224a6c8d",
   "metadata": {},
   "source": [
    "# *Data Profiling*"
   ]
  },
  {
   "cell_type": "markdown",
   "id": "2051b590",
   "metadata": {},
   "source": [
    "## Dish Profile"
   ]
  },
  {
   "cell_type": "code",
   "execution_count": 2,
   "id": "5ca3b036",
   "metadata": {},
   "outputs": [
    {
     "data": {
      "text/html": [
       "<div>\n",
       "<style scoped>\n",
       "    .dataframe tbody tr th:only-of-type {\n",
       "        vertical-align: middle;\n",
       "    }\n",
       "\n",
       "    .dataframe tbody tr th {\n",
       "        vertical-align: top;\n",
       "    }\n",
       "\n",
       "    .dataframe thead th {\n",
       "        text-align: right;\n",
       "    }\n",
       "</style>\n",
       "<table border=\"1\" class=\"dataframe\">\n",
       "  <thead>\n",
       "    <tr style=\"text-align: right;\">\n",
       "      <th></th>\n",
       "      <th>id</th>\n",
       "      <th>description</th>\n",
       "      <th>menus_appeared</th>\n",
       "      <th>times_appeared</th>\n",
       "      <th>first_appeared</th>\n",
       "      <th>last_appeared</th>\n",
       "      <th>lowest_price</th>\n",
       "      <th>highest_price</th>\n",
       "    </tr>\n",
       "  </thead>\n",
       "  <tbody>\n",
       "    <tr>\n",
       "      <th>count</th>\n",
       "      <td>423397.000000</td>\n",
       "      <td>0.0</td>\n",
       "      <td>423397.000000</td>\n",
       "      <td>423397.000000</td>\n",
       "      <td>423397.000000</td>\n",
       "      <td>423397.000000</td>\n",
       "      <td>394297.000000</td>\n",
       "      <td>394297.000000</td>\n",
       "    </tr>\n",
       "    <tr>\n",
       "      <th>mean</th>\n",
       "      <td>264456.594900</td>\n",
       "      <td>NaN</td>\n",
       "      <td>3.060489</td>\n",
       "      <td>3.146794</td>\n",
       "      <td>1675.514555</td>\n",
       "      <td>1679.299738</td>\n",
       "      <td>0.965265</td>\n",
       "      <td>1.603875</td>\n",
       "    </tr>\n",
       "    <tr>\n",
       "      <th>std</th>\n",
       "      <td>150489.070889</td>\n",
       "      <td>NaN</td>\n",
       "      <td>27.818178</td>\n",
       "      <td>29.962122</td>\n",
       "      <td>651.321461</td>\n",
       "      <td>651.934580</td>\n",
       "      <td>6.714564</td>\n",
       "      <td>12.696274</td>\n",
       "    </tr>\n",
       "    <tr>\n",
       "      <th>min</th>\n",
       "      <td>1.000000</td>\n",
       "      <td>NaN</td>\n",
       "      <td>0.000000</td>\n",
       "      <td>-6.000000</td>\n",
       "      <td>0.000000</td>\n",
       "      <td>0.000000</td>\n",
       "      <td>0.000000</td>\n",
       "      <td>0.000000</td>\n",
       "    </tr>\n",
       "    <tr>\n",
       "      <th>25%</th>\n",
       "      <td>132374.000000</td>\n",
       "      <td>NaN</td>\n",
       "      <td>1.000000</td>\n",
       "      <td>1.000000</td>\n",
       "      <td>1900.000000</td>\n",
       "      <td>1900.000000</td>\n",
       "      <td>0.000000</td>\n",
       "      <td>0.000000</td>\n",
       "    </tr>\n",
       "    <tr>\n",
       "      <th>50%</th>\n",
       "      <td>269636.000000</td>\n",
       "      <td>NaN</td>\n",
       "      <td>1.000000</td>\n",
       "      <td>1.000000</td>\n",
       "      <td>1914.000000</td>\n",
       "      <td>1917.000000</td>\n",
       "      <td>0.000000</td>\n",
       "      <td>0.000000</td>\n",
       "    </tr>\n",
       "    <tr>\n",
       "      <th>75%</th>\n",
       "      <td>397135.000000</td>\n",
       "      <td>NaN</td>\n",
       "      <td>1.000000</td>\n",
       "      <td>1.000000</td>\n",
       "      <td>1949.000000</td>\n",
       "      <td>1955.000000</td>\n",
       "      <td>0.400000</td>\n",
       "      <td>0.600000</td>\n",
       "    </tr>\n",
       "    <tr>\n",
       "      <th>max</th>\n",
       "      <td>515677.000000</td>\n",
       "      <td>NaN</td>\n",
       "      <td>7740.000000</td>\n",
       "      <td>8484.000000</td>\n",
       "      <td>2928.000000</td>\n",
       "      <td>2928.000000</td>\n",
       "      <td>1035.000000</td>\n",
       "      <td>3050.000000</td>\n",
       "    </tr>\n",
       "  </tbody>\n",
       "</table>\n",
       "</div>"
      ],
      "text/plain": [
       "                  id  description  menus_appeared  times_appeared  \\\n",
       "count  423397.000000          0.0   423397.000000   423397.000000   \n",
       "mean   264456.594900          NaN        3.060489        3.146794   \n",
       "std    150489.070889          NaN       27.818178       29.962122   \n",
       "min         1.000000          NaN        0.000000       -6.000000   \n",
       "25%    132374.000000          NaN        1.000000        1.000000   \n",
       "50%    269636.000000          NaN        1.000000        1.000000   \n",
       "75%    397135.000000          NaN        1.000000        1.000000   \n",
       "max    515677.000000          NaN     7740.000000     8484.000000   \n",
       "\n",
       "       first_appeared  last_appeared   lowest_price  highest_price  \n",
       "count   423397.000000  423397.000000  394297.000000  394297.000000  \n",
       "mean      1675.514555    1679.299738       0.965265       1.603875  \n",
       "std        651.321461     651.934580       6.714564      12.696274  \n",
       "min          0.000000       0.000000       0.000000       0.000000  \n",
       "25%       1900.000000    1900.000000       0.000000       0.000000  \n",
       "50%       1914.000000    1917.000000       0.000000       0.000000  \n",
       "75%       1949.000000    1955.000000       0.400000       0.600000  \n",
       "max       2928.000000    2928.000000    1035.000000    3050.000000  "
      ]
     },
     "execution_count": 2,
     "metadata": {},
     "output_type": "execute_result"
    }
   ],
   "source": [
    "dish.describe()"
   ]
  },
  {
   "cell_type": "code",
   "execution_count": 3,
   "id": "1d97e9b7",
   "metadata": {},
   "outputs": [
    {
     "name": "stdout",
     "output_type": "stream",
     "text": [
      "<class 'pandas.core.frame.DataFrame'>\n",
      "RangeIndex: 423397 entries, 0 to 423396\n",
      "Data columns (total 9 columns):\n",
      " #   Column          Non-Null Count   Dtype  \n",
      "---  ------          --------------   -----  \n",
      " 0   id              423397 non-null  int64  \n",
      " 1   name            423397 non-null  object \n",
      " 2   description     0 non-null       float64\n",
      " 3   menus_appeared  423397 non-null  int64  \n",
      " 4   times_appeared  423397 non-null  int64  \n",
      " 5   first_appeared  423397 non-null  int64  \n",
      " 6   last_appeared   423397 non-null  int64  \n",
      " 7   lowest_price    394297 non-null  float64\n",
      " 8   highest_price   394297 non-null  float64\n",
      "dtypes: float64(3), int64(5), object(1)\n",
      "memory usage: 29.1+ MB\n"
     ]
    },
    {
     "data": {
      "text/plain": [
       "description      423397\n",
       "lowest_price      29100\n",
       "highest_price     29100\n",
       "dtype: int64"
      ]
     },
     "execution_count": 3,
     "metadata": {},
     "output_type": "execute_result"
    }
   ],
   "source": [
    "df = dish\n",
    "df.info(verbose=True)\n",
    "\n",
    "columns_with_mv = df.columns[df.isnull().any()]\n",
    "df[columns_with_mv].isnull().sum()"
   ]
  },
  {
   "cell_type": "markdown",
   "id": "e24edc64",
   "metadata": {},
   "source": [
    "## MenuItem Profile"
   ]
  },
  {
   "cell_type": "code",
   "execution_count": 4,
   "id": "9d59a652",
   "metadata": {},
   "outputs": [
    {
     "data": {
      "text/html": [
       "<div>\n",
       "<style scoped>\n",
       "    .dataframe tbody tr th:only-of-type {\n",
       "        vertical-align: middle;\n",
       "    }\n",
       "\n",
       "    .dataframe tbody tr th {\n",
       "        vertical-align: top;\n",
       "    }\n",
       "\n",
       "    .dataframe thead th {\n",
       "        text-align: right;\n",
       "    }\n",
       "</style>\n",
       "<table border=\"1\" class=\"dataframe\">\n",
       "  <thead>\n",
       "    <tr style=\"text-align: right;\">\n",
       "      <th></th>\n",
       "      <th>id</th>\n",
       "      <th>menu_page_id</th>\n",
       "      <th>price</th>\n",
       "      <th>high_price</th>\n",
       "      <th>dish_id</th>\n",
       "      <th>xpos</th>\n",
       "      <th>ypos</th>\n",
       "    </tr>\n",
       "  </thead>\n",
       "  <tbody>\n",
       "    <tr>\n",
       "      <th>count</th>\n",
       "      <td>1.332726e+06</td>\n",
       "      <td>1.332726e+06</td>\n",
       "      <td>886810.000000</td>\n",
       "      <td>91905.000000</td>\n",
       "      <td>1.332485e+06</td>\n",
       "      <td>1.332726e+06</td>\n",
       "      <td>1.332726e+06</td>\n",
       "    </tr>\n",
       "    <tr>\n",
       "      <th>mean</th>\n",
       "      <td>6.978984e+05</td>\n",
       "      <td>4.759487e+04</td>\n",
       "      <td>12.838627</td>\n",
       "      <td>8.106321</td>\n",
       "      <td>1.580110e+05</td>\n",
       "      <td>3.890132e-01</td>\n",
       "      <td>5.497062e-01</td>\n",
       "    </tr>\n",
       "    <tr>\n",
       "      <th>std</th>\n",
       "      <td>3.999807e+05</td>\n",
       "      <td>2.203921e+04</td>\n",
       "      <td>499.547387</td>\n",
       "      <td>90.095222</td>\n",
       "      <td>1.677620e+05</td>\n",
       "      <td>2.208378e-01</td>\n",
       "      <td>2.239532e-01</td>\n",
       "    </tr>\n",
       "    <tr>\n",
       "      <th>min</th>\n",
       "      <td>1.000000e+00</td>\n",
       "      <td>1.300000e+02</td>\n",
       "      <td>0.000000</td>\n",
       "      <td>0.000000</td>\n",
       "      <td>1.000000e+00</td>\n",
       "      <td>0.000000e+00</td>\n",
       "      <td>0.000000e+00</td>\n",
       "    </tr>\n",
       "    <tr>\n",
       "      <th>25%</th>\n",
       "      <td>3.502512e+05</td>\n",
       "      <td>3.204900e+04</td>\n",
       "      <td>0.250000</td>\n",
       "      <td>0.500000</td>\n",
       "      <td>5.089000e+03</td>\n",
       "      <td>1.842860e-01</td>\n",
       "      <td>3.669165e-01</td>\n",
       "    </tr>\n",
       "    <tr>\n",
       "      <th>50%</th>\n",
       "      <td>7.024105e+05</td>\n",
       "      <td>5.337100e+04</td>\n",
       "      <td>0.400000</td>\n",
       "      <td>1.250000</td>\n",
       "      <td>8.070000e+04</td>\n",
       "      <td>3.771430e-01</td>\n",
       "      <td>5.672940e-01</td>\n",
       "    </tr>\n",
       "    <tr>\n",
       "      <th>75%</th>\n",
       "      <td>1.045549e+06</td>\n",
       "      <td>6.682300e+04</td>\n",
       "      <td>1.000000</td>\n",
       "      <td>3.000000</td>\n",
       "      <td>3.325240e+05</td>\n",
       "      <td>5.653330e-01</td>\n",
       "      <td>7.385308e-01</td>\n",
       "    </tr>\n",
       "    <tr>\n",
       "      <th>max</th>\n",
       "      <td>1.385906e+06</td>\n",
       "      <td>7.742500e+04</td>\n",
       "      <td>180000.000000</td>\n",
       "      <td>7800.000000</td>\n",
       "      <td>5.156770e+05</td>\n",
       "      <td>9.853330e-01</td>\n",
       "      <td>9.982300e-01</td>\n",
       "    </tr>\n",
       "  </tbody>\n",
       "</table>\n",
       "</div>"
      ],
      "text/plain": [
       "                 id  menu_page_id          price    high_price       dish_id  \\\n",
       "count  1.332726e+06  1.332726e+06  886810.000000  91905.000000  1.332485e+06   \n",
       "mean   6.978984e+05  4.759487e+04      12.838627      8.106321  1.580110e+05   \n",
       "std    3.999807e+05  2.203921e+04     499.547387     90.095222  1.677620e+05   \n",
       "min    1.000000e+00  1.300000e+02       0.000000      0.000000  1.000000e+00   \n",
       "25%    3.502512e+05  3.204900e+04       0.250000      0.500000  5.089000e+03   \n",
       "50%    7.024105e+05  5.337100e+04       0.400000      1.250000  8.070000e+04   \n",
       "75%    1.045549e+06  6.682300e+04       1.000000      3.000000  3.325240e+05   \n",
       "max    1.385906e+06  7.742500e+04  180000.000000   7800.000000  5.156770e+05   \n",
       "\n",
       "               xpos          ypos  \n",
       "count  1.332726e+06  1.332726e+06  \n",
       "mean   3.890132e-01  5.497062e-01  \n",
       "std    2.208378e-01  2.239532e-01  \n",
       "min    0.000000e+00  0.000000e+00  \n",
       "25%    1.842860e-01  3.669165e-01  \n",
       "50%    3.771430e-01  5.672940e-01  \n",
       "75%    5.653330e-01  7.385308e-01  \n",
       "max    9.853330e-01  9.982300e-01  "
      ]
     },
     "execution_count": 4,
     "metadata": {},
     "output_type": "execute_result"
    }
   ],
   "source": [
    "menu_item.describe()"
   ]
  },
  {
   "cell_type": "code",
   "execution_count": 5,
   "id": "b2bbc632",
   "metadata": {},
   "outputs": [
    {
     "name": "stdout",
     "output_type": "stream",
     "text": [
      "<class 'pandas.core.frame.DataFrame'>\n",
      "RangeIndex: 1332726 entries, 0 to 1332725\n",
      "Data columns (total 9 columns):\n",
      " #   Column        Non-Null Count    Dtype  \n",
      "---  ------        --------------    -----  \n",
      " 0   id            1332726 non-null  int64  \n",
      " 1   menu_page_id  1332726 non-null  int64  \n",
      " 2   price         886810 non-null   float64\n",
      " 3   high_price    91905 non-null    float64\n",
      " 4   dish_id       1332485 non-null  float64\n",
      " 5   created_at    1332726 non-null  object \n",
      " 6   updated_at    1332726 non-null  object \n",
      " 7   xpos          1332726 non-null  float64\n",
      " 8   ypos          1332726 non-null  float64\n",
      "dtypes: float64(5), int64(2), object(2)\n",
      "memory usage: 91.5+ MB\n"
     ]
    }
   ],
   "source": [
    "df = menu_item\n",
    "df.info(verbose=True)"
   ]
  },
  {
   "cell_type": "code",
   "execution_count": 6,
   "id": "93f54c30",
   "metadata": {},
   "outputs": [
    {
     "name": "stdout",
     "output_type": "stream",
     "text": [
      "=== Null Count ===\n",
      "price            445916\n",
      "high_price      1240821\n",
      "menu_page_id          0\n",
      "dish_id             241\n",
      "dtype: int64\n",
      "=== Null Percent ===\n",
      "price           0.334589\n",
      "high_price      0.931040\n",
      "menu_page_id    0.000000\n",
      "dish_id         0.000181\n",
      "dtype: float64\n"
     ]
    }
   ],
   "source": [
    "# null count as percentage or sum\n",
    "fields = [\"price\", \"high_price\", \"menu_page_id\", \"dish_id\"]\n",
    "null = menu_item[fields].isnull()\n",
    "counts = null.sum()\n",
    "\n",
    "print(\"=== Null Count ===\")\n",
    "print(counts)\n",
    "print(\"=== Null Percent ===\")\n",
    "print(null.mean())"
   ]
  },
  {
   "cell_type": "code",
   "execution_count": 7,
   "id": "60baa91e",
   "metadata": {},
   "outputs": [
    {
     "name": "stdout",
     "output_type": "stream",
     "text": [
      "=== Duplicate Rows ===\n"
     ]
    },
    {
     "data": {
      "text/html": [
       "<div>\n",
       "<style scoped>\n",
       "    .dataframe tbody tr th:only-of-type {\n",
       "        vertical-align: middle;\n",
       "    }\n",
       "\n",
       "    .dataframe tbody tr th {\n",
       "        vertical-align: top;\n",
       "    }\n",
       "\n",
       "    .dataframe thead th {\n",
       "        text-align: right;\n",
       "    }\n",
       "</style>\n",
       "<table border=\"1\" class=\"dataframe\">\n",
       "  <thead>\n",
       "    <tr style=\"text-align: right;\">\n",
       "      <th></th>\n",
       "      <th>id</th>\n",
       "      <th>menu_page_id</th>\n",
       "      <th>price</th>\n",
       "      <th>high_price</th>\n",
       "      <th>dish_id</th>\n",
       "      <th>created_at</th>\n",
       "      <th>updated_at</th>\n",
       "      <th>xpos</th>\n",
       "      <th>ypos</th>\n",
       "    </tr>\n",
       "  </thead>\n",
       "  <tbody>\n",
       "  </tbody>\n",
       "</table>\n",
       "</div>"
      ],
      "text/plain": [
       "Empty DataFrame\n",
       "Columns: [id, menu_page_id, price, high_price, dish_id, created_at, updated_at, xpos, ypos]\n",
       "Index: []"
      ]
     },
     "metadata": {},
     "output_type": "display_data"
    },
    {
     "name": "stdout",
     "output_type": "stream",
     "text": [
      "=== Duplicate Primary Keys ===\n"
     ]
    },
    {
     "data": {
      "text/html": [
       "<div>\n",
       "<style scoped>\n",
       "    .dataframe tbody tr th:only-of-type {\n",
       "        vertical-align: middle;\n",
       "    }\n",
       "\n",
       "    .dataframe tbody tr th {\n",
       "        vertical-align: top;\n",
       "    }\n",
       "\n",
       "    .dataframe thead th {\n",
       "        text-align: right;\n",
       "    }\n",
       "</style>\n",
       "<table border=\"1\" class=\"dataframe\">\n",
       "  <thead>\n",
       "    <tr style=\"text-align: right;\">\n",
       "      <th></th>\n",
       "      <th>id</th>\n",
       "      <th>menu_page_id</th>\n",
       "      <th>price</th>\n",
       "      <th>high_price</th>\n",
       "      <th>dish_id</th>\n",
       "      <th>created_at</th>\n",
       "      <th>updated_at</th>\n",
       "      <th>xpos</th>\n",
       "      <th>ypos</th>\n",
       "    </tr>\n",
       "  </thead>\n",
       "  <tbody>\n",
       "  </tbody>\n",
       "</table>\n",
       "</div>"
      ],
      "text/plain": [
       "Empty DataFrame\n",
       "Columns: [id, menu_page_id, price, high_price, dish_id, created_at, updated_at, xpos, ypos]\n",
       "Index: []"
      ]
     },
     "metadata": {},
     "output_type": "display_data"
    },
    {
     "name": "stdout",
     "output_type": "stream",
     "text": [
      "=== Primary Key Violations ===\n"
     ]
    },
    {
     "data": {
      "text/plain": [
       "{}"
      ]
     },
     "metadata": {},
     "output_type": "display_data"
    },
    {
     "name": "stdout",
     "output_type": "stream",
     "text": [
      "=== Foreign Key Violations ===\n",
      "--- MenuItem to Dish - dish_id ---\n"
     ]
    },
    {
     "data": {
      "text/plain": [
       "17058           NaN\n",
       "20044           NaN\n",
       "28458           NaN\n",
       "30291           NaN\n",
       "33111           NaN\n",
       "             ...   \n",
       "889158          NaN\n",
       "930243          NaN\n",
       "936817          NaN\n",
       "939086          NaN\n",
       "1001144    395403.0\n",
       "Name: dish_id, Length: 244, dtype: float64"
      ]
     },
     "metadata": {},
     "output_type": "display_data"
    },
    {
     "name": "stdout",
     "output_type": "stream",
     "text": [
      "--- MenuItem to Menu - menu_page_id ---\n"
     ]
    },
    {
     "data": {
      "text/plain": [
       "Series([], Name: menu_page_id, dtype: int64)"
      ]
     },
     "metadata": {},
     "output_type": "display_data"
    }
   ],
   "source": [
    "# IC Violations and Constraints\n",
    "\n",
    "# check for duplicate rows\n",
    "df = menu_item\n",
    "dups = df[df.duplicated(subset=['id'], keep=False)]\n",
    "print(\"=== Duplicate Rows ===\")\n",
    "display(dups)\n",
    "\n",
    "# FK and PK\n",
    "# PK Verification\n",
    "counts = df.groupby('id')['id'].nunique()\n",
    "bad_id = counts[counts > 1].index\n",
    "bad_df = df[df['id'].isin(bad_id)]\n",
    "print(\"=== Duplicate Primary Keys ===\")\n",
    "display(bad_df)\n",
    "\n",
    "pk_violations = bad_df.groupby(['id']).size().to_dict()\n",
    "print(\"=== Primary Key Violations ===\")\n",
    "display(pk_violations)\n",
    "\n",
    "# FK Verification\n",
    "bad_fk_menu_item_to_dish = df[~df[\"dish_id\"].isin(dish[\"id\"])]\n",
    "bad_fk_menu_item_to_menu_page = df[~df[\"menu_page_id\"].isin(menu_page[\"id\"])]\n",
    "print(\"=== Foreign Key Violations ===\")\n",
    "print(\"--- MenuItem to Dish - dish_id ---\")\n",
    "display(bad_fk_menu_item_to_dish[\"dish_id\"])\n",
    "print(\"--- MenuItem to Menu - menu_page_id ---\")\n",
    "display(bad_fk_menu_item_to_menu_page[\"menu_page_id\"])"
   ]
  },
  {
   "cell_type": "markdown",
   "id": "ebf0acd4",
   "metadata": {},
   "source": [
    "## MenuPage Profile"
   ]
  },
  {
   "cell_type": "code",
   "execution_count": 8,
   "id": "87697c4a",
   "metadata": {},
   "outputs": [
    {
     "name": "stdout",
     "output_type": "stream",
     "text": [
      "=== Null Count ===\n",
      "id         0\n",
      "menu_id    0\n",
      "dtype: int64\n",
      "=== Null Percent ===\n",
      "id         0.0\n",
      "menu_id    0.0\n",
      "dtype: float64\n"
     ]
    }
   ],
   "source": [
    "# null count as percentage or sum\n",
    "fields = [\"id\", \"menu_id\"]\n",
    "null = menu_page[fields].isnull()\n",
    "counts = null.sum()\n",
    "\n",
    "print(\"=== Null Count ===\")\n",
    "print(counts)\n",
    "print(\"=== Null Percent ===\")\n",
    "print(null.mean())"
   ]
  },
  {
   "cell_type": "code",
   "execution_count": 9,
   "id": "31e4e3bd",
   "metadata": {},
   "outputs": [
    {
     "name": "stdout",
     "output_type": "stream",
     "text": [
      "=== Duplicate Rows ===\n"
     ]
    },
    {
     "data": {
      "text/html": [
       "<div>\n",
       "<style scoped>\n",
       "    .dataframe tbody tr th:only-of-type {\n",
       "        vertical-align: middle;\n",
       "    }\n",
       "\n",
       "    .dataframe tbody tr th {\n",
       "        vertical-align: top;\n",
       "    }\n",
       "\n",
       "    .dataframe thead th {\n",
       "        text-align: right;\n",
       "    }\n",
       "</style>\n",
       "<table border=\"1\" class=\"dataframe\">\n",
       "  <thead>\n",
       "    <tr style=\"text-align: right;\">\n",
       "      <th></th>\n",
       "      <th>id</th>\n",
       "      <th>menu_id</th>\n",
       "      <th>page_number</th>\n",
       "      <th>image_id</th>\n",
       "      <th>full_height</th>\n",
       "      <th>full_width</th>\n",
       "      <th>uuid</th>\n",
       "    </tr>\n",
       "  </thead>\n",
       "  <tbody>\n",
       "  </tbody>\n",
       "</table>\n",
       "</div>"
      ],
      "text/plain": [
       "Empty DataFrame\n",
       "Columns: [id, menu_id, page_number, image_id, full_height, full_width, uuid]\n",
       "Index: []"
      ]
     },
     "metadata": {},
     "output_type": "display_data"
    }
   ],
   "source": [
    "# IC Violations and Constraints\n",
    "\n",
    "# check for duplicate rows\n",
    "df = menu_page\n",
    "dups = df[df.duplicated(subset=['id'], keep=False)]\n",
    "print(\"=== Duplicate Rows ===\")\n",
    "display(dups)\n"
   ]
  },
  {
   "cell_type": "code",
   "execution_count": 10,
   "id": "a0cd365c",
   "metadata": {},
   "outputs": [
    {
     "name": "stdout",
     "output_type": "stream",
     "text": [
      "=== Duplicate Primary Keys ===\n"
     ]
    },
    {
     "data": {
      "text/html": [
       "<div>\n",
       "<style scoped>\n",
       "    .dataframe tbody tr th:only-of-type {\n",
       "        vertical-align: middle;\n",
       "    }\n",
       "\n",
       "    .dataframe tbody tr th {\n",
       "        vertical-align: top;\n",
       "    }\n",
       "\n",
       "    .dataframe thead th {\n",
       "        text-align: right;\n",
       "    }\n",
       "</style>\n",
       "<table border=\"1\" class=\"dataframe\">\n",
       "  <thead>\n",
       "    <tr style=\"text-align: right;\">\n",
       "      <th></th>\n",
       "      <th>id</th>\n",
       "      <th>menu_id</th>\n",
       "      <th>page_number</th>\n",
       "      <th>image_id</th>\n",
       "      <th>full_height</th>\n",
       "      <th>full_width</th>\n",
       "      <th>uuid</th>\n",
       "    </tr>\n",
       "  </thead>\n",
       "  <tbody>\n",
       "  </tbody>\n",
       "</table>\n",
       "</div>"
      ],
      "text/plain": [
       "Empty DataFrame\n",
       "Columns: [id, menu_id, page_number, image_id, full_height, full_width, uuid]\n",
       "Index: []"
      ]
     },
     "metadata": {},
     "output_type": "display_data"
    },
    {
     "name": "stdout",
     "output_type": "stream",
     "text": [
      "=== Primary Key Violations ===\n"
     ]
    },
    {
     "data": {
      "text/plain": [
       "{}"
      ]
     },
     "metadata": {},
     "output_type": "display_data"
    },
    {
     "name": "stdout",
     "output_type": "stream",
     "text": [
      "=== Foreign Key Violations ===\n",
      "--- MenuPage to Menu - menu_id ---\n"
     ]
    },
    {
     "data": {
      "text/plain": [
       "0        12460\n",
       "1        12460\n",
       "2        12460\n",
       "3        12460\n",
       "4        12461\n",
       "         ...  \n",
       "66922    35525\n",
       "66923    35525\n",
       "66924    35525\n",
       "66925    35525\n",
       "66926    35525\n",
       "Name: menu_id, Length: 5803, dtype: int64"
      ]
     },
     "metadata": {},
     "output_type": "display_data"
    }
   ],
   "source": [
    "\n",
    "# FK and PK\n",
    "# PK Verification\n",
    "counts = df.groupby('id')['id'].nunique()\n",
    "bad_id = counts[counts > 1].index\n",
    "bad_df = df[df['id'].isin(bad_id)]\n",
    "print(\"=== Duplicate Primary Keys ===\")\n",
    "display(bad_df)\n",
    "\n",
    "pk_violations = bad_df.groupby(['id', 'id']).size().to_dict()\n",
    "print(\"=== Primary Key Violations ===\")\n",
    "display(pk_violations)\n",
    "\n",
    "# FK Verification\n",
    "bad_fk_menu_page = df[~df[\"menu_id\"].isin(menu[\"id\"])]\n",
    "print(\"=== Foreign Key Violations ===\")\n",
    "print(\"--- MenuPage to Menu - menu_id ---\")\n",
    "display(bad_fk_menu_page[\"menu_id\"])"
   ]
  },
  {
   "cell_type": "markdown",
   "id": "8c0c1113",
   "metadata": {},
   "source": [
    "# *OpenRefine Cleaning Verification*"
   ]
  },
  {
   "cell_type": "code",
   "execution_count": 11,
   "id": "d001b5c8",
   "metadata": {},
   "outputs": [],
   "source": [
    "parent_folder = 'NYPL-menus-clean'\n",
    "# dish = pd.read_csv(f\"{parent_folder}/Dish.csv\")\n",
    "# menu = pd.read_csv(f\"{parent_folder}/Menu.csv\")\n",
    "menu_item_clean = pd.read_csv(f\"{parent_folder}/MenuItem.csv\")\n",
    "menu_page_clean = pd.read_csv(f\"{parent_folder}/MenuPage.csv\")"
   ]
  },
  {
   "cell_type": "markdown",
   "id": "9ca7aaf0",
   "metadata": {},
   "source": [
    "## Dish Verify"
   ]
  },
  {
   "cell_type": "code",
   "execution_count": 12,
   "id": "c610e985",
   "metadata": {},
   "outputs": [
    {
     "name": "stdout",
     "output_type": "stream",
     "text": [
      "=== Count ===\n",
      "description    423397\n",
      "dtype: int64\n",
      "=== Percent ===\n",
      "description    1.0\n",
      "dtype: float64\n"
     ]
    }
   ],
   "source": [
    "# null count as percentage or sum\n",
    "fields = ['description']\n",
    "null = dish[fields].isnull()\n",
    "counts = null.sum()\n",
    "\n",
    "print(\"=== Count ===\")\n",
    "print(counts)\n",
    "print(\"=== Percent ===\")\n",
    "print(null.mean())"
   ]
  },
  {
   "cell_type": "code",
   "execution_count": 13,
   "id": "433d7b20",
   "metadata": {},
   "outputs": [
    {
     "data": {
      "text/html": [
       "<div>\n",
       "<style scoped>\n",
       "    .dataframe tbody tr th:only-of-type {\n",
       "        vertical-align: middle;\n",
       "    }\n",
       "\n",
       "    .dataframe tbody tr th {\n",
       "        vertical-align: top;\n",
       "    }\n",
       "\n",
       "    .dataframe thead th {\n",
       "        text-align: right;\n",
       "    }\n",
       "</style>\n",
       "<table border=\"1\" class=\"dataframe\">\n",
       "  <thead>\n",
       "    <tr style=\"text-align: right;\">\n",
       "      <th></th>\n",
       "      <th>id</th>\n",
       "      <th>name</th>\n",
       "      <th>description</th>\n",
       "      <th>menus_appeared</th>\n",
       "      <th>times_appeared</th>\n",
       "      <th>first_appeared</th>\n",
       "      <th>last_appeared</th>\n",
       "      <th>lowest_price</th>\n",
       "      <th>highest_price</th>\n",
       "    </tr>\n",
       "  </thead>\n",
       "  <tbody>\n",
       "  </tbody>\n",
       "</table>\n",
       "</div>"
      ],
      "text/plain": [
       "Empty DataFrame\n",
       "Columns: [id, name, description, menus_appeared, times_appeared, first_appeared, last_appeared, lowest_price, highest_price]\n",
       "Index: []"
      ]
     },
     "metadata": {},
     "output_type": "display_data"
    },
    {
     "data": {
      "text/html": [
       "<div>\n",
       "<style scoped>\n",
       "    .dataframe tbody tr th:only-of-type {\n",
       "        vertical-align: middle;\n",
       "    }\n",
       "\n",
       "    .dataframe tbody tr th {\n",
       "        vertical-align: top;\n",
       "    }\n",
       "\n",
       "    .dataframe thead th {\n",
       "        text-align: right;\n",
       "    }\n",
       "</style>\n",
       "<table border=\"1\" class=\"dataframe\">\n",
       "  <thead>\n",
       "    <tr style=\"text-align: right;\">\n",
       "      <th></th>\n",
       "      <th>id</th>\n",
       "      <th>name</th>\n",
       "      <th>description</th>\n",
       "      <th>menus_appeared</th>\n",
       "      <th>times_appeared</th>\n",
       "      <th>first_appeared</th>\n",
       "      <th>last_appeared</th>\n",
       "      <th>lowest_price</th>\n",
       "      <th>highest_price</th>\n",
       "    </tr>\n",
       "  </thead>\n",
       "  <tbody>\n",
       "  </tbody>\n",
       "</table>\n",
       "</div>"
      ],
      "text/plain": [
       "Empty DataFrame\n",
       "Columns: [id, name, description, menus_appeared, times_appeared, first_appeared, last_appeared, lowest_price, highest_price]\n",
       "Index: []"
      ]
     },
     "metadata": {},
     "output_type": "display_data"
    },
    {
     "data": {
      "text/plain": [
       "{}"
      ]
     },
     "metadata": {},
     "output_type": "display_data"
    }
   ],
   "source": [
    "# IC Violations and Constraints\n",
    "\n",
    "# check for duplicate rows\n",
    "df = dish\n",
    "dups = df[df.duplicated(subset=['id'], keep=False)]\n",
    "display(dups)\n",
    "\n",
    "# FK and PK\n",
    "counts = df.groupby('id')['name'].nunique()\n",
    "bad_id = counts[counts > 1].index\n",
    "bad_df = df[df['id'].isin(bad_id)]\n",
    "display(bad_df)\n",
    "\n",
    "ic3_violations = bad_df.groupby(['id', 'name']).size().to_dict()\n",
    "display(ic3_violations)"
   ]
  },
  {
   "cell_type": "markdown",
   "id": "24d49368",
   "metadata": {},
   "source": [
    "## MenuItem Verify"
   ]
  },
  {
   "cell_type": "code",
   "execution_count": 14,
   "id": "3fac59e5",
   "metadata": {},
   "outputs": [
    {
     "name": "stdout",
     "output_type": "stream",
     "text": [
      "=== Null Count ===\n",
      "price             0\n",
      "high_price        0\n",
      "menu_page_id      0\n",
      "dish_id         241\n",
      "dtype: int64\n",
      "=== Null Percent ===\n",
      "price           0.000000\n",
      "high_price      0.000000\n",
      "menu_page_id    0.000000\n",
      "dish_id         0.000181\n",
      "dtype: float64\n"
     ]
    }
   ],
   "source": [
    "# null count as percentage or sum\n",
    "fields = [\"price\", \"high_price\", \"menu_page_id\", \"dish_id\"]\n",
    "null = menu_item_clean[fields].isnull()\n",
    "counts = null.sum()\n",
    "\n",
    "print(\"=== Null Count ===\")\n",
    "print(counts)\n",
    "print(\"=== Null Percent ===\")\n",
    "print(null.mean())"
   ]
  },
  {
   "cell_type": "code",
   "execution_count": 15,
   "id": "386ff856",
   "metadata": {},
   "outputs": [
    {
     "name": "stdout",
     "output_type": "stream",
     "text": [
      "=== Duplicate Primary Keys ===\n"
     ]
    },
    {
     "data": {
      "text/html": [
       "<div>\n",
       "<style scoped>\n",
       "    .dataframe tbody tr th:only-of-type {\n",
       "        vertical-align: middle;\n",
       "    }\n",
       "\n",
       "    .dataframe tbody tr th {\n",
       "        vertical-align: top;\n",
       "    }\n",
       "\n",
       "    .dataframe thead th {\n",
       "        text-align: right;\n",
       "    }\n",
       "</style>\n",
       "<table border=\"1\" class=\"dataframe\">\n",
       "  <thead>\n",
       "    <tr style=\"text-align: right;\">\n",
       "      <th></th>\n",
       "      <th>id</th>\n",
       "      <th>menu_page_id</th>\n",
       "      <th>price</th>\n",
       "      <th>high_price</th>\n",
       "      <th>dish_id</th>\n",
       "      <th>created_at</th>\n",
       "      <th>updated_at</th>\n",
       "      <th>xpos</th>\n",
       "      <th>ypos</th>\n",
       "    </tr>\n",
       "  </thead>\n",
       "  <tbody>\n",
       "  </tbody>\n",
       "</table>\n",
       "</div>"
      ],
      "text/plain": [
       "Empty DataFrame\n",
       "Columns: [id, menu_page_id, price, high_price, dish_id, created_at, updated_at, xpos, ypos]\n",
       "Index: []"
      ]
     },
     "metadata": {},
     "output_type": "display_data"
    },
    {
     "data": {
      "text/html": [
       "<div>\n",
       "<style scoped>\n",
       "    .dataframe tbody tr th:only-of-type {\n",
       "        vertical-align: middle;\n",
       "    }\n",
       "\n",
       "    .dataframe tbody tr th {\n",
       "        vertical-align: top;\n",
       "    }\n",
       "\n",
       "    .dataframe thead th {\n",
       "        text-align: right;\n",
       "    }\n",
       "</style>\n",
       "<table border=\"1\" class=\"dataframe\">\n",
       "  <thead>\n",
       "    <tr style=\"text-align: right;\">\n",
       "      <th></th>\n",
       "      <th>id</th>\n",
       "      <th>menu_page_id</th>\n",
       "      <th>price</th>\n",
       "      <th>high_price</th>\n",
       "      <th>dish_id</th>\n",
       "      <th>created_at</th>\n",
       "      <th>updated_at</th>\n",
       "      <th>xpos</th>\n",
       "      <th>ypos</th>\n",
       "    </tr>\n",
       "  </thead>\n",
       "  <tbody>\n",
       "  </tbody>\n",
       "</table>\n",
       "</div>"
      ],
      "text/plain": [
       "Empty DataFrame\n",
       "Columns: [id, menu_page_id, price, high_price, dish_id, created_at, updated_at, xpos, ypos]\n",
       "Index: []"
      ]
     },
     "metadata": {},
     "output_type": "display_data"
    },
    {
     "name": "stdout",
     "output_type": "stream",
     "text": [
      "=== Primary Key Violations ===\n"
     ]
    },
    {
     "data": {
      "text/plain": [
       "{}"
      ]
     },
     "metadata": {},
     "output_type": "display_data"
    },
    {
     "name": "stdout",
     "output_type": "stream",
     "text": [
      "=== Foreign Key Violations ===\n",
      "--- MenuItem to Dish - dish_id ---\n"
     ]
    },
    {
     "data": {
      "text/html": [
       "<div>\n",
       "<style scoped>\n",
       "    .dataframe tbody tr th:only-of-type {\n",
       "        vertical-align: middle;\n",
       "    }\n",
       "\n",
       "    .dataframe tbody tr th {\n",
       "        vertical-align: top;\n",
       "    }\n",
       "\n",
       "    .dataframe thead th {\n",
       "        text-align: right;\n",
       "    }\n",
       "</style>\n",
       "<table border=\"1\" class=\"dataframe\">\n",
       "  <thead>\n",
       "    <tr style=\"text-align: right;\">\n",
       "      <th></th>\n",
       "      <th>id</th>\n",
       "      <th>menu_page_id</th>\n",
       "      <th>price</th>\n",
       "      <th>high_price</th>\n",
       "      <th>dish_id</th>\n",
       "      <th>created_at</th>\n",
       "      <th>updated_at</th>\n",
       "      <th>xpos</th>\n",
       "      <th>ypos</th>\n",
       "    </tr>\n",
       "  </thead>\n",
       "  <tbody>\n",
       "    <tr>\n",
       "      <th>17058</th>\n",
       "      <td>19171</td>\n",
       "      <td>6706</td>\n",
       "      <td>0.00</td>\n",
       "      <td>0.00</td>\n",
       "      <td>NaN</td>\n",
       "      <td>2011-04-21 15:37:27 UTC</td>\n",
       "      <td>2011-04-21 15:45:51 UTC</td>\n",
       "      <td>0.250000</td>\n",
       "      <td>0.910850</td>\n",
       "    </tr>\n",
       "    <tr>\n",
       "      <th>20044</th>\n",
       "      <td>22322</td>\n",
       "      <td>3817</td>\n",
       "      <td>0.00</td>\n",
       "      <td>0.00</td>\n",
       "      <td>NaN</td>\n",
       "      <td>2011-04-21 18:16:13 UTC</td>\n",
       "      <td>2011-04-21 18:17:01 UTC</td>\n",
       "      <td>0.341429</td>\n",
       "      <td>0.704721</td>\n",
       "    </tr>\n",
       "    <tr>\n",
       "      <th>28458</th>\n",
       "      <td>31566</td>\n",
       "      <td>7355</td>\n",
       "      <td>0.00</td>\n",
       "      <td>0.00</td>\n",
       "      <td>NaN</td>\n",
       "      <td>2011-04-22 02:50:52 UTC</td>\n",
       "      <td>2011-04-22 18:48:41 UTC</td>\n",
       "      <td>0.568571</td>\n",
       "      <td>0.346818</td>\n",
       "    </tr>\n",
       "    <tr>\n",
       "      <th>30291</th>\n",
       "      <td>33486</td>\n",
       "      <td>11348</td>\n",
       "      <td>0.00</td>\n",
       "      <td>0.00</td>\n",
       "      <td>NaN</td>\n",
       "      <td>2011-04-22 06:35:32 UTC</td>\n",
       "      <td>2011-04-22 06:39:39 UTC</td>\n",
       "      <td>0.164286</td>\n",
       "      <td>0.477882</td>\n",
       "    </tr>\n",
       "    <tr>\n",
       "      <th>33111</th>\n",
       "      <td>36645</td>\n",
       "      <td>7356</td>\n",
       "      <td>0.00</td>\n",
       "      <td>0.00</td>\n",
       "      <td>NaN</td>\n",
       "      <td>2011-04-22 16:23:28 UTC</td>\n",
       "      <td>2011-04-22 18:59:11 UTC</td>\n",
       "      <td>0.184286</td>\n",
       "      <td>0.346567</td>\n",
       "    </tr>\n",
       "    <tr>\n",
       "      <th>...</th>\n",
       "      <td>...</td>\n",
       "      <td>...</td>\n",
       "      <td>...</td>\n",
       "      <td>...</td>\n",
       "      <td>...</td>\n",
       "      <td>...</td>\n",
       "      <td>...</td>\n",
       "      <td>...</td>\n",
       "      <td>...</td>\n",
       "    </tr>\n",
       "    <tr>\n",
       "      <th>889158</th>\n",
       "      <td>932573</td>\n",
       "      <td>47175</td>\n",
       "      <td>0.00</td>\n",
       "      <td>0.00</td>\n",
       "      <td>NaN</td>\n",
       "      <td>2012-05-14 03:16:30 UTC</td>\n",
       "      <td>2012-05-14 03:22:36 UTC</td>\n",
       "      <td>0.687143</td>\n",
       "      <td>0.275966</td>\n",
       "    </tr>\n",
       "    <tr>\n",
       "      <th>930243</th>\n",
       "      <td>974746</td>\n",
       "      <td>62976</td>\n",
       "      <td>0.00</td>\n",
       "      <td>0.00</td>\n",
       "      <td>NaN</td>\n",
       "      <td>2012-06-20 05:17:58 UTC</td>\n",
       "      <td>2012-06-20 05:32:58 UTC</td>\n",
       "      <td>0.210000</td>\n",
       "      <td>0.115715</td>\n",
       "    </tr>\n",
       "    <tr>\n",
       "      <th>936817</th>\n",
       "      <td>981533</td>\n",
       "      <td>62740</td>\n",
       "      <td>0.00</td>\n",
       "      <td>0.00</td>\n",
       "      <td>NaN</td>\n",
       "      <td>2012-06-22 20:57:32 UTC</td>\n",
       "      <td>2012-06-22 20:58:18 UTC</td>\n",
       "      <td>0.175714</td>\n",
       "      <td>0.250947</td>\n",
       "    </tr>\n",
       "    <tr>\n",
       "      <th>939086</th>\n",
       "      <td>983976</td>\n",
       "      <td>65327</td>\n",
       "      <td>0.00</td>\n",
       "      <td>0.00</td>\n",
       "      <td>NaN</td>\n",
       "      <td>2012-06-23 21:47:35 UTC</td>\n",
       "      <td>2012-06-23 21:41:38 UTC</td>\n",
       "      <td>0.405714</td>\n",
       "      <td>0.176490</td>\n",
       "    </tr>\n",
       "    <tr>\n",
       "      <th>1001144</th>\n",
       "      <td>1047160</td>\n",
       "      <td>69117</td>\n",
       "      <td>0.45</td>\n",
       "      <td>0.45</td>\n",
       "      <td>395403.0</td>\n",
       "      <td>2012-08-14 09:52:01 UTC</td>\n",
       "      <td>2012-08-14 09:52:01 UTC</td>\n",
       "      <td>0.377333</td>\n",
       "      <td>0.469635</td>\n",
       "    </tr>\n",
       "  </tbody>\n",
       "</table>\n",
       "<p>244 rows × 9 columns</p>\n",
       "</div>"
      ],
      "text/plain": [
       "              id  menu_page_id  price  high_price   dish_id  \\\n",
       "17058      19171          6706   0.00        0.00       NaN   \n",
       "20044      22322          3817   0.00        0.00       NaN   \n",
       "28458      31566          7355   0.00        0.00       NaN   \n",
       "30291      33486         11348   0.00        0.00       NaN   \n",
       "33111      36645          7356   0.00        0.00       NaN   \n",
       "...          ...           ...    ...         ...       ...   \n",
       "889158    932573         47175   0.00        0.00       NaN   \n",
       "930243    974746         62976   0.00        0.00       NaN   \n",
       "936817    981533         62740   0.00        0.00       NaN   \n",
       "939086    983976         65327   0.00        0.00       NaN   \n",
       "1001144  1047160         69117   0.45        0.45  395403.0   \n",
       "\n",
       "                      created_at               updated_at      xpos      ypos  \n",
       "17058    2011-04-21 15:37:27 UTC  2011-04-21 15:45:51 UTC  0.250000  0.910850  \n",
       "20044    2011-04-21 18:16:13 UTC  2011-04-21 18:17:01 UTC  0.341429  0.704721  \n",
       "28458    2011-04-22 02:50:52 UTC  2011-04-22 18:48:41 UTC  0.568571  0.346818  \n",
       "30291    2011-04-22 06:35:32 UTC  2011-04-22 06:39:39 UTC  0.164286  0.477882  \n",
       "33111    2011-04-22 16:23:28 UTC  2011-04-22 18:59:11 UTC  0.184286  0.346567  \n",
       "...                          ...                      ...       ...       ...  \n",
       "889158   2012-05-14 03:16:30 UTC  2012-05-14 03:22:36 UTC  0.687143  0.275966  \n",
       "930243   2012-06-20 05:17:58 UTC  2012-06-20 05:32:58 UTC  0.210000  0.115715  \n",
       "936817   2012-06-22 20:57:32 UTC  2012-06-22 20:58:18 UTC  0.175714  0.250947  \n",
       "939086   2012-06-23 21:47:35 UTC  2012-06-23 21:41:38 UTC  0.405714  0.176490  \n",
       "1001144  2012-08-14 09:52:01 UTC  2012-08-14 09:52:01 UTC  0.377333  0.469635  \n",
       "\n",
       "[244 rows x 9 columns]"
      ]
     },
     "metadata": {},
     "output_type": "display_data"
    },
    {
     "name": "stdout",
     "output_type": "stream",
     "text": [
      "--- MenuItem to MenuPage - menu_page_id ---\n"
     ]
    },
    {
     "data": {
      "text/html": [
       "<div>\n",
       "<style scoped>\n",
       "    .dataframe tbody tr th:only-of-type {\n",
       "        vertical-align: middle;\n",
       "    }\n",
       "\n",
       "    .dataframe tbody tr th {\n",
       "        vertical-align: top;\n",
       "    }\n",
       "\n",
       "    .dataframe thead th {\n",
       "        text-align: right;\n",
       "    }\n",
       "</style>\n",
       "<table border=\"1\" class=\"dataframe\">\n",
       "  <thead>\n",
       "    <tr style=\"text-align: right;\">\n",
       "      <th></th>\n",
       "      <th>id</th>\n",
       "      <th>menu_page_id</th>\n",
       "      <th>price</th>\n",
       "      <th>high_price</th>\n",
       "      <th>dish_id</th>\n",
       "      <th>created_at</th>\n",
       "      <th>updated_at</th>\n",
       "      <th>xpos</th>\n",
       "      <th>ypos</th>\n",
       "    </tr>\n",
       "  </thead>\n",
       "  <tbody>\n",
       "  </tbody>\n",
       "</table>\n",
       "</div>"
      ],
      "text/plain": [
       "Empty DataFrame\n",
       "Columns: [id, menu_page_id, price, high_price, dish_id, created_at, updated_at, xpos, ypos]\n",
       "Index: []"
      ]
     },
     "metadata": {},
     "output_type": "display_data"
    }
   ],
   "source": [
    "# IC Violations and Constraints\n",
    "\n",
    "# check for duplicate rows\n",
    "df = menu_item_clean\n",
    "dups = df[df.duplicated(subset=['id'], keep=False)]\n",
    "print(\"=== Duplicate Primary Keys ===\")\n",
    "display(dups)\n",
    "\n",
    "# FK and PK\n",
    "# PK Verification\n",
    "counts = df.groupby('id')['id'].nunique()\n",
    "bad_id = counts[counts > 1].index\n",
    "bad_df = df[df['id'].isin(bad_id)]\n",
    "display(bad_df)\n",
    "\n",
    "pk_violations = bad_df.groupby(['id', 'id']).size().to_dict()\n",
    "print(\"=== Primary Key Violations ===\")\n",
    "display(pk_violations)\n",
    "\n",
    "# FK Verification\n",
    "bad_fk_menu_item_to_dish = df[~df[\"dish_id\"].isin(dish[\"id\"])]\n",
    "bad_fk_menu_item_to_menu_page = df[~df[\"menu_page_id\"].isin(menu_page[\"id\"])]\n",
    "print(\"=== Foreign Key Violations ===\")\n",
    "print(\"--- MenuItem to Dish - dish_id ---\")\n",
    "display(bad_fk_menu_item_to_dish)\n",
    "print(\"--- MenuItem to MenuPage - menu_page_id ---\")\n",
    "display(bad_fk_menu_item_to_menu_page)"
   ]
  },
  {
   "cell_type": "markdown",
   "id": "6729956c",
   "metadata": {},
   "source": [
    "## MenuPage Verify"
   ]
  },
  {
   "cell_type": "code",
   "execution_count": 16,
   "id": "7b9146b0",
   "metadata": {},
   "outputs": [
    {
     "name": "stdout",
     "output_type": "stream",
     "text": [
      "=== Count ===\n",
      "id         0\n",
      "menu_id    0\n",
      "dtype: int64\n",
      "=== Percent ===\n",
      "id         0.0\n",
      "menu_id    0.0\n",
      "dtype: float64\n"
     ]
    }
   ],
   "source": [
    "# null count as percentage or sum\n",
    "fields = [\"id\", \"menu_id\"]\n",
    "null = menu_page_clean[fields].isnull()\n",
    "counts = null.sum()\n",
    "\n",
    "print(\"=== Count ===\")\n",
    "print(counts)\n",
    "print(\"=== Percent ===\")\n",
    "print(null.mean())"
   ]
  },
  {
   "cell_type": "code",
   "execution_count": 17,
   "id": "d6a41486",
   "metadata": {},
   "outputs": [
    {
     "name": "stdout",
     "output_type": "stream",
     "text": [
      "=== Duplicate Rows ===\n"
     ]
    },
    {
     "data": {
      "text/html": [
       "<div>\n",
       "<style scoped>\n",
       "    .dataframe tbody tr th:only-of-type {\n",
       "        vertical-align: middle;\n",
       "    }\n",
       "\n",
       "    .dataframe tbody tr th {\n",
       "        vertical-align: top;\n",
       "    }\n",
       "\n",
       "    .dataframe thead th {\n",
       "        text-align: right;\n",
       "    }\n",
       "</style>\n",
       "<table border=\"1\" class=\"dataframe\">\n",
       "  <thead>\n",
       "    <tr style=\"text-align: right;\">\n",
       "      <th></th>\n",
       "      <th>id</th>\n",
       "      <th>menu_id</th>\n",
       "      <th>page_number</th>\n",
       "      <th>image_id</th>\n",
       "      <th>full_height</th>\n",
       "      <th>full_width</th>\n",
       "      <th>uuid</th>\n",
       "    </tr>\n",
       "  </thead>\n",
       "  <tbody>\n",
       "  </tbody>\n",
       "</table>\n",
       "</div>"
      ],
      "text/plain": [
       "Empty DataFrame\n",
       "Columns: [id, menu_id, page_number, image_id, full_height, full_width, uuid]\n",
       "Index: []"
      ]
     },
     "metadata": {},
     "output_type": "display_data"
    },
    {
     "name": "stdout",
     "output_type": "stream",
     "text": [
      "=== Duplicate Primary Keys ===\n"
     ]
    },
    {
     "data": {
      "text/html": [
       "<div>\n",
       "<style scoped>\n",
       "    .dataframe tbody tr th:only-of-type {\n",
       "        vertical-align: middle;\n",
       "    }\n",
       "\n",
       "    .dataframe tbody tr th {\n",
       "        vertical-align: top;\n",
       "    }\n",
       "\n",
       "    .dataframe thead th {\n",
       "        text-align: right;\n",
       "    }\n",
       "</style>\n",
       "<table border=\"1\" class=\"dataframe\">\n",
       "  <thead>\n",
       "    <tr style=\"text-align: right;\">\n",
       "      <th></th>\n",
       "      <th>id</th>\n",
       "      <th>menu_id</th>\n",
       "      <th>page_number</th>\n",
       "      <th>image_id</th>\n",
       "      <th>full_height</th>\n",
       "      <th>full_width</th>\n",
       "      <th>uuid</th>\n",
       "    </tr>\n",
       "  </thead>\n",
       "  <tbody>\n",
       "  </tbody>\n",
       "</table>\n",
       "</div>"
      ],
      "text/plain": [
       "Empty DataFrame\n",
       "Columns: [id, menu_id, page_number, image_id, full_height, full_width, uuid]\n",
       "Index: []"
      ]
     },
     "metadata": {},
     "output_type": "display_data"
    },
    {
     "name": "stdout",
     "output_type": "stream",
     "text": [
      "=== Primary Key Violations ===\n",
      "=== Foreign Key Violations ===\n",
      "--- MenuPage to Menu - menu_id ---\n"
     ]
    },
    {
     "data": {
      "text/html": [
       "<div>\n",
       "<style scoped>\n",
       "    .dataframe tbody tr th:only-of-type {\n",
       "        vertical-align: middle;\n",
       "    }\n",
       "\n",
       "    .dataframe tbody tr th {\n",
       "        vertical-align: top;\n",
       "    }\n",
       "\n",
       "    .dataframe thead th {\n",
       "        text-align: right;\n",
       "    }\n",
       "</style>\n",
       "<table border=\"1\" class=\"dataframe\">\n",
       "  <thead>\n",
       "    <tr style=\"text-align: right;\">\n",
       "      <th></th>\n",
       "      <th>id</th>\n",
       "      <th>menu_id</th>\n",
       "      <th>page_number</th>\n",
       "      <th>image_id</th>\n",
       "      <th>full_height</th>\n",
       "      <th>full_width</th>\n",
       "      <th>uuid</th>\n",
       "    </tr>\n",
       "  </thead>\n",
       "  <tbody>\n",
       "    <tr>\n",
       "      <th>0</th>\n",
       "      <td>119</td>\n",
       "      <td>12460</td>\n",
       "      <td>1.0</td>\n",
       "      <td>1603595</td>\n",
       "      <td>7230.0</td>\n",
       "      <td>5428.0</td>\n",
       "      <td>510d47e4-2955-a3d9-e040-e00a18064a99</td>\n",
       "    </tr>\n",
       "    <tr>\n",
       "      <th>1</th>\n",
       "      <td>120</td>\n",
       "      <td>12460</td>\n",
       "      <td>2.0</td>\n",
       "      <td>1603596</td>\n",
       "      <td>5428.0</td>\n",
       "      <td>7230.0</td>\n",
       "      <td>510d47e4-2956-a3d9-e040-e00a18064a99</td>\n",
       "    </tr>\n",
       "    <tr>\n",
       "      <th>2</th>\n",
       "      <td>121</td>\n",
       "      <td>12460</td>\n",
       "      <td>3.0</td>\n",
       "      <td>1603597</td>\n",
       "      <td>7230.0</td>\n",
       "      <td>5428.0</td>\n",
       "      <td>510d47e4-2957-a3d9-e040-e00a18064a99</td>\n",
       "    </tr>\n",
       "    <tr>\n",
       "      <th>3</th>\n",
       "      <td>122</td>\n",
       "      <td>12460</td>\n",
       "      <td>4.0</td>\n",
       "      <td>1603598</td>\n",
       "      <td>7230.0</td>\n",
       "      <td>5428.0</td>\n",
       "      <td>510d47e4-2958-a3d9-e040-e00a18064a99</td>\n",
       "    </tr>\n",
       "    <tr>\n",
       "      <th>4</th>\n",
       "      <td>123</td>\n",
       "      <td>12461</td>\n",
       "      <td>1.0</td>\n",
       "      <td>1603591</td>\n",
       "      <td>7230.0</td>\n",
       "      <td>5428.0</td>\n",
       "      <td>510d47e4-2959-a3d9-e040-e00a18064a99</td>\n",
       "    </tr>\n",
       "    <tr>\n",
       "      <th>...</th>\n",
       "      <td>...</td>\n",
       "      <td>...</td>\n",
       "      <td>...</td>\n",
       "      <td>...</td>\n",
       "      <td>...</td>\n",
       "      <td>...</td>\n",
       "      <td>...</td>\n",
       "    </tr>\n",
       "    <tr>\n",
       "      <th>66922</th>\n",
       "      <td>77417</td>\n",
       "      <td>35525</td>\n",
       "      <td>2.0</td>\n",
       "      <td>5194206</td>\n",
       "      <td>2942.0</td>\n",
       "      <td>1990.0</td>\n",
       "      <td>af4751c0-6212-0132-6245-58d385a7bbd0</td>\n",
       "    </tr>\n",
       "    <tr>\n",
       "      <th>66923</th>\n",
       "      <td>77418</td>\n",
       "      <td>35525</td>\n",
       "      <td>3.0</td>\n",
       "      <td>5194207</td>\n",
       "      <td>2837.0</td>\n",
       "      <td>2628.0</td>\n",
       "      <td>af604d50-6212-0132-b41d-58d385a7bbd0</td>\n",
       "    </tr>\n",
       "    <tr>\n",
       "      <th>66924</th>\n",
       "      <td>77419</td>\n",
       "      <td>35525</td>\n",
       "      <td>4.0</td>\n",
       "      <td>5194208</td>\n",
       "      <td>2852.0</td>\n",
       "      <td>2002.0</td>\n",
       "      <td>af7910c0-6212-0132-e227-58d385a7bbd0</td>\n",
       "    </tr>\n",
       "    <tr>\n",
       "      <th>66925</th>\n",
       "      <td>77420</td>\n",
       "      <td>35525</td>\n",
       "      <td>5.0</td>\n",
       "      <td>5194209</td>\n",
       "      <td>2835.0</td>\n",
       "      <td>1990.0</td>\n",
       "      <td>af92d3f0-6212-0132-6b8d-58d385a7bbd0</td>\n",
       "    </tr>\n",
       "    <tr>\n",
       "      <th>66926</th>\n",
       "      <td>77421</td>\n",
       "      <td>35525</td>\n",
       "      <td>6.0</td>\n",
       "      <td>5194210</td>\n",
       "      <td>2821.0</td>\n",
       "      <td>2130.0</td>\n",
       "      <td>afac7cc0-6212-0132-44a7-58d385a7bbd0</td>\n",
       "    </tr>\n",
       "  </tbody>\n",
       "</table>\n",
       "<p>5803 rows × 7 columns</p>\n",
       "</div>"
      ],
      "text/plain": [
       "          id  menu_id  page_number image_id  full_height  full_width  \\\n",
       "0        119    12460          1.0  1603595       7230.0      5428.0   \n",
       "1        120    12460          2.0  1603596       5428.0      7230.0   \n",
       "2        121    12460          3.0  1603597       7230.0      5428.0   \n",
       "3        122    12460          4.0  1603598       7230.0      5428.0   \n",
       "4        123    12461          1.0  1603591       7230.0      5428.0   \n",
       "...      ...      ...          ...      ...          ...         ...   \n",
       "66922  77417    35525          2.0  5194206       2942.0      1990.0   \n",
       "66923  77418    35525          3.0  5194207       2837.0      2628.0   \n",
       "66924  77419    35525          4.0  5194208       2852.0      2002.0   \n",
       "66925  77420    35525          5.0  5194209       2835.0      1990.0   \n",
       "66926  77421    35525          6.0  5194210       2821.0      2130.0   \n",
       "\n",
       "                                       uuid  \n",
       "0      510d47e4-2955-a3d9-e040-e00a18064a99  \n",
       "1      510d47e4-2956-a3d9-e040-e00a18064a99  \n",
       "2      510d47e4-2957-a3d9-e040-e00a18064a99  \n",
       "3      510d47e4-2958-a3d9-e040-e00a18064a99  \n",
       "4      510d47e4-2959-a3d9-e040-e00a18064a99  \n",
       "...                                     ...  \n",
       "66922  af4751c0-6212-0132-6245-58d385a7bbd0  \n",
       "66923  af604d50-6212-0132-b41d-58d385a7bbd0  \n",
       "66924  af7910c0-6212-0132-e227-58d385a7bbd0  \n",
       "66925  af92d3f0-6212-0132-6b8d-58d385a7bbd0  \n",
       "66926  afac7cc0-6212-0132-44a7-58d385a7bbd0  \n",
       "\n",
       "[5803 rows x 7 columns]"
      ]
     },
     "metadata": {},
     "output_type": "display_data"
    }
   ],
   "source": [
    "# IC Violations and Constraints\n",
    "\n",
    "# check for duplicate rows\n",
    "df = menu_page_clean\n",
    "dups = df[df.duplicated(subset=['id'], keep=False)]\n",
    "print(\"=== Duplicate Rows ===\")\n",
    "display(dups)\n",
    "\n",
    "# FK and PK\n",
    "# PK Verification\n",
    "counts = df.groupby('id')['id'].nunique()\n",
    "bad_id = counts[counts > 1].index\n",
    "bad_df = df[df['id'].isin(bad_id)]\n",
    "print(\"=== Duplicate Primary Keys ===\")\n",
    "display(bad_df)\n",
    "\n",
    "pk_violations = bad_df.groupby(['id']).size().to_dict()\n",
    "print(\"=== Primary Key Violations ===\")\n",
    "pk_violations\n",
    "\n",
    "# FK Verification\n",
    "bad_fk_menu_page = df[~df[\"menu_id\"].isin(menu[\"id\"])]\n",
    "print(\"=== Foreign Key Violations ===\")\n",
    "print(\"--- MenuPage to Menu - menu_id ---\")\n",
    "display(bad_fk_menu_page)"
   ]
  },
  {
   "cell_type": "markdown",
   "id": "6e7fccc7",
   "metadata": {},
   "source": [
    "# Data Cleaning"
   ]
  },
  {
   "cell_type": "markdown",
   "id": "b64445da",
   "metadata": {},
   "source": [
    "## Foreign Key Violations - MenuItem"
   ]
  },
  {
   "cell_type": "code",
   "execution_count": 18,
   "id": "bc433a2e",
   "metadata": {},
   "outputs": [
    {
     "data": {
      "text/html": [
       "<div>\n",
       "<style scoped>\n",
       "    .dataframe tbody tr th:only-of-type {\n",
       "        vertical-align: middle;\n",
       "    }\n",
       "\n",
       "    .dataframe tbody tr th {\n",
       "        vertical-align: top;\n",
       "    }\n",
       "\n",
       "    .dataframe thead th {\n",
       "        text-align: right;\n",
       "    }\n",
       "</style>\n",
       "<table border=\"1\" class=\"dataframe\">\n",
       "  <thead>\n",
       "    <tr style=\"text-align: right;\">\n",
       "      <th></th>\n",
       "      <th>id</th>\n",
       "      <th>menu_page_id</th>\n",
       "      <th>price</th>\n",
       "      <th>high_price</th>\n",
       "      <th>dish_id</th>\n",
       "      <th>created_at</th>\n",
       "      <th>updated_at</th>\n",
       "      <th>xpos</th>\n",
       "      <th>ypos</th>\n",
       "    </tr>\n",
       "  </thead>\n",
       "  <tbody>\n",
       "  </tbody>\n",
       "</table>\n",
       "</div>"
      ],
      "text/plain": [
       "Empty DataFrame\n",
       "Columns: [id, menu_page_id, price, high_price, dish_id, created_at, updated_at, xpos, ypos]\n",
       "Index: []"
      ]
     },
     "metadata": {},
     "output_type": "display_data"
    },
    {
     "data": {
      "text/html": [
       "<div>\n",
       "<style scoped>\n",
       "    .dataframe tbody tr th:only-of-type {\n",
       "        vertical-align: middle;\n",
       "    }\n",
       "\n",
       "    .dataframe tbody tr th {\n",
       "        vertical-align: top;\n",
       "    }\n",
       "\n",
       "    .dataframe thead th {\n",
       "        text-align: right;\n",
       "    }\n",
       "</style>\n",
       "<table border=\"1\" class=\"dataframe\">\n",
       "  <thead>\n",
       "    <tr style=\"text-align: right;\">\n",
       "      <th></th>\n",
       "      <th>id</th>\n",
       "      <th>menu_page_id</th>\n",
       "      <th>price</th>\n",
       "      <th>high_price</th>\n",
       "      <th>dish_id</th>\n",
       "      <th>created_at</th>\n",
       "      <th>updated_at</th>\n",
       "      <th>xpos</th>\n",
       "      <th>ypos</th>\n",
       "    </tr>\n",
       "  </thead>\n",
       "  <tbody>\n",
       "  </tbody>\n",
       "</table>\n",
       "</div>"
      ],
      "text/plain": [
       "Empty DataFrame\n",
       "Columns: [id, menu_page_id, price, high_price, dish_id, created_at, updated_at, xpos, ypos]\n",
       "Index: []"
      ]
     },
     "metadata": {},
     "output_type": "display_data"
    }
   ],
   "source": [
    "# Since we cannot reconstruct what dish_id should be within MenuItem, we must delete these rows\n",
    "menu_item_clean = menu_item_clean[~menu_item_clean[\"id\"].isin(bad_fk_menu_item_to_dish[\"id\"])]\n",
    "\n",
    "# Similarly, we cannot reconstruct what menu_page_id should be from within MenuItem, so we must delete these rows\n",
    "menu_item_clean = menu_item_clean[~menu_item_clean[\"id\"].isin(bad_fk_menu_item_to_menu_page[\"id\"])]\n",
    "\n",
    "# Verify all foreign key constraints have been resolved\n",
    "display(menu_item_clean[~menu_item_clean[\"dish_id\"].isin(dish[\"id\"])])\n",
    "display(menu_item_clean[~menu_item_clean[\"menu_page_id\"].isin(menu_page[\"id\"])])\n",
    "\n"
   ]
  },
  {
   "cell_type": "markdown",
   "id": "13c7b979",
   "metadata": {},
   "source": [
    "## Foreign Key Violations - MenuPage"
   ]
  },
  {
   "cell_type": "code",
   "execution_count": 19,
   "id": "e94e3409",
   "metadata": {},
   "outputs": [
    {
     "data": {
      "text/html": [
       "<div>\n",
       "<style scoped>\n",
       "    .dataframe tbody tr th:only-of-type {\n",
       "        vertical-align: middle;\n",
       "    }\n",
       "\n",
       "    .dataframe tbody tr th {\n",
       "        vertical-align: top;\n",
       "    }\n",
       "\n",
       "    .dataframe thead th {\n",
       "        text-align: right;\n",
       "    }\n",
       "</style>\n",
       "<table border=\"1\" class=\"dataframe\">\n",
       "  <thead>\n",
       "    <tr style=\"text-align: right;\">\n",
       "      <th></th>\n",
       "      <th>id</th>\n",
       "      <th>menu_id</th>\n",
       "      <th>page_number</th>\n",
       "      <th>image_id</th>\n",
       "      <th>full_height</th>\n",
       "      <th>full_width</th>\n",
       "      <th>uuid</th>\n",
       "    </tr>\n",
       "  </thead>\n",
       "  <tbody>\n",
       "  </tbody>\n",
       "</table>\n",
       "</div>"
      ],
      "text/plain": [
       "Empty DataFrame\n",
       "Columns: [id, menu_id, page_number, image_id, full_height, full_width, uuid]\n",
       "Index: []"
      ]
     },
     "metadata": {},
     "output_type": "display_data"
    }
   ],
   "source": [
    "# Since we cannot reconstruct what menu_id should be within MenuPage, we must delete these rows\n",
    "menu_page_clean = menu_page_clean[~menu_page_clean[\"id\"].isin(bad_fk_menu_page[\"id\"])]\n",
    "\n",
    "# Verify all foreign key constraints have been resolved\n",
    "display(menu_page_clean[~menu_page_clean[\"menu_id\"].isin(menu[\"id\"])])\n",
    "\n"
   ]
  }
 ],
 "metadata": {
  "kernelspec": {
   "display_name": "base",
   "language": "python",
   "name": "python3"
  },
  "language_info": {
   "codemirror_mode": {
    "name": "ipython",
    "version": 3
   },
   "file_extension": ".py",
   "mimetype": "text/x-python",
   "name": "python",
   "nbconvert_exporter": "python",
   "pygments_lexer": "ipython3",
   "version": "3.9.18"
  }
 },
 "nbformat": 4,
 "nbformat_minor": 5
}
