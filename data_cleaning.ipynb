{
 "cells": [
  {
   "cell_type": "markdown",
   "id": "927a43ae",
   "metadata": {},
   "source": [
    "# Load Data - CS 513 Data Cleaning Final Project\n",
    "\n",
    "Team 162 - Miffy's Kitchen"
   ]
  },
  {
   "cell_type": "code",
   "execution_count": 2,
   "id": "3988728a",
   "metadata": {},
   "outputs": [],
   "source": [
    "import pandas as pd\n",
    "from pathlib import Path\n",
    "\n",
    "# Load raw CSVs into DataFrame\n",
    "parent_folder = 'NYPL-menus'\n",
    "dish = pd.read_csv(f\"{parent_folder}/Dish.csv\")\n",
    "menu = pd.read_csv(f\"{parent_folder}/Menu.csv\")\n",
    "menu_item = pd.read_csv(f\"{parent_folder}/MenuItem.csv\")\n",
    "menu_page = pd.read_csv(f\"{parent_folder}/MenuPage.csv\")\n",
    "\n",
    "# display(dish)\n",
    "# display(menu)\n",
    "# display(menu_item)\n",
    "# display(menu_page)"
   ]
  },
  {
   "cell_type": "markdown",
   "id": "224a6c8d",
   "metadata": {},
   "source": [
    "# *Data Profiling*"
   ]
  },
  {
   "cell_type": "code",
   "execution_count": 3,
   "id": "5ca3b036",
   "metadata": {},
   "outputs": [
    {
     "data": {
      "application/vnd.microsoft.datawrangler.viewer.v0+json": {
       "columns": [
        {
         "name": "index",
         "rawType": "object",
         "type": "string"
        },
        {
         "name": "id",
         "rawType": "float64",
         "type": "float"
        },
        {
         "name": "description",
         "rawType": "float64",
         "type": "float"
        },
        {
         "name": "menus_appeared",
         "rawType": "float64",
         "type": "float"
        },
        {
         "name": "times_appeared",
         "rawType": "float64",
         "type": "float"
        },
        {
         "name": "first_appeared",
         "rawType": "float64",
         "type": "float"
        },
        {
         "name": "last_appeared",
         "rawType": "float64",
         "type": "float"
        },
        {
         "name": "lowest_price",
         "rawType": "float64",
         "type": "float"
        },
        {
         "name": "highest_price",
         "rawType": "float64",
         "type": "float"
        }
       ],
       "ref": "f8e15d21-7211-42ab-923b-a6bd02d7d97f",
       "rows": [
        [
         "count",
         "423397.0",
         "0.0",
         "423397.0",
         "423397.0",
         "423397.0",
         "423397.0",
         "394297.0",
         "394297.0"
        ],
        [
         "mean",
         "264456.5949002945",
         null,
         "3.060489327982957",
         "3.1467936711880338",
         "1675.5145548976493",
         "1679.2997375985187",
         "0.9652646609028219",
         "1.6038751753120108"
        ],
        [
         "std",
         "150489.0708893592",
         null,
         "27.818178011829055",
         "29.962121630951994",
         "651.3214614684812",
         "651.9345802161782",
         "6.714564428021191",
         "12.696274395864371"
        ],
        [
         "min",
         "1.0",
         null,
         "0.0",
         "-6.0",
         "0.0",
         "0.0",
         "0.0",
         "0.0"
        ],
        [
         "25%",
         "132374.0",
         null,
         "1.0",
         "1.0",
         "1900.0",
         "1900.0",
         "0.0",
         "0.0"
        ],
        [
         "50%",
         "269636.0",
         null,
         "1.0",
         "1.0",
         "1914.0",
         "1917.0",
         "0.0",
         "0.0"
        ],
        [
         "75%",
         "397135.0",
         null,
         "1.0",
         "1.0",
         "1949.0",
         "1955.0",
         "0.4",
         "0.6"
        ],
        [
         "max",
         "515677.0",
         null,
         "7740.0",
         "8484.0",
         "2928.0",
         "2928.0",
         "1035.0",
         "3050.0"
        ]
       ],
       "shape": {
        "columns": 8,
        "rows": 8
       }
      },
      "text/html": [
       "<div>\n",
       "<style scoped>\n",
       "    .dataframe tbody tr th:only-of-type {\n",
       "        vertical-align: middle;\n",
       "    }\n",
       "\n",
       "    .dataframe tbody tr th {\n",
       "        vertical-align: top;\n",
       "    }\n",
       "\n",
       "    .dataframe thead th {\n",
       "        text-align: right;\n",
       "    }\n",
       "</style>\n",
       "<table border=\"1\" class=\"dataframe\">\n",
       "  <thead>\n",
       "    <tr style=\"text-align: right;\">\n",
       "      <th></th>\n",
       "      <th>id</th>\n",
       "      <th>description</th>\n",
       "      <th>menus_appeared</th>\n",
       "      <th>times_appeared</th>\n",
       "      <th>first_appeared</th>\n",
       "      <th>last_appeared</th>\n",
       "      <th>lowest_price</th>\n",
       "      <th>highest_price</th>\n",
       "    </tr>\n",
       "  </thead>\n",
       "  <tbody>\n",
       "    <tr>\n",
       "      <th>count</th>\n",
       "      <td>423397.000000</td>\n",
       "      <td>0.0</td>\n",
       "      <td>423397.000000</td>\n",
       "      <td>423397.000000</td>\n",
       "      <td>423397.000000</td>\n",
       "      <td>423397.000000</td>\n",
       "      <td>394297.000000</td>\n",
       "      <td>394297.000000</td>\n",
       "    </tr>\n",
       "    <tr>\n",
       "      <th>mean</th>\n",
       "      <td>264456.594900</td>\n",
       "      <td>NaN</td>\n",
       "      <td>3.060489</td>\n",
       "      <td>3.146794</td>\n",
       "      <td>1675.514555</td>\n",
       "      <td>1679.299738</td>\n",
       "      <td>0.965265</td>\n",
       "      <td>1.603875</td>\n",
       "    </tr>\n",
       "    <tr>\n",
       "      <th>std</th>\n",
       "      <td>150489.070889</td>\n",
       "      <td>NaN</td>\n",
       "      <td>27.818178</td>\n",
       "      <td>29.962122</td>\n",
       "      <td>651.321461</td>\n",
       "      <td>651.934580</td>\n",
       "      <td>6.714564</td>\n",
       "      <td>12.696274</td>\n",
       "    </tr>\n",
       "    <tr>\n",
       "      <th>min</th>\n",
       "      <td>1.000000</td>\n",
       "      <td>NaN</td>\n",
       "      <td>0.000000</td>\n",
       "      <td>-6.000000</td>\n",
       "      <td>0.000000</td>\n",
       "      <td>0.000000</td>\n",
       "      <td>0.000000</td>\n",
       "      <td>0.000000</td>\n",
       "    </tr>\n",
       "    <tr>\n",
       "      <th>25%</th>\n",
       "      <td>132374.000000</td>\n",
       "      <td>NaN</td>\n",
       "      <td>1.000000</td>\n",
       "      <td>1.000000</td>\n",
       "      <td>1900.000000</td>\n",
       "      <td>1900.000000</td>\n",
       "      <td>0.000000</td>\n",
       "      <td>0.000000</td>\n",
       "    </tr>\n",
       "    <tr>\n",
       "      <th>50%</th>\n",
       "      <td>269636.000000</td>\n",
       "      <td>NaN</td>\n",
       "      <td>1.000000</td>\n",
       "      <td>1.000000</td>\n",
       "      <td>1914.000000</td>\n",
       "      <td>1917.000000</td>\n",
       "      <td>0.000000</td>\n",
       "      <td>0.000000</td>\n",
       "    </tr>\n",
       "    <tr>\n",
       "      <th>75%</th>\n",
       "      <td>397135.000000</td>\n",
       "      <td>NaN</td>\n",
       "      <td>1.000000</td>\n",
       "      <td>1.000000</td>\n",
       "      <td>1949.000000</td>\n",
       "      <td>1955.000000</td>\n",
       "      <td>0.400000</td>\n",
       "      <td>0.600000</td>\n",
       "    </tr>\n",
       "    <tr>\n",
       "      <th>max</th>\n",
       "      <td>515677.000000</td>\n",
       "      <td>NaN</td>\n",
       "      <td>7740.000000</td>\n",
       "      <td>8484.000000</td>\n",
       "      <td>2928.000000</td>\n",
       "      <td>2928.000000</td>\n",
       "      <td>1035.000000</td>\n",
       "      <td>3050.000000</td>\n",
       "    </tr>\n",
       "  </tbody>\n",
       "</table>\n",
       "</div>"
      ],
      "text/plain": [
       "                  id  description  menus_appeared  times_appeared  \\\n",
       "count  423397.000000          0.0   423397.000000   423397.000000   \n",
       "mean   264456.594900          NaN        3.060489        3.146794   \n",
       "std    150489.070889          NaN       27.818178       29.962122   \n",
       "min         1.000000          NaN        0.000000       -6.000000   \n",
       "25%    132374.000000          NaN        1.000000        1.000000   \n",
       "50%    269636.000000          NaN        1.000000        1.000000   \n",
       "75%    397135.000000          NaN        1.000000        1.000000   \n",
       "max    515677.000000          NaN     7740.000000     8484.000000   \n",
       "\n",
       "       first_appeared  last_appeared   lowest_price  highest_price  \n",
       "count   423397.000000  423397.000000  394297.000000  394297.000000  \n",
       "mean      1675.514555    1679.299738       0.965265       1.603875  \n",
       "std        651.321461     651.934580       6.714564      12.696274  \n",
       "min          0.000000       0.000000       0.000000       0.000000  \n",
       "25%       1900.000000    1900.000000       0.000000       0.000000  \n",
       "50%       1914.000000    1917.000000       0.000000       0.000000  \n",
       "75%       1949.000000    1955.000000       0.400000       0.600000  \n",
       "max       2928.000000    2928.000000    1035.000000    3050.000000  "
      ]
     },
     "execution_count": 3,
     "metadata": {},
     "output_type": "execute_result"
    }
   ],
   "source": [
    "dish.describe()"
   ]
  },
  {
   "cell_type": "code",
   "execution_count": 5,
   "id": "1d97e9b7",
   "metadata": {},
   "outputs": [
    {
     "name": "stdout",
     "output_type": "stream",
     "text": [
      "<class 'pandas.core.frame.DataFrame'>\n",
      "RangeIndex: 423397 entries, 0 to 423396\n",
      "Data columns (total 9 columns):\n",
      " #   Column          Non-Null Count   Dtype  \n",
      "---  ------          --------------   -----  \n",
      " 0   id              423397 non-null  int64  \n",
      " 1   name            423397 non-null  object \n",
      " 2   description     0 non-null       float64\n",
      " 3   menus_appeared  423397 non-null  int64  \n",
      " 4   times_appeared  423397 non-null  int64  \n",
      " 5   first_appeared  423397 non-null  int64  \n",
      " 6   last_appeared   423397 non-null  int64  \n",
      " 7   lowest_price    394297 non-null  float64\n",
      " 8   highest_price   394297 non-null  float64\n",
      "dtypes: float64(3), int64(5), object(1)\n",
      "memory usage: 29.1+ MB\n"
     ]
    },
    {
     "data": {
      "application/vnd.microsoft.datawrangler.viewer.v0+json": {
       "columns": [
        {
         "name": "index",
         "rawType": "object",
         "type": "string"
        },
        {
         "name": "0",
         "rawType": "int64",
         "type": "integer"
        }
       ],
       "ref": "9bcc0c87-026a-4ba5-9cd3-e3d9a2c1016c",
       "rows": [
        [
         "description",
         "423397"
        ],
        [
         "lowest_price",
         "29100"
        ],
        [
         "highest_price",
         "29100"
        ]
       ],
       "shape": {
        "columns": 1,
        "rows": 3
       }
      },
      "text/plain": [
       "description      423397\n",
       "lowest_price      29100\n",
       "highest_price     29100\n",
       "dtype: int64"
      ]
     },
     "execution_count": 5,
     "metadata": {},
     "output_type": "execute_result"
    }
   ],
   "source": [
    "df = dish\n",
    "df.info(verbose=True)\n",
    "\n",
    "columns_with_mv = df.columns[df.isnull().any()]\n",
    "df[columns_with_mv].isnull().sum()"
   ]
  },
  {
   "cell_type": "markdown",
   "id": "e24edc64",
   "metadata": {},
   "source": [
    "## MenuItem Profile"
   ]
  },
  {
   "cell_type": "code",
   "execution_count": 6,
   "id": "93f54c30",
   "metadata": {},
   "outputs": [
    {
     "name": "stdout",
     "output_type": "stream",
     "text": [
      "=== Count ===\n",
      "price            445916\n",
      "high_price      1240821\n",
      "menu_page_id          0\n",
      "dish_id             241\n",
      "dtype: int64\n",
      "=== Percent ===\n",
      "price           0.334589\n",
      "high_price      0.931040\n",
      "menu_page_id    0.000000\n",
      "dish_id         0.000181\n",
      "dtype: float64\n"
     ]
    }
   ],
   "source": [
    "# null count as percentage or sum\n",
    "fields = [\"price\", \"high_price\", \"menu_page_id\", \"dish_id\"]\n",
    "null = menu_item[fields].isnull()\n",
    "counts = null.sum()\n",
    "\n",
    "print(\"=== Count ===\")\n",
    "print(counts)\n",
    "print(\"=== Percent ===\")\n",
    "print(null.mean())"
   ]
  },
  {
   "cell_type": "code",
   "execution_count": 7,
   "id": "60baa91e",
   "metadata": {},
   "outputs": [
    {
     "data": {
      "application/vnd.microsoft.datawrangler.viewer.v0+json": {
       "columns": [
        {
         "name": "index",
         "rawType": "int64",
         "type": "integer"
        },
        {
         "name": "id",
         "rawType": "int64",
         "type": "integer"
        },
        {
         "name": "menu_page_id",
         "rawType": "int64",
         "type": "integer"
        },
        {
         "name": "price",
         "rawType": "float64",
         "type": "float"
        },
        {
         "name": "high_price",
         "rawType": "float64",
         "type": "float"
        },
        {
         "name": "dish_id",
         "rawType": "float64",
         "type": "float"
        },
        {
         "name": "created_at",
         "rawType": "object",
         "type": "unknown"
        },
        {
         "name": "updated_at",
         "rawType": "object",
         "type": "unknown"
        },
        {
         "name": "xpos",
         "rawType": "float64",
         "type": "float"
        },
        {
         "name": "ypos",
         "rawType": "float64",
         "type": "float"
        }
       ],
       "ref": "740e6d8a-7890-4c66-a21c-99cf5e4f9b6e",
       "rows": [],
       "shape": {
        "columns": 9,
        "rows": 0
       }
      },
      "text/html": [
       "<div>\n",
       "<style scoped>\n",
       "    .dataframe tbody tr th:only-of-type {\n",
       "        vertical-align: middle;\n",
       "    }\n",
       "\n",
       "    .dataframe tbody tr th {\n",
       "        vertical-align: top;\n",
       "    }\n",
       "\n",
       "    .dataframe thead th {\n",
       "        text-align: right;\n",
       "    }\n",
       "</style>\n",
       "<table border=\"1\" class=\"dataframe\">\n",
       "  <thead>\n",
       "    <tr style=\"text-align: right;\">\n",
       "      <th></th>\n",
       "      <th>id</th>\n",
       "      <th>menu_page_id</th>\n",
       "      <th>price</th>\n",
       "      <th>high_price</th>\n",
       "      <th>dish_id</th>\n",
       "      <th>created_at</th>\n",
       "      <th>updated_at</th>\n",
       "      <th>xpos</th>\n",
       "      <th>ypos</th>\n",
       "    </tr>\n",
       "  </thead>\n",
       "  <tbody>\n",
       "  </tbody>\n",
       "</table>\n",
       "</div>"
      ],
      "text/plain": [
       "Empty DataFrame\n",
       "Columns: [id, menu_page_id, price, high_price, dish_id, created_at, updated_at, xpos, ypos]\n",
       "Index: []"
      ]
     },
     "metadata": {},
     "output_type": "display_data"
    },
    {
     "data": {
      "application/vnd.microsoft.datawrangler.viewer.v0+json": {
       "columns": [
        {
         "name": "index",
         "rawType": "int64",
         "type": "integer"
        },
        {
         "name": "id",
         "rawType": "int64",
         "type": "integer"
        },
        {
         "name": "menu_page_id",
         "rawType": "int64",
         "type": "integer"
        },
        {
         "name": "price",
         "rawType": "float64",
         "type": "float"
        },
        {
         "name": "high_price",
         "rawType": "float64",
         "type": "float"
        },
        {
         "name": "dish_id",
         "rawType": "float64",
         "type": "float"
        },
        {
         "name": "created_at",
         "rawType": "object",
         "type": "unknown"
        },
        {
         "name": "updated_at",
         "rawType": "object",
         "type": "unknown"
        },
        {
         "name": "xpos",
         "rawType": "float64",
         "type": "float"
        },
        {
         "name": "ypos",
         "rawType": "float64",
         "type": "float"
        }
       ],
       "ref": "d48e5a29-94e6-45bd-be36-f4024ee532c4",
       "rows": [],
       "shape": {
        "columns": 9,
        "rows": 0
       }
      },
      "text/html": [
       "<div>\n",
       "<style scoped>\n",
       "    .dataframe tbody tr th:only-of-type {\n",
       "        vertical-align: middle;\n",
       "    }\n",
       "\n",
       "    .dataframe tbody tr th {\n",
       "        vertical-align: top;\n",
       "    }\n",
       "\n",
       "    .dataframe thead th {\n",
       "        text-align: right;\n",
       "    }\n",
       "</style>\n",
       "<table border=\"1\" class=\"dataframe\">\n",
       "  <thead>\n",
       "    <tr style=\"text-align: right;\">\n",
       "      <th></th>\n",
       "      <th>id</th>\n",
       "      <th>menu_page_id</th>\n",
       "      <th>price</th>\n",
       "      <th>high_price</th>\n",
       "      <th>dish_id</th>\n",
       "      <th>created_at</th>\n",
       "      <th>updated_at</th>\n",
       "      <th>xpos</th>\n",
       "      <th>ypos</th>\n",
       "    </tr>\n",
       "  </thead>\n",
       "  <tbody>\n",
       "  </tbody>\n",
       "</table>\n",
       "</div>"
      ],
      "text/plain": [
       "Empty DataFrame\n",
       "Columns: [id, menu_page_id, price, high_price, dish_id, created_at, updated_at, xpos, ypos]\n",
       "Index: []"
      ]
     },
     "metadata": {},
     "output_type": "display_data"
    },
    {
     "data": {
      "text/plain": [
       "{}"
      ]
     },
     "metadata": {},
     "output_type": "display_data"
    },
    {
     "data": {
      "application/vnd.microsoft.datawrangler.viewer.v0+json": {
       "columns": [
        {
         "name": "index",
         "rawType": "int64",
         "type": "integer"
        },
        {
         "name": "id",
         "rawType": "int64",
         "type": "integer"
        },
        {
         "name": "menu_page_id",
         "rawType": "int64",
         "type": "integer"
        },
        {
         "name": "price",
         "rawType": "float64",
         "type": "float"
        },
        {
         "name": "high_price",
         "rawType": "float64",
         "type": "float"
        },
        {
         "name": "dish_id",
         "rawType": "float64",
         "type": "float"
        },
        {
         "name": "created_at",
         "rawType": "object",
         "type": "string"
        },
        {
         "name": "updated_at",
         "rawType": "object",
         "type": "string"
        },
        {
         "name": "xpos",
         "rawType": "float64",
         "type": "float"
        },
        {
         "name": "ypos",
         "rawType": "float64",
         "type": "float"
        }
       ],
       "ref": "b964a88d-2883-4d1f-97de-182840924654",
       "rows": [
        [
         "17058",
         "19171",
         "6706",
         null,
         null,
         null,
         "2011-04-21 15:37:27 UTC",
         "2011-04-21 15:45:51 UTC",
         "0.25",
         "0.91085"
        ],
        [
         "20044",
         "22322",
         "3817",
         null,
         null,
         null,
         "2011-04-21 18:16:13 UTC",
         "2011-04-21 18:17:01 UTC",
         "0.341429",
         "0.704721"
        ],
        [
         "28458",
         "31566",
         "7355",
         null,
         null,
         null,
         "2011-04-22 02:50:52 UTC",
         "2011-04-22 18:48:41 UTC",
         "0.568571",
         "0.346818"
        ],
        [
         "30291",
         "33486",
         "11348",
         null,
         null,
         null,
         "2011-04-22 06:35:32 UTC",
         "2011-04-22 06:39:39 UTC",
         "0.164286",
         "0.477882"
        ],
        [
         "33111",
         "36645",
         "7356",
         null,
         null,
         null,
         "2011-04-22 16:23:28 UTC",
         "2011-04-22 18:59:11 UTC",
         "0.184286",
         "0.346567"
        ],
        [
         "37185",
         "40956",
         "954",
         null,
         null,
         null,
         "2011-04-22 23:34:16 UTC",
         "2011-10-13 20:07:31 UTC",
         "0.418571",
         "0.273913"
        ],
        [
         "37280",
         "41055",
         "954",
         null,
         null,
         null,
         "2011-04-22 23:41:33 UTC",
         "2011-10-13 20:17:52 UTC",
         "0.157143",
         "0.875145"
        ],
        [
         "37283",
         "41058",
         "954",
         null,
         null,
         null,
         "2011-04-22 23:41:57 UTC",
         "2011-10-13 20:18:03 UTC",
         "0.25",
         "0.912184"
        ],
        [
         "38722",
         "42579",
         "11210",
         null,
         null,
         null,
         "2011-04-23 01:49:43 UTC",
         "2011-04-23 01:53:28 UTC",
         "0.00285714",
         "0.0463749"
        ],
        [
         "38833",
         "42695",
         "11210",
         null,
         null,
         null,
         "2011-04-23 01:59:31 UTC",
         "2011-04-23 02:07:36 UTC",
         "0.565714",
         "0.0886819"
        ],
        [
         "38844",
         "42706",
         "11210",
         null,
         null,
         null,
         "2011-04-23 01:59:17 UTC",
         "2011-04-23 02:07:59 UTC",
         "0.568571",
         "0.114717"
        ],
        [
         "41311",
         "45255",
         "11750",
         null,
         null,
         null,
         "2011-04-23 13:36:37 UTC",
         "2011-04-23 21:16:43 UTC",
         "0.628571",
         "0.206337"
        ],
        [
         "43151",
         "47201",
         "9772",
         null,
         null,
         null,
         "2011-04-23 17:24:50 UTC",
         "2011-04-23 17:27:55 UTC",
         "0.474286",
         "0.198209"
        ],
        [
         "45110",
         "49380",
         "19334",
         null,
         null,
         null,
         "2011-04-24 04:21:51 UTC",
         "2011-04-24 06:00:10 UTC",
         "0.352857",
         "0.090189"
        ],
        [
         "45121",
         "49392",
         "19334",
         null,
         null,
         null,
         "2011-04-24 04:24:37 UTC",
         "2011-04-24 05:59:12 UTC",
         "0.411429",
         "0.282826"
        ],
        [
         "46328",
         "50683",
         "24125",
         null,
         null,
         null,
         "2011-04-24 13:08:58 UTC",
         "2011-04-24 13:18:52 UTC",
         "0.305714",
         "0.15419"
        ],
        [
         "46329",
         "50684",
         "24125",
         null,
         null,
         null,
         "2011-04-24 13:09:09 UTC",
         "2011-04-24 13:18:34 UTC",
         "0.412857",
         "0.227174"
        ],
        [
         "62673",
         "68120",
         "2349",
         null,
         null,
         null,
         "2011-04-26 17:13:25 UTC",
         "2011-04-26 17:12:36 UTC",
         "0.138571",
         "0.278759"
        ],
        [
         "63158",
         "68608",
         "3191",
         null,
         null,
         null,
         "2011-04-26 17:36:43 UTC",
         "2011-04-26 17:38:54 UTC",
         "0.33",
         "0.860861"
        ],
        [
         "67594",
         "73263",
         "248",
         null,
         null,
         null,
         "2011-04-26 21:00:44 UTC",
         "2011-04-26 21:02:02 UTC",
         "0.285714",
         "0.761879"
        ],
        [
         "69504",
         "75446",
         "5574",
         null,
         null,
         null,
         "2011-04-26 22:16:32 UTC",
         "2011-06-18 19:16:20 UTC",
         "0.37",
         "0.606572"
        ],
        [
         "70851",
         "76842",
         "10973",
         null,
         null,
         null,
         "2011-04-26 23:21:31 UTC",
         "2011-04-27 22:04:46 UTC",
         "0.278571",
         "0.367492"
        ],
        [
         "70997",
         "76997",
         "10973",
         null,
         null,
         null,
         "2011-04-26 23:28:36 UTC",
         "2011-04-27 22:02:24 UTC",
         "0.724286",
         "0.364816"
        ],
        [
         "82733",
         "89257",
         "8489",
         null,
         null,
         null,
         "2011-04-27 15:32:31 UTC",
         "2011-04-27 22:46:19 UTC",
         "0.12",
         "0.120518"
        ],
        [
         "84247",
         "90827",
         "8489",
         null,
         null,
         null,
         "2011-04-27 17:42:43 UTC",
         "2011-04-27 23:03:14 UTC",
         "0.194286",
         "0.818484"
        ],
        [
         "85619",
         "92288",
         "8490",
         null,
         null,
         null,
         "2011-04-27 19:07:05 UTC",
         "2011-04-27 23:09:09 UTC",
         "0.102857",
         "0.788444"
        ],
        [
         "88522",
         "95333",
         "14865",
         null,
         null,
         null,
         "2011-04-27 21:18:23 UTC",
         "2011-04-27 21:18:47 UTC",
         "0.765714",
         "0.698282"
        ],
        [
         "98188",
         "105788",
         "17832",
         null,
         null,
         null,
         "2011-04-28 13:23:53 UTC",
         "2011-04-28 13:25:36 UTC",
         "0.27",
         "0.789291"
        ],
        [
         "99066",
         "106747",
         "22673",
         null,
         null,
         null,
         "2011-04-28 14:25:03 UTC",
         "2011-04-28 14:32:22 UTC",
         "0.178571",
         "0.593584"
        ],
        [
         "99073",
         "106757",
         "22673",
         null,
         null,
         null,
         "2011-04-28 14:26:43 UTC",
         "2011-04-28 14:32:43 UTC",
         "0.228571",
         "0.598402"
        ],
        [
         "99111",
         "106806",
         "22673",
         null,
         null,
         null,
         "2011-04-28 14:28:59 UTC",
         "2011-04-28 14:33:15 UTC",
         "0.13",
         "0.614783"
        ],
        [
         "99165",
         "106876",
         "17907",
         null,
         null,
         null,
         "2011-04-28 14:32:14 UTC",
         "2011-04-28 14:54:13 UTC",
         "0.374286",
         "0.155583"
        ],
        [
         "100220",
         "108055",
         "1239",
         null,
         null,
         null,
         "2011-04-28 16:04:44 UTC",
         "2011-04-28 16:06:46 UTC",
         "0.402857",
         "0.839932"
        ],
        [
         "100804",
         "108684",
         "22139",
         null,
         null,
         null,
         "2011-04-28 16:36:38 UTC",
         "2011-04-28 16:36:36 UTC",
         "0.197143",
         "0.852143"
        ],
        [
         "101820",
         "109786",
         "22099",
         null,
         null,
         null,
         "2011-04-28 17:41:29 UTC",
         "2011-04-28 19:26:35 UTC",
         "0.315714",
         "0.926513"
        ],
        [
         "110764",
         "119381",
         "13060",
         null,
         null,
         null,
         "2011-04-29 01:30:16 UTC",
         "2011-04-29 01:30:52 UTC",
         "0.778571",
         "0.494057"
        ],
        [
         "112183",
         "120864",
         "22609",
         null,
         null,
         null,
         "2011-04-29 02:31:49 UTC",
         "2011-04-29 02:37:10 UTC",
         "0.12",
         "0.793435"
        ],
        [
         "114462",
         "123214",
         "22587",
         null,
         null,
         null,
         "2011-04-29 13:31:53 UTC",
         "2011-04-29 13:31:07 UTC",
         "0.39",
         "0.882009"
        ],
        [
         "118999",
         "127998",
         "14402",
         null,
         null,
         null,
         "2011-04-29 19:53:23 UTC",
         "2011-10-14 18:31:27 UTC",
         "0.785714",
         "0.523958"
        ],
        [
         "119413",
         "128434",
         "599",
         null,
         null,
         null,
         "2011-04-29 20:39:38 UTC",
         "2011-04-29 20:43:54 UTC",
         "0.438571",
         "0.711227"
        ],
        [
         "119562",
         "128585",
         "635",
         null,
         null,
         null,
         "2011-04-29 20:49:18 UTC",
         "2011-04-29 20:49:06 UTC",
         "0.291429",
         "0.737069"
        ],
        [
         "119626",
         "128649",
         "9863",
         null,
         null,
         null,
         "2011-04-29 20:52:06 UTC",
         "2011-06-16 15:11:48 UTC",
         "0.512857",
         "0.450956"
        ],
        [
         "121431",
         "130506",
         "9878",
         null,
         null,
         null,
         "2011-04-29 22:54:27 UTC",
         "2011-04-30 18:41:47 UTC",
         "0.197143",
         "0.510488"
        ],
        [
         "128220",
         "137514",
         "1899",
         null,
         null,
         null,
         "2011-05-01 00:45:40 UTC",
         "2011-05-01 00:49:23 UTC",
         "0.432857",
         "0.418654"
        ],
        [
         "145842",
         "156313",
         "7306",
         null,
         null,
         null,
         "2011-05-03 15:07:18 UTC",
         "2011-05-03 15:26:44 UTC",
         "0.297143",
         "0.196333"
        ],
        [
         "148356",
         "158989",
         "22739",
         null,
         null,
         null,
         "2011-05-03 19:47:24 UTC",
         "2011-05-03 19:53:30 UTC",
         "0.392857",
         "0.330947"
        ],
        [
         "150124",
         "160816",
         "15771",
         null,
         null,
         null,
         "2011-05-03 23:12:07 UTC",
         "2011-05-03 23:11:25 UTC",
         "0.518571",
         "0.241464"
        ],
        [
         "153271",
         "164060",
         "3492",
         null,
         null,
         null,
         "2011-05-04 11:47:27 UTC",
         "2011-05-04 16:43:11 UTC",
         "0.462857",
         "0.162985"
        ],
        [
         "155174",
         "166063",
         "4173",
         null,
         null,
         null,
         "2011-05-04 15:58:34 UTC",
         "2011-07-15 09:40:19 UTC",
         "0.675714",
         "0.556027"
        ],
        [
         "155182",
         "166071",
         "4173",
         null,
         null,
         null,
         "2011-05-04 15:58:47 UTC",
         "2011-07-15 09:40:29 UTC",
         "0.815714",
         "0.556979"
        ]
       ],
       "shape": {
        "columns": 9,
        "rows": 244
       }
      },
      "text/html": [
       "<div>\n",
       "<style scoped>\n",
       "    .dataframe tbody tr th:only-of-type {\n",
       "        vertical-align: middle;\n",
       "    }\n",
       "\n",
       "    .dataframe tbody tr th {\n",
       "        vertical-align: top;\n",
       "    }\n",
       "\n",
       "    .dataframe thead th {\n",
       "        text-align: right;\n",
       "    }\n",
       "</style>\n",
       "<table border=\"1\" class=\"dataframe\">\n",
       "  <thead>\n",
       "    <tr style=\"text-align: right;\">\n",
       "      <th></th>\n",
       "      <th>id</th>\n",
       "      <th>menu_page_id</th>\n",
       "      <th>price</th>\n",
       "      <th>high_price</th>\n",
       "      <th>dish_id</th>\n",
       "      <th>created_at</th>\n",
       "      <th>updated_at</th>\n",
       "      <th>xpos</th>\n",
       "      <th>ypos</th>\n",
       "    </tr>\n",
       "  </thead>\n",
       "  <tbody>\n",
       "    <tr>\n",
       "      <th>17058</th>\n",
       "      <td>19171</td>\n",
       "      <td>6706</td>\n",
       "      <td>NaN</td>\n",
       "      <td>NaN</td>\n",
       "      <td>NaN</td>\n",
       "      <td>2011-04-21 15:37:27 UTC</td>\n",
       "      <td>2011-04-21 15:45:51 UTC</td>\n",
       "      <td>0.250000</td>\n",
       "      <td>0.910850</td>\n",
       "    </tr>\n",
       "    <tr>\n",
       "      <th>20044</th>\n",
       "      <td>22322</td>\n",
       "      <td>3817</td>\n",
       "      <td>NaN</td>\n",
       "      <td>NaN</td>\n",
       "      <td>NaN</td>\n",
       "      <td>2011-04-21 18:16:13 UTC</td>\n",
       "      <td>2011-04-21 18:17:01 UTC</td>\n",
       "      <td>0.341429</td>\n",
       "      <td>0.704721</td>\n",
       "    </tr>\n",
       "    <tr>\n",
       "      <th>28458</th>\n",
       "      <td>31566</td>\n",
       "      <td>7355</td>\n",
       "      <td>NaN</td>\n",
       "      <td>NaN</td>\n",
       "      <td>NaN</td>\n",
       "      <td>2011-04-22 02:50:52 UTC</td>\n",
       "      <td>2011-04-22 18:48:41 UTC</td>\n",
       "      <td>0.568571</td>\n",
       "      <td>0.346818</td>\n",
       "    </tr>\n",
       "    <tr>\n",
       "      <th>30291</th>\n",
       "      <td>33486</td>\n",
       "      <td>11348</td>\n",
       "      <td>NaN</td>\n",
       "      <td>NaN</td>\n",
       "      <td>NaN</td>\n",
       "      <td>2011-04-22 06:35:32 UTC</td>\n",
       "      <td>2011-04-22 06:39:39 UTC</td>\n",
       "      <td>0.164286</td>\n",
       "      <td>0.477882</td>\n",
       "    </tr>\n",
       "    <tr>\n",
       "      <th>33111</th>\n",
       "      <td>36645</td>\n",
       "      <td>7356</td>\n",
       "      <td>NaN</td>\n",
       "      <td>NaN</td>\n",
       "      <td>NaN</td>\n",
       "      <td>2011-04-22 16:23:28 UTC</td>\n",
       "      <td>2011-04-22 18:59:11 UTC</td>\n",
       "      <td>0.184286</td>\n",
       "      <td>0.346567</td>\n",
       "    </tr>\n",
       "    <tr>\n",
       "      <th>...</th>\n",
       "      <td>...</td>\n",
       "      <td>...</td>\n",
       "      <td>...</td>\n",
       "      <td>...</td>\n",
       "      <td>...</td>\n",
       "      <td>...</td>\n",
       "      <td>...</td>\n",
       "      <td>...</td>\n",
       "      <td>...</td>\n",
       "    </tr>\n",
       "    <tr>\n",
       "      <th>889158</th>\n",
       "      <td>932573</td>\n",
       "      <td>47175</td>\n",
       "      <td>NaN</td>\n",
       "      <td>NaN</td>\n",
       "      <td>NaN</td>\n",
       "      <td>2012-05-14 03:16:30 UTC</td>\n",
       "      <td>2012-05-14 03:22:36 UTC</td>\n",
       "      <td>0.687143</td>\n",
       "      <td>0.275966</td>\n",
       "    </tr>\n",
       "    <tr>\n",
       "      <th>930243</th>\n",
       "      <td>974746</td>\n",
       "      <td>62976</td>\n",
       "      <td>NaN</td>\n",
       "      <td>NaN</td>\n",
       "      <td>NaN</td>\n",
       "      <td>2012-06-20 05:17:58 UTC</td>\n",
       "      <td>2012-06-20 05:32:58 UTC</td>\n",
       "      <td>0.210000</td>\n",
       "      <td>0.115715</td>\n",
       "    </tr>\n",
       "    <tr>\n",
       "      <th>936817</th>\n",
       "      <td>981533</td>\n",
       "      <td>62740</td>\n",
       "      <td>NaN</td>\n",
       "      <td>NaN</td>\n",
       "      <td>NaN</td>\n",
       "      <td>2012-06-22 20:57:32 UTC</td>\n",
       "      <td>2012-06-22 20:58:18 UTC</td>\n",
       "      <td>0.175714</td>\n",
       "      <td>0.250947</td>\n",
       "    </tr>\n",
       "    <tr>\n",
       "      <th>939086</th>\n",
       "      <td>983976</td>\n",
       "      <td>65327</td>\n",
       "      <td>NaN</td>\n",
       "      <td>NaN</td>\n",
       "      <td>NaN</td>\n",
       "      <td>2012-06-23 21:47:35 UTC</td>\n",
       "      <td>2012-06-23 21:41:38 UTC</td>\n",
       "      <td>0.405714</td>\n",
       "      <td>0.176490</td>\n",
       "    </tr>\n",
       "    <tr>\n",
       "      <th>1001144</th>\n",
       "      <td>1047160</td>\n",
       "      <td>69117</td>\n",
       "      <td>0.45</td>\n",
       "      <td>NaN</td>\n",
       "      <td>395403.0</td>\n",
       "      <td>2012-08-14 09:52:01 UTC</td>\n",
       "      <td>2012-08-14 09:52:01 UTC</td>\n",
       "      <td>0.377333</td>\n",
       "      <td>0.469635</td>\n",
       "    </tr>\n",
       "  </tbody>\n",
       "</table>\n",
       "<p>244 rows × 9 columns</p>\n",
       "</div>"
      ],
      "text/plain": [
       "              id  menu_page_id  price  high_price   dish_id  \\\n",
       "17058      19171          6706    NaN         NaN       NaN   \n",
       "20044      22322          3817    NaN         NaN       NaN   \n",
       "28458      31566          7355    NaN         NaN       NaN   \n",
       "30291      33486         11348    NaN         NaN       NaN   \n",
       "33111      36645          7356    NaN         NaN       NaN   \n",
       "...          ...           ...    ...         ...       ...   \n",
       "889158    932573         47175    NaN         NaN       NaN   \n",
       "930243    974746         62976    NaN         NaN       NaN   \n",
       "936817    981533         62740    NaN         NaN       NaN   \n",
       "939086    983976         65327    NaN         NaN       NaN   \n",
       "1001144  1047160         69117   0.45         NaN  395403.0   \n",
       "\n",
       "                      created_at               updated_at      xpos      ypos  \n",
       "17058    2011-04-21 15:37:27 UTC  2011-04-21 15:45:51 UTC  0.250000  0.910850  \n",
       "20044    2011-04-21 18:16:13 UTC  2011-04-21 18:17:01 UTC  0.341429  0.704721  \n",
       "28458    2011-04-22 02:50:52 UTC  2011-04-22 18:48:41 UTC  0.568571  0.346818  \n",
       "30291    2011-04-22 06:35:32 UTC  2011-04-22 06:39:39 UTC  0.164286  0.477882  \n",
       "33111    2011-04-22 16:23:28 UTC  2011-04-22 18:59:11 UTC  0.184286  0.346567  \n",
       "...                          ...                      ...       ...       ...  \n",
       "889158   2012-05-14 03:16:30 UTC  2012-05-14 03:22:36 UTC  0.687143  0.275966  \n",
       "930243   2012-06-20 05:17:58 UTC  2012-06-20 05:32:58 UTC  0.210000  0.115715  \n",
       "936817   2012-06-22 20:57:32 UTC  2012-06-22 20:58:18 UTC  0.175714  0.250947  \n",
       "939086   2012-06-23 21:47:35 UTC  2012-06-23 21:41:38 UTC  0.405714  0.176490  \n",
       "1001144  2012-08-14 09:52:01 UTC  2012-08-14 09:52:01 UTC  0.377333  0.469635  \n",
       "\n",
       "[244 rows x 9 columns]"
      ]
     },
     "metadata": {},
     "output_type": "display_data"
    },
    {
     "data": {
      "application/vnd.microsoft.datawrangler.viewer.v0+json": {
       "columns": [
        {
         "name": "index",
         "rawType": "int64",
         "type": "integer"
        },
        {
         "name": "id",
         "rawType": "int64",
         "type": "integer"
        },
        {
         "name": "menu_page_id",
         "rawType": "int64",
         "type": "integer"
        },
        {
         "name": "price",
         "rawType": "float64",
         "type": "float"
        },
        {
         "name": "high_price",
         "rawType": "float64",
         "type": "float"
        },
        {
         "name": "dish_id",
         "rawType": "float64",
         "type": "float"
        },
        {
         "name": "created_at",
         "rawType": "object",
         "type": "unknown"
        },
        {
         "name": "updated_at",
         "rawType": "object",
         "type": "unknown"
        },
        {
         "name": "xpos",
         "rawType": "float64",
         "type": "float"
        },
        {
         "name": "ypos",
         "rawType": "float64",
         "type": "float"
        }
       ],
       "ref": "030b1eb3-e22a-4bbb-9d27-3ff828997cd7",
       "rows": [],
       "shape": {
        "columns": 9,
        "rows": 0
       }
      },
      "text/html": [
       "<div>\n",
       "<style scoped>\n",
       "    .dataframe tbody tr th:only-of-type {\n",
       "        vertical-align: middle;\n",
       "    }\n",
       "\n",
       "    .dataframe tbody tr th {\n",
       "        vertical-align: top;\n",
       "    }\n",
       "\n",
       "    .dataframe thead th {\n",
       "        text-align: right;\n",
       "    }\n",
       "</style>\n",
       "<table border=\"1\" class=\"dataframe\">\n",
       "  <thead>\n",
       "    <tr style=\"text-align: right;\">\n",
       "      <th></th>\n",
       "      <th>id</th>\n",
       "      <th>menu_page_id</th>\n",
       "      <th>price</th>\n",
       "      <th>high_price</th>\n",
       "      <th>dish_id</th>\n",
       "      <th>created_at</th>\n",
       "      <th>updated_at</th>\n",
       "      <th>xpos</th>\n",
       "      <th>ypos</th>\n",
       "    </tr>\n",
       "  </thead>\n",
       "  <tbody>\n",
       "  </tbody>\n",
       "</table>\n",
       "</div>"
      ],
      "text/plain": [
       "Empty DataFrame\n",
       "Columns: [id, menu_page_id, price, high_price, dish_id, created_at, updated_at, xpos, ypos]\n",
       "Index: []"
      ]
     },
     "metadata": {},
     "output_type": "display_data"
    }
   ],
   "source": [
    "# IC Violations and Constraints\n",
    "\n",
    "# check for duplicate rows\n",
    "df = menu_item\n",
    "dups = df[df.duplicated(subset=['id'], keep=False)]\n",
    "display(dups)\n",
    "\n",
    "# FK and PK\n",
    "# PK Verification\n",
    "counts = df.groupby('id')['id'].nunique()\n",
    "bad_id = counts[counts > 1].index\n",
    "bad_df = df[df['id'].isin(bad_id)]\n",
    "display(bad_df)\n",
    "\n",
    "pk_violations = bad_df.groupby(['id', 'id']).size().to_dict()\n",
    "display(pk_violations)\n",
    "\n",
    "# FK Verification\n",
    "bad_fk_menu_item_to_dish = df[~df[\"dish_id\"].isin(dish[\"id\"])]\n",
    "bad_fk_menu_item_to_menu_page = df[~df[\"menu_page_id\"].isin(menu_page[\"id\"])]\n",
    "display(bad_fk_menu_item_to_dish)\n",
    "display(bad_fk_menu_item_to_menu_page)"
   ]
  },
  {
   "cell_type": "markdown",
   "id": "ebf0acd4",
   "metadata": {},
   "source": [
    "## MenuPage Profile"
   ]
  },
  {
   "cell_type": "code",
   "execution_count": 8,
   "id": "87697c4a",
   "metadata": {},
   "outputs": [
    {
     "name": "stdout",
     "output_type": "stream",
     "text": [
      "=== Count ===\n",
      "id         0\n",
      "menu_id    0\n",
      "dtype: int64\n",
      "=== Percent ===\n",
      "id         0.0\n",
      "menu_id    0.0\n",
      "dtype: float64\n"
     ]
    }
   ],
   "source": [
    "# null count as percentage or sum\n",
    "fields = [\"id\", \"menu_id\"]\n",
    "null = menu_page[fields].isnull()\n",
    "counts = null.sum()\n",
    "\n",
    "print(\"=== Count ===\")\n",
    "print(counts)\n",
    "print(\"=== Percent ===\")\n",
    "print(null.mean())"
   ]
  },
  {
   "cell_type": "code",
   "execution_count": 10,
   "id": "31e4e3bd",
   "metadata": {},
   "outputs": [
    {
     "data": {
      "application/vnd.microsoft.datawrangler.viewer.v0+json": {
       "columns": [
        {
         "name": "index",
         "rawType": "int64",
         "type": "integer"
        },
        {
         "name": "id",
         "rawType": "int64",
         "type": "integer"
        },
        {
         "name": "menu_id",
         "rawType": "int64",
         "type": "integer"
        },
        {
         "name": "page_number",
         "rawType": "float64",
         "type": "float"
        },
        {
         "name": "image_id",
         "rawType": "object",
         "type": "unknown"
        },
        {
         "name": "full_height",
         "rawType": "float64",
         "type": "float"
        },
        {
         "name": "full_width",
         "rawType": "float64",
         "type": "float"
        },
        {
         "name": "uuid",
         "rawType": "object",
         "type": "unknown"
        }
       ],
       "ref": "6bc233df-abd0-4b4d-ad60-2df9bb3bab28",
       "rows": [],
       "shape": {
        "columns": 7,
        "rows": 0
       }
      },
      "text/html": [
       "<div>\n",
       "<style scoped>\n",
       "    .dataframe tbody tr th:only-of-type {\n",
       "        vertical-align: middle;\n",
       "    }\n",
       "\n",
       "    .dataframe tbody tr th {\n",
       "        vertical-align: top;\n",
       "    }\n",
       "\n",
       "    .dataframe thead th {\n",
       "        text-align: right;\n",
       "    }\n",
       "</style>\n",
       "<table border=\"1\" class=\"dataframe\">\n",
       "  <thead>\n",
       "    <tr style=\"text-align: right;\">\n",
       "      <th></th>\n",
       "      <th>id</th>\n",
       "      <th>menu_id</th>\n",
       "      <th>page_number</th>\n",
       "      <th>image_id</th>\n",
       "      <th>full_height</th>\n",
       "      <th>full_width</th>\n",
       "      <th>uuid</th>\n",
       "    </tr>\n",
       "  </thead>\n",
       "  <tbody>\n",
       "  </tbody>\n",
       "</table>\n",
       "</div>"
      ],
      "text/plain": [
       "Empty DataFrame\n",
       "Columns: [id, menu_id, page_number, image_id, full_height, full_width, uuid]\n",
       "Index: []"
      ]
     },
     "metadata": {},
     "output_type": "display_data"
    },
    {
     "data": {
      "application/vnd.microsoft.datawrangler.viewer.v0+json": {
       "columns": [
        {
         "name": "index",
         "rawType": "int64",
         "type": "integer"
        },
        {
         "name": "id",
         "rawType": "int64",
         "type": "integer"
        },
        {
         "name": "menu_id",
         "rawType": "int64",
         "type": "integer"
        },
        {
         "name": "page_number",
         "rawType": "float64",
         "type": "float"
        },
        {
         "name": "image_id",
         "rawType": "object",
         "type": "unknown"
        },
        {
         "name": "full_height",
         "rawType": "float64",
         "type": "float"
        },
        {
         "name": "full_width",
         "rawType": "float64",
         "type": "float"
        },
        {
         "name": "uuid",
         "rawType": "object",
         "type": "unknown"
        }
       ],
       "ref": "da4e3338-d77d-43b5-bded-000c46d5a001",
       "rows": [],
       "shape": {
        "columns": 7,
        "rows": 0
       }
      },
      "text/html": [
       "<div>\n",
       "<style scoped>\n",
       "    .dataframe tbody tr th:only-of-type {\n",
       "        vertical-align: middle;\n",
       "    }\n",
       "\n",
       "    .dataframe tbody tr th {\n",
       "        vertical-align: top;\n",
       "    }\n",
       "\n",
       "    .dataframe thead th {\n",
       "        text-align: right;\n",
       "    }\n",
       "</style>\n",
       "<table border=\"1\" class=\"dataframe\">\n",
       "  <thead>\n",
       "    <tr style=\"text-align: right;\">\n",
       "      <th></th>\n",
       "      <th>id</th>\n",
       "      <th>menu_id</th>\n",
       "      <th>page_number</th>\n",
       "      <th>image_id</th>\n",
       "      <th>full_height</th>\n",
       "      <th>full_width</th>\n",
       "      <th>uuid</th>\n",
       "    </tr>\n",
       "  </thead>\n",
       "  <tbody>\n",
       "  </tbody>\n",
       "</table>\n",
       "</div>"
      ],
      "text/plain": [
       "Empty DataFrame\n",
       "Columns: [id, menu_id, page_number, image_id, full_height, full_width, uuid]\n",
       "Index: []"
      ]
     },
     "metadata": {},
     "output_type": "display_data"
    },
    {
     "data": {
      "application/vnd.microsoft.datawrangler.viewer.v0+json": {
       "columns": [
        {
         "name": "index",
         "rawType": "int64",
         "type": "integer"
        },
        {
         "name": "id",
         "rawType": "int64",
         "type": "integer"
        },
        {
         "name": "menu_id",
         "rawType": "int64",
         "type": "integer"
        },
        {
         "name": "page_number",
         "rawType": "float64",
         "type": "float"
        },
        {
         "name": "image_id",
         "rawType": "object",
         "type": "string"
        },
        {
         "name": "full_height",
         "rawType": "float64",
         "type": "float"
        },
        {
         "name": "full_width",
         "rawType": "float64",
         "type": "float"
        },
        {
         "name": "uuid",
         "rawType": "object",
         "type": "string"
        }
       ],
       "ref": "3bc7fc78-63ca-481f-9802-df343aa04a80",
       "rows": [
        [
         "0",
         "119",
         "12460",
         "1.0",
         "1603595",
         "7230.0",
         "5428.0",
         "510d47e4-2955-a3d9-e040-e00a18064a99"
        ],
        [
         "1",
         "120",
         "12460",
         "2.0",
         "1603596",
         "5428.0",
         "7230.0",
         "510d47e4-2956-a3d9-e040-e00a18064a99"
        ],
        [
         "2",
         "121",
         "12460",
         "3.0",
         "1603597",
         "7230.0",
         "5428.0",
         "510d47e4-2957-a3d9-e040-e00a18064a99"
        ],
        [
         "3",
         "122",
         "12460",
         "4.0",
         "1603598",
         "7230.0",
         "5428.0",
         "510d47e4-2958-a3d9-e040-e00a18064a99"
        ],
        [
         "4",
         "123",
         "12461",
         "1.0",
         "1603591",
         "7230.0",
         "5428.0",
         "510d47e4-2959-a3d9-e040-e00a18064a99"
        ],
        [
         "5",
         "124",
         "12461",
         "2.0",
         "1603592",
         "7230.0",
         "5428.0",
         "510d47e4-295a-a3d9-e040-e00a18064a99"
        ],
        [
         "6",
         "125",
         "12461",
         "3.0",
         "1603593",
         "7230.0",
         "5428.0",
         "510d47e4-295b-a3d9-e040-e00a18064a99"
        ],
        [
         "7",
         "126",
         "12461",
         "4.0",
         "1603594",
         "7230.0",
         "5428.0",
         "510d47e4-295c-a3d9-e040-e00a18064a99"
        ],
        [
         "8",
         "127",
         "12462",
         "2.0",
         "4000001128",
         null,
         null,
         "510d47db-1ef8-a3d9-e040-e00a18064a99"
        ],
        [
         "9",
         "128",
         "12462",
         "1.0",
         "474450",
         null,
         null,
         "510d47db-1ef9-a3d9-e040-e00a18064a99"
        ],
        [
         "240",
         "401",
         "12544",
         "2.0",
         "4000008940",
         "2723.0",
         "1950.0",
         "510d47db-47b4-a3d9-e040-e00a18064a99"
        ],
        [
         "241",
         "402",
         "12544",
         "1.0",
         "466778",
         "2732.0",
         "1965.0",
         "510d47db-47b5-a3d9-e040-e00a18064a99"
        ],
        [
         "298",
         "475",
         "12566",
         "2.0",
         "4000009678",
         "1911.0",
         "1330.0",
         "510d47db-4c26-a3d9-e040-e00a18064a99"
        ],
        [
         "299",
         "476",
         "12566",
         "1.0",
         "467218",
         "1934.0",
         "1300.0",
         "510d47db-4c27-a3d9-e040-e00a18064a99"
        ],
        [
         "311",
         "488",
         "12572",
         "2.0",
         "4000008655",
         "2883.0",
         "2025.0",
         "510d47db-4620-a3d9-e040-e00a18064a99"
        ],
        [
         "312",
         "489",
         "12572",
         "1.0",
         "466601",
         "2864.0",
         "2418.0",
         "510d47db-4621-a3d9-e040-e00a18064a99"
        ],
        [
         "329",
         "506",
         "12580",
         "1.0",
         "1603595",
         "7230.0",
         "5428.0",
         "510d47e4-2955-a3d9-e040-e00a18064a99"
        ],
        [
         "330",
         "507",
         "12580",
         "2.0",
         "1603596",
         "5428.0",
         "7230.0",
         "510d47e4-2956-a3d9-e040-e00a18064a99"
        ],
        [
         "331",
         "508",
         "12580",
         "3.0",
         "1603597",
         "7230.0",
         "5428.0",
         "510d47e4-2957-a3d9-e040-e00a18064a99"
        ],
        [
         "332",
         "509",
         "12580",
         "4.0",
         "1603598",
         "7230.0",
         "5428.0",
         "510d47e4-2958-a3d9-e040-e00a18064a99"
        ],
        [
         "333",
         "510",
         "12581",
         "1.0",
         "1603591",
         "7230.0",
         "5428.0",
         "510d47e4-2959-a3d9-e040-e00a18064a99"
        ],
        [
         "334",
         "511",
         "12581",
         "2.0",
         "1603592",
         "7230.0",
         "5428.0",
         "510d47e4-295a-a3d9-e040-e00a18064a99"
        ],
        [
         "335",
         "512",
         "12581",
         "3.0",
         "1603593",
         "7230.0",
         "5428.0",
         "510d47e4-295b-a3d9-e040-e00a18064a99"
        ],
        [
         "336",
         "513",
         "12581",
         "4.0",
         "1603594",
         "7230.0",
         "5428.0",
         "510d47e4-295c-a3d9-e040-e00a18064a99"
        ],
        [
         "337",
         "514",
         "12582",
         "2.0",
         "4000001128",
         null,
         null,
         "510d47db-1ef8-a3d9-e040-e00a18064a99"
        ],
        [
         "338",
         "515",
         "12582",
         "1.0",
         "474450",
         null,
         null,
         "510d47db-1ef9-a3d9-e040-e00a18064a99"
        ],
        [
         "538",
         "788",
         "12664",
         "2.0",
         "4000008940",
         "2723.0",
         "1950.0",
         "510d47db-47b4-a3d9-e040-e00a18064a99"
        ],
        [
         "539",
         "789",
         "12664",
         "1.0",
         "466778",
         "2732.0",
         "1965.0",
         "510d47db-47b5-a3d9-e040-e00a18064a99"
        ],
        [
         "568",
         "862",
         "12686",
         "2.0",
         "4000009678",
         "1911.0",
         "1330.0",
         "510d47db-4c26-a3d9-e040-e00a18064a99"
        ],
        [
         "569",
         "863",
         "12686",
         "1.0",
         "467218",
         "1934.0",
         "1300.0",
         "510d47db-4c27-a3d9-e040-e00a18064a99"
        ],
        [
         "574",
         "875",
         "12692",
         "2.0",
         "4000008655",
         "2883.0",
         "2025.0",
         "510d47db-4620-a3d9-e040-e00a18064a99"
        ],
        [
         "575",
         "876",
         "12692",
         "1.0",
         "466601",
         "2864.0",
         "2418.0",
         "510d47db-4621-a3d9-e040-e00a18064a99"
        ],
        [
         "630",
         "951",
         "12721",
         "2.0",
         "4000011460",
         "3474.0",
         "2282.0",
         "510d47db-5762-a3d9-e040-e00a18064a99"
        ],
        [
         "631",
         "952",
         "12721",
         "1.0",
         "476163",
         "3482.0",
         "2295.0",
         "510d47db-5763-a3d9-e040-e00a18064a99"
        ],
        [
         "668",
         "1022",
         "12744",
         "2.0",
         "4000008206",
         "2837.0",
         "1891.0",
         "510d47db-434b-a3d9-e040-e00a18064a99"
        ],
        [
         "669",
         "1023",
         "12744",
         "1.0",
         "475847",
         "2895.0",
         "1930.0",
         "510d47db-434c-a3d9-e040-e00a18064a99"
        ],
        [
         "694",
         "1072",
         "12760",
         "2.0",
         "4000009367",
         "2257.0",
         "1577.0",
         "510d47db-4a3a-a3d9-e040-e00a18064a99"
        ],
        [
         "695",
         "1073",
         "12760",
         "1.0",
         "467020",
         "2260.0",
         "1604.0",
         "510d47db-4a3b-a3d9-e040-e00a18064a99"
        ],
        [
         "696",
         "1074",
         "12761",
         "2.0",
         "4000009368",
         "2949.0",
         "1955.0",
         "510d47db-4a3c-a3d9-e040-e00a18064a99"
        ],
        [
         "697",
         "1075",
         "12761",
         "1.0",
         "467021",
         "2961.0",
         "1933.0",
         "510d47db-4a3d-a3d9-e040-e00a18064a99"
        ],
        [
         "698",
         "1076",
         "12762",
         "2.0",
         "4000009369",
         "2936.0",
         "1958.0",
         "510d47db-4a3e-a3d9-e040-e00a18064a99"
        ],
        [
         "699",
         "1077",
         "12762",
         "1.0",
         "467022",
         "2930.0",
         "1936.0",
         "510d47db-4a3f-a3d9-e040-e00a18064a99"
        ],
        [
         "736",
         "1114",
         "12777",
         "2.0",
         "4000008670",
         "2822.0",
         "1896.0",
         "510d47db-4638-a3d9-e040-e00a18064a99"
        ],
        [
         "737",
         "1115",
         "12777",
         "1.0",
         "466632",
         "2850.0",
         "1912.0",
         "510d47db-4639-a3d9-e040-e00a18064a99"
        ],
        [
         "740",
         "1118",
         "12779",
         "2.0",
         "4000007998",
         "3143.0",
         "2358.0",
         "510d47db-41f6-a3d9-e040-e00a18064a99"
        ],
        [
         "741",
         "1119",
         "12779",
         "1.0",
         "475692",
         "3130.0",
         "2351.0",
         "510d47db-41f7-a3d9-e040-e00a18064a99"
        ],
        [
         "760",
         "1138",
         "12785",
         "2.0",
         "4000008015",
         "2792.0",
         "2251.0",
         "510d47db-4210-a3d9-e040-e00a18064a99"
        ],
        [
         "761",
         "1139",
         "12785",
         "1.0",
         "475701",
         "2801.0",
         "2302.0",
         "510d47db-4211-a3d9-e040-e00a18064a99"
        ],
        [
         "782",
         "1168",
         "12796",
         "2.0",
         "4000008982",
         "2062.0",
         "1693.0",
         "510d47db-47f6-a3d9-e040-e00a18064a99"
        ],
        [
         "783",
         "1169",
         "12796",
         "1.0",
         "466807",
         "2101.0",
         "1713.0",
         "510d47db-47f7-a3d9-e040-e00a18064a99"
        ]
       ],
       "shape": {
        "columns": 7,
        "rows": 5803
       }
      },
      "text/html": [
       "<div>\n",
       "<style scoped>\n",
       "    .dataframe tbody tr th:only-of-type {\n",
       "        vertical-align: middle;\n",
       "    }\n",
       "\n",
       "    .dataframe tbody tr th {\n",
       "        vertical-align: top;\n",
       "    }\n",
       "\n",
       "    .dataframe thead th {\n",
       "        text-align: right;\n",
       "    }\n",
       "</style>\n",
       "<table border=\"1\" class=\"dataframe\">\n",
       "  <thead>\n",
       "    <tr style=\"text-align: right;\">\n",
       "      <th></th>\n",
       "      <th>id</th>\n",
       "      <th>menu_id</th>\n",
       "      <th>page_number</th>\n",
       "      <th>image_id</th>\n",
       "      <th>full_height</th>\n",
       "      <th>full_width</th>\n",
       "      <th>uuid</th>\n",
       "    </tr>\n",
       "  </thead>\n",
       "  <tbody>\n",
       "    <tr>\n",
       "      <th>0</th>\n",
       "      <td>119</td>\n",
       "      <td>12460</td>\n",
       "      <td>1.0</td>\n",
       "      <td>1603595</td>\n",
       "      <td>7230.0</td>\n",
       "      <td>5428.0</td>\n",
       "      <td>510d47e4-2955-a3d9-e040-e00a18064a99</td>\n",
       "    </tr>\n",
       "    <tr>\n",
       "      <th>1</th>\n",
       "      <td>120</td>\n",
       "      <td>12460</td>\n",
       "      <td>2.0</td>\n",
       "      <td>1603596</td>\n",
       "      <td>5428.0</td>\n",
       "      <td>7230.0</td>\n",
       "      <td>510d47e4-2956-a3d9-e040-e00a18064a99</td>\n",
       "    </tr>\n",
       "    <tr>\n",
       "      <th>2</th>\n",
       "      <td>121</td>\n",
       "      <td>12460</td>\n",
       "      <td>3.0</td>\n",
       "      <td>1603597</td>\n",
       "      <td>7230.0</td>\n",
       "      <td>5428.0</td>\n",
       "      <td>510d47e4-2957-a3d9-e040-e00a18064a99</td>\n",
       "    </tr>\n",
       "    <tr>\n",
       "      <th>3</th>\n",
       "      <td>122</td>\n",
       "      <td>12460</td>\n",
       "      <td>4.0</td>\n",
       "      <td>1603598</td>\n",
       "      <td>7230.0</td>\n",
       "      <td>5428.0</td>\n",
       "      <td>510d47e4-2958-a3d9-e040-e00a18064a99</td>\n",
       "    </tr>\n",
       "    <tr>\n",
       "      <th>4</th>\n",
       "      <td>123</td>\n",
       "      <td>12461</td>\n",
       "      <td>1.0</td>\n",
       "      <td>1603591</td>\n",
       "      <td>7230.0</td>\n",
       "      <td>5428.0</td>\n",
       "      <td>510d47e4-2959-a3d9-e040-e00a18064a99</td>\n",
       "    </tr>\n",
       "    <tr>\n",
       "      <th>...</th>\n",
       "      <td>...</td>\n",
       "      <td>...</td>\n",
       "      <td>...</td>\n",
       "      <td>...</td>\n",
       "      <td>...</td>\n",
       "      <td>...</td>\n",
       "      <td>...</td>\n",
       "    </tr>\n",
       "    <tr>\n",
       "      <th>66922</th>\n",
       "      <td>77417</td>\n",
       "      <td>35525</td>\n",
       "      <td>2.0</td>\n",
       "      <td>5194206</td>\n",
       "      <td>2942.0</td>\n",
       "      <td>1990.0</td>\n",
       "      <td>af4751c0-6212-0132-6245-58d385a7bbd0</td>\n",
       "    </tr>\n",
       "    <tr>\n",
       "      <th>66923</th>\n",
       "      <td>77418</td>\n",
       "      <td>35525</td>\n",
       "      <td>3.0</td>\n",
       "      <td>5194207</td>\n",
       "      <td>2837.0</td>\n",
       "      <td>2628.0</td>\n",
       "      <td>af604d50-6212-0132-b41d-58d385a7bbd0</td>\n",
       "    </tr>\n",
       "    <tr>\n",
       "      <th>66924</th>\n",
       "      <td>77419</td>\n",
       "      <td>35525</td>\n",
       "      <td>4.0</td>\n",
       "      <td>5194208</td>\n",
       "      <td>2852.0</td>\n",
       "      <td>2002.0</td>\n",
       "      <td>af7910c0-6212-0132-e227-58d385a7bbd0</td>\n",
       "    </tr>\n",
       "    <tr>\n",
       "      <th>66925</th>\n",
       "      <td>77420</td>\n",
       "      <td>35525</td>\n",
       "      <td>5.0</td>\n",
       "      <td>5194209</td>\n",
       "      <td>2835.0</td>\n",
       "      <td>1990.0</td>\n",
       "      <td>af92d3f0-6212-0132-6b8d-58d385a7bbd0</td>\n",
       "    </tr>\n",
       "    <tr>\n",
       "      <th>66926</th>\n",
       "      <td>77421</td>\n",
       "      <td>35525</td>\n",
       "      <td>6.0</td>\n",
       "      <td>5194210</td>\n",
       "      <td>2821.0</td>\n",
       "      <td>2130.0</td>\n",
       "      <td>afac7cc0-6212-0132-44a7-58d385a7bbd0</td>\n",
       "    </tr>\n",
       "  </tbody>\n",
       "</table>\n",
       "<p>5803 rows × 7 columns</p>\n",
       "</div>"
      ],
      "text/plain": [
       "          id  menu_id  page_number image_id  full_height  full_width  \\\n",
       "0        119    12460          1.0  1603595       7230.0      5428.0   \n",
       "1        120    12460          2.0  1603596       5428.0      7230.0   \n",
       "2        121    12460          3.0  1603597       7230.0      5428.0   \n",
       "3        122    12460          4.0  1603598       7230.0      5428.0   \n",
       "4        123    12461          1.0  1603591       7230.0      5428.0   \n",
       "...      ...      ...          ...      ...          ...         ...   \n",
       "66922  77417    35525          2.0  5194206       2942.0      1990.0   \n",
       "66923  77418    35525          3.0  5194207       2837.0      2628.0   \n",
       "66924  77419    35525          4.0  5194208       2852.0      2002.0   \n",
       "66925  77420    35525          5.0  5194209       2835.0      1990.0   \n",
       "66926  77421    35525          6.0  5194210       2821.0      2130.0   \n",
       "\n",
       "                                       uuid  \n",
       "0      510d47e4-2955-a3d9-e040-e00a18064a99  \n",
       "1      510d47e4-2956-a3d9-e040-e00a18064a99  \n",
       "2      510d47e4-2957-a3d9-e040-e00a18064a99  \n",
       "3      510d47e4-2958-a3d9-e040-e00a18064a99  \n",
       "4      510d47e4-2959-a3d9-e040-e00a18064a99  \n",
       "...                                     ...  \n",
       "66922  af4751c0-6212-0132-6245-58d385a7bbd0  \n",
       "66923  af604d50-6212-0132-b41d-58d385a7bbd0  \n",
       "66924  af7910c0-6212-0132-e227-58d385a7bbd0  \n",
       "66925  af92d3f0-6212-0132-6b8d-58d385a7bbd0  \n",
       "66926  afac7cc0-6212-0132-44a7-58d385a7bbd0  \n",
       "\n",
       "[5803 rows x 7 columns]"
      ]
     },
     "metadata": {},
     "output_type": "display_data"
    }
   ],
   "source": [
    "# IC Violations and Constraints\n",
    "\n",
    "# check for duplicate rows\n",
    "df = menu_page\n",
    "dups = df[df.duplicated(subset=['id'], keep=False)]\n",
    "display(dups)\n",
    "\n",
    "# FK and PK\n",
    "# PK Verification\n",
    "counts = df.groupby('id')['id'].nunique()\n",
    "bad_id = counts[counts > 1].index\n",
    "bad_df = df[df['id'].isin(bad_id)]\n",
    "display(bad_df)\n",
    "\n",
    "pk_violations = bad_df.groupby(['id', 'id']).size().to_dict()\n",
    "pk_violations\n",
    "\n",
    "# FK Verification\n",
    "bad_fk_menu_page = df[~df[\"menu_id\"].isin(menu[\"id\"])]\n",
    "display(bad_fk_menu_page)"
   ]
  },
  {
   "cell_type": "markdown",
   "id": "8c0c1113",
   "metadata": {},
   "source": [
    "# *Cleaning Verification*"
   ]
  },
  {
   "cell_type": "code",
   "execution_count": 4,
   "id": "d001b5c8",
   "metadata": {},
   "outputs": [],
   "source": [
    "parent_folder = 'NYPL-menus-clean'\n",
    "# dish = pd.read_csv(f\"{parent_folder}/Dish.csv\")\n",
    "# menu = pd.read_csv(f\"{parent_folder}/Menu.csv\")\n",
    "menu_item_clean = pd.read_csv(f\"{parent_folder}/MenuItem.csv\")\n",
    "menu_page_clean = pd.read_csv(f\"{parent_folder}/MenuPage.csv\")"
   ]
  },
  {
   "cell_type": "markdown",
   "id": "9ca7aaf0",
   "metadata": {},
   "source": [
    "## Dish Verify"
   ]
  },
  {
   "cell_type": "code",
   "execution_count": 17,
   "id": "c610e985",
   "metadata": {},
   "outputs": [
    {
     "name": "stdout",
     "output_type": "stream",
     "text": [
      "=== Count ===\n",
      "description    423397\n",
      "dtype: int64\n",
      "=== Percent ===\n",
      "description    1.0\n",
      "dtype: float64\n"
     ]
    }
   ],
   "source": [
    "# null count as percentage or sum\n",
    "fields = ['description']\n",
    "null = dish[fields].isnull()\n",
    "counts = null.sum()\n",
    "\n",
    "print(\"=== Count ===\")\n",
    "print(counts)\n",
    "print(\"=== Percent ===\")\n",
    "print(null.mean())"
   ]
  },
  {
   "cell_type": "code",
   "execution_count": 18,
   "id": "433d7b20",
   "metadata": {},
   "outputs": [
    {
     "data": {
      "text/html": [
       "<div>\n",
       "<style scoped>\n",
       "    .dataframe tbody tr th:only-of-type {\n",
       "        vertical-align: middle;\n",
       "    }\n",
       "\n",
       "    .dataframe tbody tr th {\n",
       "        vertical-align: top;\n",
       "    }\n",
       "\n",
       "    .dataframe thead th {\n",
       "        text-align: right;\n",
       "    }\n",
       "</style>\n",
       "<table border=\"1\" class=\"dataframe\">\n",
       "  <thead>\n",
       "    <tr style=\"text-align: right;\">\n",
       "      <th></th>\n",
       "      <th>id</th>\n",
       "      <th>name</th>\n",
       "      <th>description</th>\n",
       "      <th>menus_appeared</th>\n",
       "      <th>times_appeared</th>\n",
       "      <th>first_appeared</th>\n",
       "      <th>last_appeared</th>\n",
       "      <th>lowest_price</th>\n",
       "      <th>highest_price</th>\n",
       "    </tr>\n",
       "  </thead>\n",
       "  <tbody>\n",
       "  </tbody>\n",
       "</table>\n",
       "</div>"
      ],
      "text/plain": [
       "Empty DataFrame\n",
       "Columns: [id, name, description, menus_appeared, times_appeared, first_appeared, last_appeared, lowest_price, highest_price]\n",
       "Index: []"
      ]
     },
     "metadata": {},
     "output_type": "display_data"
    },
    {
     "data": {
      "text/html": [
       "<div>\n",
       "<style scoped>\n",
       "    .dataframe tbody tr th:only-of-type {\n",
       "        vertical-align: middle;\n",
       "    }\n",
       "\n",
       "    .dataframe tbody tr th {\n",
       "        vertical-align: top;\n",
       "    }\n",
       "\n",
       "    .dataframe thead th {\n",
       "        text-align: right;\n",
       "    }\n",
       "</style>\n",
       "<table border=\"1\" class=\"dataframe\">\n",
       "  <thead>\n",
       "    <tr style=\"text-align: right;\">\n",
       "      <th></th>\n",
       "      <th>id</th>\n",
       "      <th>name</th>\n",
       "      <th>description</th>\n",
       "      <th>menus_appeared</th>\n",
       "      <th>times_appeared</th>\n",
       "      <th>first_appeared</th>\n",
       "      <th>last_appeared</th>\n",
       "      <th>lowest_price</th>\n",
       "      <th>highest_price</th>\n",
       "    </tr>\n",
       "  </thead>\n",
       "  <tbody>\n",
       "  </tbody>\n",
       "</table>\n",
       "</div>"
      ],
      "text/plain": [
       "Empty DataFrame\n",
       "Columns: [id, name, description, menus_appeared, times_appeared, first_appeared, last_appeared, lowest_price, highest_price]\n",
       "Index: []"
      ]
     },
     "metadata": {},
     "output_type": "display_data"
    },
    {
     "data": {
      "text/plain": [
       "{}"
      ]
     },
     "execution_count": 18,
     "metadata": {},
     "output_type": "execute_result"
    }
   ],
   "source": [
    "# IC Violations and Constraints\n",
    "\n",
    "# check for duplicate rows\n",
    "df = dish\n",
    "dups = df[df.duplicated(subset=['id'], keep=False)]\n",
    "display(dups)\n",
    "\n",
    "# FK and PK\n",
    "counts = df.groupby('id')['name'].nunique()\n",
    "bad_id = counts[counts > 1].index\n",
    "bad_df = df[df['id'].isin(bad_id)]\n",
    "display(bad_df)\n",
    "\n",
    "ic3_violations = bad_df.groupby(['id', 'name']).size().to_dict()\n",
    "ic3_violations"
   ]
  },
  {
   "cell_type": "markdown",
   "id": "24d49368",
   "metadata": {},
   "source": [
    "## MenuItem Verify"
   ]
  },
  {
   "cell_type": "code",
   "execution_count": 19,
   "id": "3fac59e5",
   "metadata": {},
   "outputs": [
    {
     "name": "stdout",
     "output_type": "stream",
     "text": [
      "=== Count ===\n",
      "price           445916\n",
      "high_price           0\n",
      "menu_page_id         0\n",
      "dish_id            241\n",
      "dtype: int64\n",
      "=== Percent ===\n",
      "price           0.334589\n",
      "high_price      0.000000\n",
      "menu_page_id    0.000000\n",
      "dish_id         0.000181\n",
      "dtype: float64\n"
     ]
    }
   ],
   "source": [
    "# null count as percentage or sum\n",
    "fields = [\"price\", \"high_price\", \"menu_page_id\", \"dish_id\"]\n",
    "null = menu_item_clean[fields].isnull()\n",
    "counts = null.sum()\n",
    "\n",
    "print(\"=== Count ===\")\n",
    "print(counts)\n",
    "print(\"=== Percent ===\")\n",
    "print(null.mean())"
   ]
  },
  {
   "cell_type": "code",
   "execution_count": 20,
   "id": "386ff856",
   "metadata": {},
   "outputs": [
    {
     "data": {
      "text/html": [
       "<div>\n",
       "<style scoped>\n",
       "    .dataframe tbody tr th:only-of-type {\n",
       "        vertical-align: middle;\n",
       "    }\n",
       "\n",
       "    .dataframe tbody tr th {\n",
       "        vertical-align: top;\n",
       "    }\n",
       "\n",
       "    .dataframe thead th {\n",
       "        text-align: right;\n",
       "    }\n",
       "</style>\n",
       "<table border=\"1\" class=\"dataframe\">\n",
       "  <thead>\n",
       "    <tr style=\"text-align: right;\">\n",
       "      <th></th>\n",
       "      <th>id</th>\n",
       "      <th>menu_page_id</th>\n",
       "      <th>price</th>\n",
       "      <th>high_price</th>\n",
       "      <th>dish_id</th>\n",
       "      <th>created_at</th>\n",
       "      <th>updated_at</th>\n",
       "      <th>xpos</th>\n",
       "      <th>ypos</th>\n",
       "    </tr>\n",
       "  </thead>\n",
       "  <tbody>\n",
       "  </tbody>\n",
       "</table>\n",
       "</div>"
      ],
      "text/plain": [
       "Empty DataFrame\n",
       "Columns: [id, menu_page_id, price, high_price, dish_id, created_at, updated_at, xpos, ypos]\n",
       "Index: []"
      ]
     },
     "metadata": {},
     "output_type": "display_data"
    },
    {
     "data": {
      "text/html": [
       "<div>\n",
       "<style scoped>\n",
       "    .dataframe tbody tr th:only-of-type {\n",
       "        vertical-align: middle;\n",
       "    }\n",
       "\n",
       "    .dataframe tbody tr th {\n",
       "        vertical-align: top;\n",
       "    }\n",
       "\n",
       "    .dataframe thead th {\n",
       "        text-align: right;\n",
       "    }\n",
       "</style>\n",
       "<table border=\"1\" class=\"dataframe\">\n",
       "  <thead>\n",
       "    <tr style=\"text-align: right;\">\n",
       "      <th></th>\n",
       "      <th>id</th>\n",
       "      <th>menu_page_id</th>\n",
       "      <th>price</th>\n",
       "      <th>high_price</th>\n",
       "      <th>dish_id</th>\n",
       "      <th>created_at</th>\n",
       "      <th>updated_at</th>\n",
       "      <th>xpos</th>\n",
       "      <th>ypos</th>\n",
       "    </tr>\n",
       "  </thead>\n",
       "  <tbody>\n",
       "  </tbody>\n",
       "</table>\n",
       "</div>"
      ],
      "text/plain": [
       "Empty DataFrame\n",
       "Columns: [id, menu_page_id, price, high_price, dish_id, created_at, updated_at, xpos, ypos]\n",
       "Index: []"
      ]
     },
     "metadata": {},
     "output_type": "display_data"
    },
    {
     "data": {
      "text/plain": [
       "{}"
      ]
     },
     "metadata": {},
     "output_type": "display_data"
    },
    {
     "data": {
      "text/html": [
       "<div>\n",
       "<style scoped>\n",
       "    .dataframe tbody tr th:only-of-type {\n",
       "        vertical-align: middle;\n",
       "    }\n",
       "\n",
       "    .dataframe tbody tr th {\n",
       "        vertical-align: top;\n",
       "    }\n",
       "\n",
       "    .dataframe thead th {\n",
       "        text-align: right;\n",
       "    }\n",
       "</style>\n",
       "<table border=\"1\" class=\"dataframe\">\n",
       "  <thead>\n",
       "    <tr style=\"text-align: right;\">\n",
       "      <th></th>\n",
       "      <th>id</th>\n",
       "      <th>menu_page_id</th>\n",
       "      <th>price</th>\n",
       "      <th>high_price</th>\n",
       "      <th>dish_id</th>\n",
       "      <th>created_at</th>\n",
       "      <th>updated_at</th>\n",
       "      <th>xpos</th>\n",
       "      <th>ypos</th>\n",
       "    </tr>\n",
       "  </thead>\n",
       "  <tbody>\n",
       "    <tr>\n",
       "      <th>17058</th>\n",
       "      <td>19171</td>\n",
       "      <td>6706</td>\n",
       "      <td>NaN</td>\n",
       "      <td>0.00</td>\n",
       "      <td>NaN</td>\n",
       "      <td>2011-04-21 15:37:27 UTC</td>\n",
       "      <td>2011-04-21 15:45:51 UTC</td>\n",
       "      <td>0.250000</td>\n",
       "      <td>0.910850</td>\n",
       "    </tr>\n",
       "    <tr>\n",
       "      <th>20044</th>\n",
       "      <td>22322</td>\n",
       "      <td>3817</td>\n",
       "      <td>NaN</td>\n",
       "      <td>0.00</td>\n",
       "      <td>NaN</td>\n",
       "      <td>2011-04-21 18:16:13 UTC</td>\n",
       "      <td>2011-04-21 18:17:01 UTC</td>\n",
       "      <td>0.341429</td>\n",
       "      <td>0.704721</td>\n",
       "    </tr>\n",
       "    <tr>\n",
       "      <th>28458</th>\n",
       "      <td>31566</td>\n",
       "      <td>7355</td>\n",
       "      <td>NaN</td>\n",
       "      <td>0.00</td>\n",
       "      <td>NaN</td>\n",
       "      <td>2011-04-22 02:50:52 UTC</td>\n",
       "      <td>2011-04-22 18:48:41 UTC</td>\n",
       "      <td>0.568571</td>\n",
       "      <td>0.346818</td>\n",
       "    </tr>\n",
       "    <tr>\n",
       "      <th>30291</th>\n",
       "      <td>33486</td>\n",
       "      <td>11348</td>\n",
       "      <td>NaN</td>\n",
       "      <td>0.00</td>\n",
       "      <td>NaN</td>\n",
       "      <td>2011-04-22 06:35:32 UTC</td>\n",
       "      <td>2011-04-22 06:39:39 UTC</td>\n",
       "      <td>0.164286</td>\n",
       "      <td>0.477882</td>\n",
       "    </tr>\n",
       "    <tr>\n",
       "      <th>33111</th>\n",
       "      <td>36645</td>\n",
       "      <td>7356</td>\n",
       "      <td>NaN</td>\n",
       "      <td>0.00</td>\n",
       "      <td>NaN</td>\n",
       "      <td>2011-04-22 16:23:28 UTC</td>\n",
       "      <td>2011-04-22 18:59:11 UTC</td>\n",
       "      <td>0.184286</td>\n",
       "      <td>0.346567</td>\n",
       "    </tr>\n",
       "    <tr>\n",
       "      <th>...</th>\n",
       "      <td>...</td>\n",
       "      <td>...</td>\n",
       "      <td>...</td>\n",
       "      <td>...</td>\n",
       "      <td>...</td>\n",
       "      <td>...</td>\n",
       "      <td>...</td>\n",
       "      <td>...</td>\n",
       "      <td>...</td>\n",
       "    </tr>\n",
       "    <tr>\n",
       "      <th>889158</th>\n",
       "      <td>932573</td>\n",
       "      <td>47175</td>\n",
       "      <td>NaN</td>\n",
       "      <td>0.00</td>\n",
       "      <td>NaN</td>\n",
       "      <td>2012-05-14 03:16:30 UTC</td>\n",
       "      <td>2012-05-14 03:22:36 UTC</td>\n",
       "      <td>0.687143</td>\n",
       "      <td>0.275966</td>\n",
       "    </tr>\n",
       "    <tr>\n",
       "      <th>930243</th>\n",
       "      <td>974746</td>\n",
       "      <td>62976</td>\n",
       "      <td>NaN</td>\n",
       "      <td>0.00</td>\n",
       "      <td>NaN</td>\n",
       "      <td>2012-06-20 05:17:58 UTC</td>\n",
       "      <td>2012-06-20 05:32:58 UTC</td>\n",
       "      <td>0.210000</td>\n",
       "      <td>0.115715</td>\n",
       "    </tr>\n",
       "    <tr>\n",
       "      <th>936817</th>\n",
       "      <td>981533</td>\n",
       "      <td>62740</td>\n",
       "      <td>NaN</td>\n",
       "      <td>0.00</td>\n",
       "      <td>NaN</td>\n",
       "      <td>2012-06-22 20:57:32 UTC</td>\n",
       "      <td>2012-06-22 20:58:18 UTC</td>\n",
       "      <td>0.175714</td>\n",
       "      <td>0.250947</td>\n",
       "    </tr>\n",
       "    <tr>\n",
       "      <th>939086</th>\n",
       "      <td>983976</td>\n",
       "      <td>65327</td>\n",
       "      <td>NaN</td>\n",
       "      <td>0.00</td>\n",
       "      <td>NaN</td>\n",
       "      <td>2012-06-23 21:47:35 UTC</td>\n",
       "      <td>2012-06-23 21:41:38 UTC</td>\n",
       "      <td>0.405714</td>\n",
       "      <td>0.176490</td>\n",
       "    </tr>\n",
       "    <tr>\n",
       "      <th>1001144</th>\n",
       "      <td>1047160</td>\n",
       "      <td>69117</td>\n",
       "      <td>0.45</td>\n",
       "      <td>0.45</td>\n",
       "      <td>395403.0</td>\n",
       "      <td>2012-08-14 09:52:01 UTC</td>\n",
       "      <td>2012-08-14 09:52:01 UTC</td>\n",
       "      <td>0.377333</td>\n",
       "      <td>0.469635</td>\n",
       "    </tr>\n",
       "  </tbody>\n",
       "</table>\n",
       "<p>244 rows × 9 columns</p>\n",
       "</div>"
      ],
      "text/plain": [
       "              id  menu_page_id  price  high_price   dish_id  \\\n",
       "17058      19171          6706    NaN        0.00       NaN   \n",
       "20044      22322          3817    NaN        0.00       NaN   \n",
       "28458      31566          7355    NaN        0.00       NaN   \n",
       "30291      33486         11348    NaN        0.00       NaN   \n",
       "33111      36645          7356    NaN        0.00       NaN   \n",
       "...          ...           ...    ...         ...       ...   \n",
       "889158    932573         47175    NaN        0.00       NaN   \n",
       "930243    974746         62976    NaN        0.00       NaN   \n",
       "936817    981533         62740    NaN        0.00       NaN   \n",
       "939086    983976         65327    NaN        0.00       NaN   \n",
       "1001144  1047160         69117   0.45        0.45  395403.0   \n",
       "\n",
       "                      created_at               updated_at      xpos      ypos  \n",
       "17058    2011-04-21 15:37:27 UTC  2011-04-21 15:45:51 UTC  0.250000  0.910850  \n",
       "20044    2011-04-21 18:16:13 UTC  2011-04-21 18:17:01 UTC  0.341429  0.704721  \n",
       "28458    2011-04-22 02:50:52 UTC  2011-04-22 18:48:41 UTC  0.568571  0.346818  \n",
       "30291    2011-04-22 06:35:32 UTC  2011-04-22 06:39:39 UTC  0.164286  0.477882  \n",
       "33111    2011-04-22 16:23:28 UTC  2011-04-22 18:59:11 UTC  0.184286  0.346567  \n",
       "...                          ...                      ...       ...       ...  \n",
       "889158   2012-05-14 03:16:30 UTC  2012-05-14 03:22:36 UTC  0.687143  0.275966  \n",
       "930243   2012-06-20 05:17:58 UTC  2012-06-20 05:32:58 UTC  0.210000  0.115715  \n",
       "936817   2012-06-22 20:57:32 UTC  2012-06-22 20:58:18 UTC  0.175714  0.250947  \n",
       "939086   2012-06-23 21:47:35 UTC  2012-06-23 21:41:38 UTC  0.405714  0.176490  \n",
       "1001144  2012-08-14 09:52:01 UTC  2012-08-14 09:52:01 UTC  0.377333  0.469635  \n",
       "\n",
       "[244 rows x 9 columns]"
      ]
     },
     "metadata": {},
     "output_type": "display_data"
    },
    {
     "data": {
      "text/html": [
       "<div>\n",
       "<style scoped>\n",
       "    .dataframe tbody tr th:only-of-type {\n",
       "        vertical-align: middle;\n",
       "    }\n",
       "\n",
       "    .dataframe tbody tr th {\n",
       "        vertical-align: top;\n",
       "    }\n",
       "\n",
       "    .dataframe thead th {\n",
       "        text-align: right;\n",
       "    }\n",
       "</style>\n",
       "<table border=\"1\" class=\"dataframe\">\n",
       "  <thead>\n",
       "    <tr style=\"text-align: right;\">\n",
       "      <th></th>\n",
       "      <th>id</th>\n",
       "      <th>menu_page_id</th>\n",
       "      <th>price</th>\n",
       "      <th>high_price</th>\n",
       "      <th>dish_id</th>\n",
       "      <th>created_at</th>\n",
       "      <th>updated_at</th>\n",
       "      <th>xpos</th>\n",
       "      <th>ypos</th>\n",
       "    </tr>\n",
       "  </thead>\n",
       "  <tbody>\n",
       "  </tbody>\n",
       "</table>\n",
       "</div>"
      ],
      "text/plain": [
       "Empty DataFrame\n",
       "Columns: [id, menu_page_id, price, high_price, dish_id, created_at, updated_at, xpos, ypos]\n",
       "Index: []"
      ]
     },
     "metadata": {},
     "output_type": "display_data"
    }
   ],
   "source": [
    "# IC Violations and Constraints\n",
    "\n",
    "# check for duplicate rows\n",
    "df = menu_item_clean\n",
    "dups = df[df.duplicated(subset=['id'], keep=False)]\n",
    "display(dups)\n",
    "\n",
    "# FK and PK\n",
    "# PK Verification\n",
    "counts = df.groupby('id')['id'].nunique()\n",
    "bad_id = counts[counts > 1].index\n",
    "bad_df = df[df['id'].isin(bad_id)]\n",
    "display(bad_df)\n",
    "\n",
    "pk_violations = bad_df.groupby(['id', 'id']).size().to_dict()\n",
    "display(pk_violations)\n",
    "\n",
    "# FK Verification\n",
    "bad_fk_menu_item_to_dish = df[~df[\"dish_id\"].isin(dish[\"id\"])]\n",
    "bad_fk_menu_item_to_menu_page = df[~df[\"menu_page_id\"].isin(menu_page[\"id\"])]\n",
    "display(bad_fk_menu_item_to_dish)\n",
    "display(bad_fk_menu_item_to_menu_page)"
   ]
  },
  {
   "cell_type": "markdown",
   "id": "6729956c",
   "metadata": {},
   "source": [
    "## MenuPage"
   ]
  },
  {
   "cell_type": "code",
   "execution_count": 21,
   "id": "7b9146b0",
   "metadata": {},
   "outputs": [
    {
     "name": "stdout",
     "output_type": "stream",
     "text": [
      "=== Count ===\n",
      "id         0\n",
      "menu_id    0\n",
      "dtype: int64\n",
      "=== Percent ===\n",
      "id         0.0\n",
      "menu_id    0.0\n",
      "dtype: float64\n"
     ]
    }
   ],
   "source": [
    "# null count as percentage or sum\n",
    "fields = [\"id\", \"menu_id\"]\n",
    "null = menu_page_clean[fields].isnull()\n",
    "counts = null.sum()\n",
    "\n",
    "print(\"=== Count ===\")\n",
    "print(counts)\n",
    "print(\"=== Percent ===\")\n",
    "print(null.mean())"
   ]
  },
  {
   "cell_type": "code",
   "execution_count": 11,
   "id": "d6a41486",
   "metadata": {},
   "outputs": [
    {
     "data": {
      "application/vnd.microsoft.datawrangler.viewer.v0+json": {
       "columns": [
        {
         "name": "index",
         "rawType": "int64",
         "type": "integer"
        },
        {
         "name": "id",
         "rawType": "int64",
         "type": "integer"
        },
        {
         "name": "menu_id",
         "rawType": "int64",
         "type": "integer"
        },
        {
         "name": "page_number",
         "rawType": "float64",
         "type": "float"
        },
        {
         "name": "image_id",
         "rawType": "object",
         "type": "unknown"
        },
        {
         "name": "full_height",
         "rawType": "float64",
         "type": "float"
        },
        {
         "name": "full_width",
         "rawType": "float64",
         "type": "float"
        },
        {
         "name": "uuid",
         "rawType": "object",
         "type": "unknown"
        }
       ],
       "ref": "763ffb1c-481c-4357-828e-da73c0e09fa3",
       "rows": [],
       "shape": {
        "columns": 7,
        "rows": 0
       }
      },
      "text/html": [
       "<div>\n",
       "<style scoped>\n",
       "    .dataframe tbody tr th:only-of-type {\n",
       "        vertical-align: middle;\n",
       "    }\n",
       "\n",
       "    .dataframe tbody tr th {\n",
       "        vertical-align: top;\n",
       "    }\n",
       "\n",
       "    .dataframe thead th {\n",
       "        text-align: right;\n",
       "    }\n",
       "</style>\n",
       "<table border=\"1\" class=\"dataframe\">\n",
       "  <thead>\n",
       "    <tr style=\"text-align: right;\">\n",
       "      <th></th>\n",
       "      <th>id</th>\n",
       "      <th>menu_id</th>\n",
       "      <th>page_number</th>\n",
       "      <th>image_id</th>\n",
       "      <th>full_height</th>\n",
       "      <th>full_width</th>\n",
       "      <th>uuid</th>\n",
       "    </tr>\n",
       "  </thead>\n",
       "  <tbody>\n",
       "  </tbody>\n",
       "</table>\n",
       "</div>"
      ],
      "text/plain": [
       "Empty DataFrame\n",
       "Columns: [id, menu_id, page_number, image_id, full_height, full_width, uuid]\n",
       "Index: []"
      ]
     },
     "metadata": {},
     "output_type": "display_data"
    },
    {
     "data": {
      "application/vnd.microsoft.datawrangler.viewer.v0+json": {
       "columns": [
        {
         "name": "index",
         "rawType": "int64",
         "type": "integer"
        },
        {
         "name": "id",
         "rawType": "int64",
         "type": "integer"
        },
        {
         "name": "menu_id",
         "rawType": "int64",
         "type": "integer"
        },
        {
         "name": "page_number",
         "rawType": "float64",
         "type": "float"
        },
        {
         "name": "image_id",
         "rawType": "object",
         "type": "unknown"
        },
        {
         "name": "full_height",
         "rawType": "float64",
         "type": "float"
        },
        {
         "name": "full_width",
         "rawType": "float64",
         "type": "float"
        },
        {
         "name": "uuid",
         "rawType": "object",
         "type": "unknown"
        }
       ],
       "ref": "3ec15971-016a-4fd2-828a-7ae7d8ce0154",
       "rows": [],
       "shape": {
        "columns": 7,
        "rows": 0
       }
      },
      "text/html": [
       "<div>\n",
       "<style scoped>\n",
       "    .dataframe tbody tr th:only-of-type {\n",
       "        vertical-align: middle;\n",
       "    }\n",
       "\n",
       "    .dataframe tbody tr th {\n",
       "        vertical-align: top;\n",
       "    }\n",
       "\n",
       "    .dataframe thead th {\n",
       "        text-align: right;\n",
       "    }\n",
       "</style>\n",
       "<table border=\"1\" class=\"dataframe\">\n",
       "  <thead>\n",
       "    <tr style=\"text-align: right;\">\n",
       "      <th></th>\n",
       "      <th>id</th>\n",
       "      <th>menu_id</th>\n",
       "      <th>page_number</th>\n",
       "      <th>image_id</th>\n",
       "      <th>full_height</th>\n",
       "      <th>full_width</th>\n",
       "      <th>uuid</th>\n",
       "    </tr>\n",
       "  </thead>\n",
       "  <tbody>\n",
       "  </tbody>\n",
       "</table>\n",
       "</div>"
      ],
      "text/plain": [
       "Empty DataFrame\n",
       "Columns: [id, menu_id, page_number, image_id, full_height, full_width, uuid]\n",
       "Index: []"
      ]
     },
     "metadata": {},
     "output_type": "display_data"
    },
    {
     "data": {
      "application/vnd.microsoft.datawrangler.viewer.v0+json": {
       "columns": [
        {
         "name": "index",
         "rawType": "int64",
         "type": "integer"
        },
        {
         "name": "id",
         "rawType": "int64",
         "type": "integer"
        },
        {
         "name": "menu_id",
         "rawType": "int64",
         "type": "integer"
        },
        {
         "name": "page_number",
         "rawType": "float64",
         "type": "float"
        },
        {
         "name": "image_id",
         "rawType": "object",
         "type": "string"
        },
        {
         "name": "full_height",
         "rawType": "float64",
         "type": "float"
        },
        {
         "name": "full_width",
         "rawType": "float64",
         "type": "float"
        },
        {
         "name": "uuid",
         "rawType": "object",
         "type": "string"
        }
       ],
       "ref": "89a51228-fbde-4f67-9934-aa21ca8c9fb4",
       "rows": [
        [
         "0",
         "119",
         "12460",
         "1.0",
         "1603595",
         "7230.0",
         "5428.0",
         "510d47e4-2955-a3d9-e040-e00a18064a99"
        ],
        [
         "1",
         "120",
         "12460",
         "2.0",
         "1603596",
         "5428.0",
         "7230.0",
         "510d47e4-2956-a3d9-e040-e00a18064a99"
        ],
        [
         "2",
         "121",
         "12460",
         "3.0",
         "1603597",
         "7230.0",
         "5428.0",
         "510d47e4-2957-a3d9-e040-e00a18064a99"
        ],
        [
         "3",
         "122",
         "12460",
         "4.0",
         "1603598",
         "7230.0",
         "5428.0",
         "510d47e4-2958-a3d9-e040-e00a18064a99"
        ],
        [
         "4",
         "123",
         "12461",
         "1.0",
         "1603591",
         "7230.0",
         "5428.0",
         "510d47e4-2959-a3d9-e040-e00a18064a99"
        ],
        [
         "5",
         "124",
         "12461",
         "2.0",
         "1603592",
         "7230.0",
         "5428.0",
         "510d47e4-295a-a3d9-e040-e00a18064a99"
        ],
        [
         "6",
         "125",
         "12461",
         "3.0",
         "1603593",
         "7230.0",
         "5428.0",
         "510d47e4-295b-a3d9-e040-e00a18064a99"
        ],
        [
         "7",
         "126",
         "12461",
         "4.0",
         "1603594",
         "7230.0",
         "5428.0",
         "510d47e4-295c-a3d9-e040-e00a18064a99"
        ],
        [
         "8",
         "127",
         "12462",
         "2.0",
         "4000001128",
         null,
         null,
         "510d47db-1ef8-a3d9-e040-e00a18064a99"
        ],
        [
         "9",
         "128",
         "12462",
         "1.0",
         "474450",
         null,
         null,
         "510d47db-1ef9-a3d9-e040-e00a18064a99"
        ],
        [
         "240",
         "401",
         "12544",
         "2.0",
         "4000008940",
         "2723.0",
         "1950.0",
         "510d47db-47b4-a3d9-e040-e00a18064a99"
        ],
        [
         "241",
         "402",
         "12544",
         "1.0",
         "466778",
         "2732.0",
         "1965.0",
         "510d47db-47b5-a3d9-e040-e00a18064a99"
        ],
        [
         "298",
         "475",
         "12566",
         "2.0",
         "4000009678",
         "1911.0",
         "1330.0",
         "510d47db-4c26-a3d9-e040-e00a18064a99"
        ],
        [
         "299",
         "476",
         "12566",
         "1.0",
         "467218",
         "1934.0",
         "1300.0",
         "510d47db-4c27-a3d9-e040-e00a18064a99"
        ],
        [
         "311",
         "488",
         "12572",
         "2.0",
         "4000008655",
         "2883.0",
         "2025.0",
         "510d47db-4620-a3d9-e040-e00a18064a99"
        ],
        [
         "312",
         "489",
         "12572",
         "1.0",
         "466601",
         "2864.0",
         "2418.0",
         "510d47db-4621-a3d9-e040-e00a18064a99"
        ],
        [
         "329",
         "506",
         "12580",
         "1.0",
         "1603595",
         "7230.0",
         "5428.0",
         "510d47e4-2955-a3d9-e040-e00a18064a99"
        ],
        [
         "330",
         "507",
         "12580",
         "2.0",
         "1603596",
         "5428.0",
         "7230.0",
         "510d47e4-2956-a3d9-e040-e00a18064a99"
        ],
        [
         "331",
         "508",
         "12580",
         "3.0",
         "1603597",
         "7230.0",
         "5428.0",
         "510d47e4-2957-a3d9-e040-e00a18064a99"
        ],
        [
         "332",
         "509",
         "12580",
         "4.0",
         "1603598",
         "7230.0",
         "5428.0",
         "510d47e4-2958-a3d9-e040-e00a18064a99"
        ],
        [
         "333",
         "510",
         "12581",
         "1.0",
         "1603591",
         "7230.0",
         "5428.0",
         "510d47e4-2959-a3d9-e040-e00a18064a99"
        ],
        [
         "334",
         "511",
         "12581",
         "2.0",
         "1603592",
         "7230.0",
         "5428.0",
         "510d47e4-295a-a3d9-e040-e00a18064a99"
        ],
        [
         "335",
         "512",
         "12581",
         "3.0",
         "1603593",
         "7230.0",
         "5428.0",
         "510d47e4-295b-a3d9-e040-e00a18064a99"
        ],
        [
         "336",
         "513",
         "12581",
         "4.0",
         "1603594",
         "7230.0",
         "5428.0",
         "510d47e4-295c-a3d9-e040-e00a18064a99"
        ],
        [
         "337",
         "514",
         "12582",
         "2.0",
         "4000001128",
         null,
         null,
         "510d47db-1ef8-a3d9-e040-e00a18064a99"
        ],
        [
         "338",
         "515",
         "12582",
         "1.0",
         "474450",
         null,
         null,
         "510d47db-1ef9-a3d9-e040-e00a18064a99"
        ],
        [
         "538",
         "788",
         "12664",
         "2.0",
         "4000008940",
         "2723.0",
         "1950.0",
         "510d47db-47b4-a3d9-e040-e00a18064a99"
        ],
        [
         "539",
         "789",
         "12664",
         "1.0",
         "466778",
         "2732.0",
         "1965.0",
         "510d47db-47b5-a3d9-e040-e00a18064a99"
        ],
        [
         "568",
         "862",
         "12686",
         "2.0",
         "4000009678",
         "1911.0",
         "1330.0",
         "510d47db-4c26-a3d9-e040-e00a18064a99"
        ],
        [
         "569",
         "863",
         "12686",
         "1.0",
         "467218",
         "1934.0",
         "1300.0",
         "510d47db-4c27-a3d9-e040-e00a18064a99"
        ],
        [
         "574",
         "875",
         "12692",
         "2.0",
         "4000008655",
         "2883.0",
         "2025.0",
         "510d47db-4620-a3d9-e040-e00a18064a99"
        ],
        [
         "575",
         "876",
         "12692",
         "1.0",
         "466601",
         "2864.0",
         "2418.0",
         "510d47db-4621-a3d9-e040-e00a18064a99"
        ],
        [
         "630",
         "951",
         "12721",
         "2.0",
         "4000011460",
         "3474.0",
         "2282.0",
         "510d47db-5762-a3d9-e040-e00a18064a99"
        ],
        [
         "631",
         "952",
         "12721",
         "1.0",
         "476163",
         "3482.0",
         "2295.0",
         "510d47db-5763-a3d9-e040-e00a18064a99"
        ],
        [
         "668",
         "1022",
         "12744",
         "2.0",
         "4000008206",
         "2837.0",
         "1891.0",
         "510d47db-434b-a3d9-e040-e00a18064a99"
        ],
        [
         "669",
         "1023",
         "12744",
         "1.0",
         "475847",
         "2895.0",
         "1930.0",
         "510d47db-434c-a3d9-e040-e00a18064a99"
        ],
        [
         "694",
         "1072",
         "12760",
         "2.0",
         "4000009367",
         "2257.0",
         "1577.0",
         "510d47db-4a3a-a3d9-e040-e00a18064a99"
        ],
        [
         "695",
         "1073",
         "12760",
         "1.0",
         "467020",
         "2260.0",
         "1604.0",
         "510d47db-4a3b-a3d9-e040-e00a18064a99"
        ],
        [
         "696",
         "1074",
         "12761",
         "2.0",
         "4000009368",
         "2949.0",
         "1955.0",
         "510d47db-4a3c-a3d9-e040-e00a18064a99"
        ],
        [
         "697",
         "1075",
         "12761",
         "1.0",
         "467021",
         "2961.0",
         "1933.0",
         "510d47db-4a3d-a3d9-e040-e00a18064a99"
        ],
        [
         "698",
         "1076",
         "12762",
         "2.0",
         "4000009369",
         "2936.0",
         "1958.0",
         "510d47db-4a3e-a3d9-e040-e00a18064a99"
        ],
        [
         "699",
         "1077",
         "12762",
         "1.0",
         "467022",
         "2930.0",
         "1936.0",
         "510d47db-4a3f-a3d9-e040-e00a18064a99"
        ],
        [
         "736",
         "1114",
         "12777",
         "2.0",
         "4000008670",
         "2822.0",
         "1896.0",
         "510d47db-4638-a3d9-e040-e00a18064a99"
        ],
        [
         "737",
         "1115",
         "12777",
         "1.0",
         "466632",
         "2850.0",
         "1912.0",
         "510d47db-4639-a3d9-e040-e00a18064a99"
        ],
        [
         "740",
         "1118",
         "12779",
         "2.0",
         "4000007998",
         "3143.0",
         "2358.0",
         "510d47db-41f6-a3d9-e040-e00a18064a99"
        ],
        [
         "741",
         "1119",
         "12779",
         "1.0",
         "475692",
         "3130.0",
         "2351.0",
         "510d47db-41f7-a3d9-e040-e00a18064a99"
        ],
        [
         "760",
         "1138",
         "12785",
         "2.0",
         "4000008015",
         "2792.0",
         "2251.0",
         "510d47db-4210-a3d9-e040-e00a18064a99"
        ],
        [
         "761",
         "1139",
         "12785",
         "1.0",
         "475701",
         "2801.0",
         "2302.0",
         "510d47db-4211-a3d9-e040-e00a18064a99"
        ],
        [
         "782",
         "1168",
         "12796",
         "2.0",
         "4000008982",
         "2062.0",
         "1693.0",
         "510d47db-47f6-a3d9-e040-e00a18064a99"
        ],
        [
         "783",
         "1169",
         "12796",
         "1.0",
         "466807",
         "2101.0",
         "1713.0",
         "510d47db-47f7-a3d9-e040-e00a18064a99"
        ]
       ],
       "shape": {
        "columns": 7,
        "rows": 5803
       }
      },
      "text/html": [
       "<div>\n",
       "<style scoped>\n",
       "    .dataframe tbody tr th:only-of-type {\n",
       "        vertical-align: middle;\n",
       "    }\n",
       "\n",
       "    .dataframe tbody tr th {\n",
       "        vertical-align: top;\n",
       "    }\n",
       "\n",
       "    .dataframe thead th {\n",
       "        text-align: right;\n",
       "    }\n",
       "</style>\n",
       "<table border=\"1\" class=\"dataframe\">\n",
       "  <thead>\n",
       "    <tr style=\"text-align: right;\">\n",
       "      <th></th>\n",
       "      <th>id</th>\n",
       "      <th>menu_id</th>\n",
       "      <th>page_number</th>\n",
       "      <th>image_id</th>\n",
       "      <th>full_height</th>\n",
       "      <th>full_width</th>\n",
       "      <th>uuid</th>\n",
       "    </tr>\n",
       "  </thead>\n",
       "  <tbody>\n",
       "    <tr>\n",
       "      <th>0</th>\n",
       "      <td>119</td>\n",
       "      <td>12460</td>\n",
       "      <td>1.0</td>\n",
       "      <td>1603595</td>\n",
       "      <td>7230.0</td>\n",
       "      <td>5428.0</td>\n",
       "      <td>510d47e4-2955-a3d9-e040-e00a18064a99</td>\n",
       "    </tr>\n",
       "    <tr>\n",
       "      <th>1</th>\n",
       "      <td>120</td>\n",
       "      <td>12460</td>\n",
       "      <td>2.0</td>\n",
       "      <td>1603596</td>\n",
       "      <td>5428.0</td>\n",
       "      <td>7230.0</td>\n",
       "      <td>510d47e4-2956-a3d9-e040-e00a18064a99</td>\n",
       "    </tr>\n",
       "    <tr>\n",
       "      <th>2</th>\n",
       "      <td>121</td>\n",
       "      <td>12460</td>\n",
       "      <td>3.0</td>\n",
       "      <td>1603597</td>\n",
       "      <td>7230.0</td>\n",
       "      <td>5428.0</td>\n",
       "      <td>510d47e4-2957-a3d9-e040-e00a18064a99</td>\n",
       "    </tr>\n",
       "    <tr>\n",
       "      <th>3</th>\n",
       "      <td>122</td>\n",
       "      <td>12460</td>\n",
       "      <td>4.0</td>\n",
       "      <td>1603598</td>\n",
       "      <td>7230.0</td>\n",
       "      <td>5428.0</td>\n",
       "      <td>510d47e4-2958-a3d9-e040-e00a18064a99</td>\n",
       "    </tr>\n",
       "    <tr>\n",
       "      <th>4</th>\n",
       "      <td>123</td>\n",
       "      <td>12461</td>\n",
       "      <td>1.0</td>\n",
       "      <td>1603591</td>\n",
       "      <td>7230.0</td>\n",
       "      <td>5428.0</td>\n",
       "      <td>510d47e4-2959-a3d9-e040-e00a18064a99</td>\n",
       "    </tr>\n",
       "    <tr>\n",
       "      <th>...</th>\n",
       "      <td>...</td>\n",
       "      <td>...</td>\n",
       "      <td>...</td>\n",
       "      <td>...</td>\n",
       "      <td>...</td>\n",
       "      <td>...</td>\n",
       "      <td>...</td>\n",
       "    </tr>\n",
       "    <tr>\n",
       "      <th>66922</th>\n",
       "      <td>77417</td>\n",
       "      <td>35525</td>\n",
       "      <td>2.0</td>\n",
       "      <td>5194206</td>\n",
       "      <td>2942.0</td>\n",
       "      <td>1990.0</td>\n",
       "      <td>af4751c0-6212-0132-6245-58d385a7bbd0</td>\n",
       "    </tr>\n",
       "    <tr>\n",
       "      <th>66923</th>\n",
       "      <td>77418</td>\n",
       "      <td>35525</td>\n",
       "      <td>3.0</td>\n",
       "      <td>5194207</td>\n",
       "      <td>2837.0</td>\n",
       "      <td>2628.0</td>\n",
       "      <td>af604d50-6212-0132-b41d-58d385a7bbd0</td>\n",
       "    </tr>\n",
       "    <tr>\n",
       "      <th>66924</th>\n",
       "      <td>77419</td>\n",
       "      <td>35525</td>\n",
       "      <td>4.0</td>\n",
       "      <td>5194208</td>\n",
       "      <td>2852.0</td>\n",
       "      <td>2002.0</td>\n",
       "      <td>af7910c0-6212-0132-e227-58d385a7bbd0</td>\n",
       "    </tr>\n",
       "    <tr>\n",
       "      <th>66925</th>\n",
       "      <td>77420</td>\n",
       "      <td>35525</td>\n",
       "      <td>5.0</td>\n",
       "      <td>5194209</td>\n",
       "      <td>2835.0</td>\n",
       "      <td>1990.0</td>\n",
       "      <td>af92d3f0-6212-0132-6b8d-58d385a7bbd0</td>\n",
       "    </tr>\n",
       "    <tr>\n",
       "      <th>66926</th>\n",
       "      <td>77421</td>\n",
       "      <td>35525</td>\n",
       "      <td>6.0</td>\n",
       "      <td>5194210</td>\n",
       "      <td>2821.0</td>\n",
       "      <td>2130.0</td>\n",
       "      <td>afac7cc0-6212-0132-44a7-58d385a7bbd0</td>\n",
       "    </tr>\n",
       "  </tbody>\n",
       "</table>\n",
       "<p>5803 rows × 7 columns</p>\n",
       "</div>"
      ],
      "text/plain": [
       "          id  menu_id  page_number image_id  full_height  full_width  \\\n",
       "0        119    12460          1.0  1603595       7230.0      5428.0   \n",
       "1        120    12460          2.0  1603596       5428.0      7230.0   \n",
       "2        121    12460          3.0  1603597       7230.0      5428.0   \n",
       "3        122    12460          4.0  1603598       7230.0      5428.0   \n",
       "4        123    12461          1.0  1603591       7230.0      5428.0   \n",
       "...      ...      ...          ...      ...          ...         ...   \n",
       "66922  77417    35525          2.0  5194206       2942.0      1990.0   \n",
       "66923  77418    35525          3.0  5194207       2837.0      2628.0   \n",
       "66924  77419    35525          4.0  5194208       2852.0      2002.0   \n",
       "66925  77420    35525          5.0  5194209       2835.0      1990.0   \n",
       "66926  77421    35525          6.0  5194210       2821.0      2130.0   \n",
       "\n",
       "                                       uuid  \n",
       "0      510d47e4-2955-a3d9-e040-e00a18064a99  \n",
       "1      510d47e4-2956-a3d9-e040-e00a18064a99  \n",
       "2      510d47e4-2957-a3d9-e040-e00a18064a99  \n",
       "3      510d47e4-2958-a3d9-e040-e00a18064a99  \n",
       "4      510d47e4-2959-a3d9-e040-e00a18064a99  \n",
       "...                                     ...  \n",
       "66922  af4751c0-6212-0132-6245-58d385a7bbd0  \n",
       "66923  af604d50-6212-0132-b41d-58d385a7bbd0  \n",
       "66924  af7910c0-6212-0132-e227-58d385a7bbd0  \n",
       "66925  af92d3f0-6212-0132-6b8d-58d385a7bbd0  \n",
       "66926  afac7cc0-6212-0132-44a7-58d385a7bbd0  \n",
       "\n",
       "[5803 rows x 7 columns]"
      ]
     },
     "metadata": {},
     "output_type": "display_data"
    }
   ],
   "source": [
    "# IC Violations and Constraints\n",
    "\n",
    "# check for duplicate rows\n",
    "df = menu_page_clean\n",
    "dups = df[df.duplicated(subset=['id'], keep=False)]\n",
    "display(dups)\n",
    "\n",
    "# FK and PK\n",
    "# PK Verification\n",
    "counts = df.groupby('id')['id'].nunique()\n",
    "bad_id = counts[counts > 1].index\n",
    "bad_df = df[df['id'].isin(bad_id)]\n",
    "display(bad_df)\n",
    "\n",
    "pk_violations = bad_df.groupby(['id', 'id']).size().to_dict()\n",
    "pk_violations\n",
    "\n",
    "# FK Verification\n",
    "bad_fk_menu_page = df[~df[\"menu_id\"].isin(menu[\"id\"])]\n",
    "display(bad_fk_menu_page)"
   ]
  },
  {
   "cell_type": "markdown",
   "id": "6e7fccc7",
   "metadata": {},
   "source": [
    "# Data Cleaning"
   ]
  },
  {
   "cell_type": "code",
   "execution_count": 1,
   "id": "bc433a2e",
   "metadata": {},
   "outputs": [],
   "source": [
    "# done in Open Refine"
   ]
  },
  {
   "cell_type": "code",
   "execution_count": null,
   "id": "e94e3409",
   "metadata": {},
   "outputs": [],
   "source": []
  }
 ],
 "metadata": {
  "kernelspec": {
   "display_name": "base",
   "language": "python",
   "name": "python3"
  },
  "language_info": {
   "codemirror_mode": {
    "name": "ipython",
    "version": 3
   },
   "file_extension": ".py",
   "mimetype": "text/x-python",
   "name": "python",
   "nbconvert_exporter": "python",
   "pygments_lexer": "ipython3",
   "version": "3.9.18"
  }
 },
 "nbformat": 4,
 "nbformat_minor": 5
}
