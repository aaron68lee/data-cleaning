{
 "cells": [
  {
   "cell_type": "code",
   "execution_count": 2,
   "id": "3988728a",
   "metadata": {},
   "outputs": [
    {
     "data": {
      "application/vnd.microsoft.datawrangler.viewer.v0+json": {
       "columns": [
        {
         "name": "index",
         "rawType": "int64",
         "type": "integer"
        },
        {
         "name": "id",
         "rawType": "int64",
         "type": "integer"
        },
        {
         "name": "name",
         "rawType": "object",
         "type": "string"
        },
        {
         "name": "description",
         "rawType": "float64",
         "type": "float"
        },
        {
         "name": "menus_appeared",
         "rawType": "int64",
         "type": "integer"
        },
        {
         "name": "times_appeared",
         "rawType": "int64",
         "type": "integer"
        },
        {
         "name": "first_appeared",
         "rawType": "int64",
         "type": "integer"
        },
        {
         "name": "last_appeared",
         "rawType": "int64",
         "type": "integer"
        },
        {
         "name": "lowest_price",
         "rawType": "float64",
         "type": "float"
        },
        {
         "name": "highest_price",
         "rawType": "float64",
         "type": "float"
        }
       ],
       "ref": "18db9266-4b00-4779-b2fc-d9ee01b78422",
       "rows": [
        [
         "0",
         "1",
         "Consomme printaniere royal",
         null,
         "8",
         "8",
         "1897",
         "1927",
         "0.2",
         "0.4"
        ],
        [
         "1",
         "2",
         "Chicken gumbo",
         null,
         "111",
         "117",
         "1895",
         "1960",
         "0.1",
         "0.8"
        ],
        [
         "2",
         "3",
         "Tomato aux croutons",
         null,
         "13",
         "13",
         "1893",
         "1917",
         "0.25",
         "0.4"
        ],
        [
         "3",
         "4",
         "Onion au gratin",
         null,
         "41",
         "41",
         "1900",
         "1971",
         "0.25",
         "1.0"
        ],
        [
         "4",
         "5",
         "St. Emilion",
         null,
         "66",
         "68",
         "1881",
         "1981",
         "0.0",
         "18.0"
        ],
        [
         "5",
         "7",
         "Radishes",
         null,
         "3262",
         "3346",
         "1854",
         "2928",
         "0.0",
         "25.0"
        ],
        [
         "6",
         "8",
         "Chicken soup with rice",
         null,
         "48",
         "49",
         "1897",
         "1961",
         "0.1",
         "0.6"
        ],
        [
         "7",
         "9",
         "Clam broth (cup)",
         null,
         "14",
         "16",
         "1899",
         "1962",
         "0.15",
         "0.4"
        ],
        [
         "8",
         "10",
         "Cream of new asparagus, croutons",
         null,
         "2",
         "2",
         "1900",
         "1900",
         "0.0",
         "0.0"
        ],
        [
         "9",
         "11",
         "Clear green turtle",
         null,
         "157",
         "157",
         "1893",
         "1937",
         "0.25",
         "60.0"
        ],
        [
         "10",
         "12",
         "Striped bass saute, meuniere",
         null,
         "2",
         "2",
         "1900",
         "1900",
         "0.0",
         "0.0"
        ],
        [
         "11",
         "13",
         "Anchovies",
         null,
         "453",
         "484",
         "1858",
         "1987",
         "0.0",
         "30.0"
        ],
        [
         "12",
         "14",
         "Fresh lobsters in every style",
         null,
         "4",
         "4",
         "1899",
         "1900",
         "0.0",
         "0.0"
        ],
        [
         "13",
         "15",
         "Celery",
         null,
         "4246",
         "4690",
         "1",
         "2928",
         "0.0",
         "50.0"
        ],
        [
         "14",
         "16",
         "Pim-olas",
         null,
         "145",
         "148",
         "1897",
         "1918",
         "0.15",
         "35.0"
        ],
        [
         "15",
         "17",
         "Caviar",
         null,
         "505",
         "534",
         "1880",
         "1987",
         "0.0",
         "75.0"
        ],
        [
         "16",
         "18",
         "Sardines",
         null,
         "1425",
         "1484",
         "1856",
         "2928",
         "0.0",
         "50.0"
        ],
        [
         "17",
         "19",
         "India chutney",
         null,
         "16",
         "16",
         "1865",
         "1901",
         "0.1",
         "0.2"
        ],
        [
         "18",
         "20",
         "Pickles",
         null,
         "453",
         "472",
         "1852",
         "1987",
         "0.0",
         "10.0"
        ],
        [
         "19",
         "21",
         "English walnuts",
         null,
         "83",
         "86",
         "1851",
         "1948",
         "0.1",
         "0.3"
        ],
        [
         "20",
         "22",
         "Pate de foies-gras",
         null,
         "9",
         "9",
         "1898",
         "1901",
         "1.0",
         "1.0"
        ],
        [
         "21",
         "23",
         "Pomard",
         null,
         "11",
         "11",
         "1880",
         "1950",
         "0.75",
         "5.0"
        ],
        [
         "22",
         "24",
         "Brook trout, mountain style",
         null,
         "2",
         "2",
         "1900",
         "1900",
         "0.0",
         "0.0"
        ],
        [
         "23",
         "25",
         "Whitebait, sauce tartare",
         null,
         "4",
         "4",
         "1900",
         "1901",
         "0.3",
         "0.75"
        ],
        [
         "24",
         "26",
         "Clams",
         null,
         "170",
         "180",
         "1881",
         "1970",
         "0.1",
         "0.9"
        ],
        [
         "25",
         "27",
         "Oysters",
         null,
         "289",
         "292",
         "1862",
         "1963",
         "0.0",
         "35.0"
        ],
        [
         "26",
         "28",
         "Claremont planked shad",
         null,
         "2",
         "2",
         "1899",
         "1900",
         "1.5",
         "2.5"
        ],
        [
         "27",
         "29",
         "G. H. Mumm & Co's Extra Dry",
         null,
         "14",
         "14",
         "1895",
         "1914",
         "2.0",
         "4.0"
        ],
        [
         "28",
         "30",
         "Cerealine with Milk",
         null,
         "1",
         "1",
         "1901",
         "1901",
         "0.0",
         "0.0"
        ],
        [
         "29",
         "31",
         "Sliced Bananas",
         null,
         "220",
         "238",
         "1900",
         "1987",
         "0.0",
         "15.0"
        ],
        [
         "30",
         "32",
         "Wheat Vitos",
         null,
         "3",
         "3",
         "1900",
         "1900",
         "0.0",
         "0.0"
        ],
        [
         "31",
         "33",
         "Sliced Tomatoes",
         null,
         "1195",
         "1256",
         "1873",
         "2928",
         "0.0",
         "25.0"
        ],
        [
         "32",
         "34",
         "Russian Caviare on Toast",
         null,
         "3",
         "3",
         "1900",
         "1900",
         null,
         null
        ],
        [
         "33",
         "35",
         "Smoked beef in cream",
         null,
         "21",
         "21",
         "1896",
         "1933",
         "0.3",
         "0.9"
        ],
        [
         "34",
         "38",
         "Apple Sauce",
         null,
         "721",
         "829",
         "1",
         "1987",
         "0.0",
         "20.0"
        ],
        [
         "35",
         "39",
         "Potage a la Victoria",
         null,
         "5",
         "5",
         "1899",
         "1901",
         null,
         null
        ],
        [
         "36",
         "40",
         "Breakfast",
         null,
         "28",
         "28",
         "1900",
         "1967",
         "0.25",
         "1.0"
        ],
        [
         "37",
         "41",
         "Strawberries",
         null,
         "304",
         "339",
         "1854",
         "1985",
         "0.0",
         "50.0"
        ],
        [
         "38",
         "42",
         "Preserved figs",
         null,
         "257",
         "259",
         "1889",
         "1969",
         "0.0",
         "30.0"
        ],
        [
         "39",
         "43",
         "BLUE POINTS",
         null,
         "868",
         "891",
         "1881",
         "1968",
         "0.15",
         "50.0"
        ],
        [
         "40",
         "44",
         "CONSOMME ANGLAISE",
         null,
         "5",
         "5",
         "1900",
         "1907",
         "0.2",
         "0.25"
        ],
        [
         "41",
         "45",
         "CREAM OF CAULIFLOWER",
         null,
         "18",
         "18",
         "1899",
         "1949",
         "0.1",
         "0.5"
        ],
        [
         "42",
         "46",
         "BROILED SHAD, A LA MAITRE D'HOTEL",
         null,
         "6",
         "6",
         "1896",
         "1900",
         "0.0",
         "0.0"
        ],
        [
         "43",
         "47",
         "SLICED CUCUMBERS",
         null,
         "455",
         "458",
         "1881",
         "1964",
         "0.0",
         "25.0"
        ],
        [
         "44",
         "48",
         "SALTED ALMONDS",
         null,
         "773",
         "782",
         "1889",
         "2012",
         "0.0",
         "10.0"
        ],
        [
         "45",
         "49",
         "POTATOES, JULIEN",
         null,
         "3",
         "3",
         "1900",
         "1900",
         "0.0",
         "0.0"
        ],
        [
         "46",
         "50",
         "Cracked Wheat",
         null,
         "120",
         "124",
         "1859",
         "1917",
         "0.1",
         "0.3"
        ],
        [
         "47",
         "51",
         "Malt Breakfast Food",
         null,
         "63",
         "64",
         "1899",
         "1917",
         "0.1",
         "0.35"
        ],
        [
         "48",
         "52",
         "BOILED BEEF TONGUE, ITALIAN SAUCE",
         null,
         "3",
         "3",
         "1900",
         "1900",
         "0.0",
         "0.0"
        ],
        [
         "49",
         "53",
         "Young Onions",
         null,
         "157",
         "157",
         "1894",
         "1949",
         "0.05",
         "10.0"
        ]
       ],
       "shape": {
        "columns": 9,
        "rows": 423397
       }
      },
      "text/html": [
       "<div>\n",
       "<style scoped>\n",
       "    .dataframe tbody tr th:only-of-type {\n",
       "        vertical-align: middle;\n",
       "    }\n",
       "\n",
       "    .dataframe tbody tr th {\n",
       "        vertical-align: top;\n",
       "    }\n",
       "\n",
       "    .dataframe thead th {\n",
       "        text-align: right;\n",
       "    }\n",
       "</style>\n",
       "<table border=\"1\" class=\"dataframe\">\n",
       "  <thead>\n",
       "    <tr style=\"text-align: right;\">\n",
       "      <th></th>\n",
       "      <th>id</th>\n",
       "      <th>name</th>\n",
       "      <th>description</th>\n",
       "      <th>menus_appeared</th>\n",
       "      <th>times_appeared</th>\n",
       "      <th>first_appeared</th>\n",
       "      <th>last_appeared</th>\n",
       "      <th>lowest_price</th>\n",
       "      <th>highest_price</th>\n",
       "    </tr>\n",
       "  </thead>\n",
       "  <tbody>\n",
       "    <tr>\n",
       "      <th>0</th>\n",
       "      <td>1</td>\n",
       "      <td>Consomme printaniere royal</td>\n",
       "      <td>NaN</td>\n",
       "      <td>8</td>\n",
       "      <td>8</td>\n",
       "      <td>1897</td>\n",
       "      <td>1927</td>\n",
       "      <td>0.20</td>\n",
       "      <td>0.4</td>\n",
       "    </tr>\n",
       "    <tr>\n",
       "      <th>1</th>\n",
       "      <td>2</td>\n",
       "      <td>Chicken gumbo</td>\n",
       "      <td>NaN</td>\n",
       "      <td>111</td>\n",
       "      <td>117</td>\n",
       "      <td>1895</td>\n",
       "      <td>1960</td>\n",
       "      <td>0.10</td>\n",
       "      <td>0.8</td>\n",
       "    </tr>\n",
       "    <tr>\n",
       "      <th>2</th>\n",
       "      <td>3</td>\n",
       "      <td>Tomato aux croutons</td>\n",
       "      <td>NaN</td>\n",
       "      <td>13</td>\n",
       "      <td>13</td>\n",
       "      <td>1893</td>\n",
       "      <td>1917</td>\n",
       "      <td>0.25</td>\n",
       "      <td>0.4</td>\n",
       "    </tr>\n",
       "    <tr>\n",
       "      <th>3</th>\n",
       "      <td>4</td>\n",
       "      <td>Onion au gratin</td>\n",
       "      <td>NaN</td>\n",
       "      <td>41</td>\n",
       "      <td>41</td>\n",
       "      <td>1900</td>\n",
       "      <td>1971</td>\n",
       "      <td>0.25</td>\n",
       "      <td>1.0</td>\n",
       "    </tr>\n",
       "    <tr>\n",
       "      <th>4</th>\n",
       "      <td>5</td>\n",
       "      <td>St. Emilion</td>\n",
       "      <td>NaN</td>\n",
       "      <td>66</td>\n",
       "      <td>68</td>\n",
       "      <td>1881</td>\n",
       "      <td>1981</td>\n",
       "      <td>0.00</td>\n",
       "      <td>18.0</td>\n",
       "    </tr>\n",
       "    <tr>\n",
       "      <th>...</th>\n",
       "      <td>...</td>\n",
       "      <td>...</td>\n",
       "      <td>...</td>\n",
       "      <td>...</td>\n",
       "      <td>...</td>\n",
       "      <td>...</td>\n",
       "      <td>...</td>\n",
       "      <td>...</td>\n",
       "      <td>...</td>\n",
       "    </tr>\n",
       "    <tr>\n",
       "      <th>423392</th>\n",
       "      <td>515673</td>\n",
       "      <td>Boiled: Corned beef &amp; cabbage</td>\n",
       "      <td>NaN</td>\n",
       "      <td>1</td>\n",
       "      <td>1</td>\n",
       "      <td>0</td>\n",
       "      <td>0</td>\n",
       "      <td>0.00</td>\n",
       "      <td>0.0</td>\n",
       "    </tr>\n",
       "    <tr>\n",
       "      <th>423393</th>\n",
       "      <td>515674</td>\n",
       "      <td>Boiled: Knuckle of Veal &amp; Bacon</td>\n",
       "      <td>NaN</td>\n",
       "      <td>1</td>\n",
       "      <td>1</td>\n",
       "      <td>0</td>\n",
       "      <td>0</td>\n",
       "      <td>0.00</td>\n",
       "      <td>0.0</td>\n",
       "    </tr>\n",
       "    <tr>\n",
       "      <th>423394</th>\n",
       "      <td>515675</td>\n",
       "      <td>Roast: Turkey &amp; Cranberry Sauce</td>\n",
       "      <td>NaN</td>\n",
       "      <td>1</td>\n",
       "      <td>1</td>\n",
       "      <td>0</td>\n",
       "      <td>0</td>\n",
       "      <td>0.00</td>\n",
       "      <td>0.0</td>\n",
       "    </tr>\n",
       "    <tr>\n",
       "      <th>423395</th>\n",
       "      <td>515676</td>\n",
       "      <td>Claret: Chateau Larose, Cruse et Fils Freres</td>\n",
       "      <td>NaN</td>\n",
       "      <td>1</td>\n",
       "      <td>1</td>\n",
       "      <td>0</td>\n",
       "      <td>0</td>\n",
       "      <td>0.00</td>\n",
       "      <td>0.0</td>\n",
       "    </tr>\n",
       "    <tr>\n",
       "      <th>423396</th>\n",
       "      <td>515677</td>\n",
       "      <td>Claret: Chateau Lafite, Cruse et Fils Freres</td>\n",
       "      <td>NaN</td>\n",
       "      <td>1</td>\n",
       "      <td>1</td>\n",
       "      <td>0</td>\n",
       "      <td>0</td>\n",
       "      <td>0.00</td>\n",
       "      <td>0.0</td>\n",
       "    </tr>\n",
       "  </tbody>\n",
       "</table>\n",
       "<p>423397 rows × 9 columns</p>\n",
       "</div>"
      ],
      "text/plain": [
       "            id                                          name  description  \\\n",
       "0            1                    Consomme printaniere royal          NaN   \n",
       "1            2                                 Chicken gumbo          NaN   \n",
       "2            3                           Tomato aux croutons          NaN   \n",
       "3            4                               Onion au gratin          NaN   \n",
       "4            5                                   St. Emilion          NaN   \n",
       "...        ...                                           ...          ...   \n",
       "423392  515673                 Boiled: Corned beef & cabbage          NaN   \n",
       "423393  515674               Boiled: Knuckle of Veal & Bacon          NaN   \n",
       "423394  515675               Roast: Turkey & Cranberry Sauce          NaN   \n",
       "423395  515676  Claret: Chateau Larose, Cruse et Fils Freres          NaN   \n",
       "423396  515677  Claret: Chateau Lafite, Cruse et Fils Freres          NaN   \n",
       "\n",
       "        menus_appeared  times_appeared  first_appeared  last_appeared  \\\n",
       "0                    8               8            1897           1927   \n",
       "1                  111             117            1895           1960   \n",
       "2                   13              13            1893           1917   \n",
       "3                   41              41            1900           1971   \n",
       "4                   66              68            1881           1981   \n",
       "...                ...             ...             ...            ...   \n",
       "423392               1               1               0              0   \n",
       "423393               1               1               0              0   \n",
       "423394               1               1               0              0   \n",
       "423395               1               1               0              0   \n",
       "423396               1               1               0              0   \n",
       "\n",
       "        lowest_price  highest_price  \n",
       "0               0.20            0.4  \n",
       "1               0.10            0.8  \n",
       "2               0.25            0.4  \n",
       "3               0.25            1.0  \n",
       "4               0.00           18.0  \n",
       "...              ...            ...  \n",
       "423392          0.00            0.0  \n",
       "423393          0.00            0.0  \n",
       "423394          0.00            0.0  \n",
       "423395          0.00            0.0  \n",
       "423396          0.00            0.0  \n",
       "\n",
       "[423397 rows x 9 columns]"
      ]
     },
     "metadata": {},
     "output_type": "display_data"
    }
   ],
   "source": [
    "import pandas as pd\n",
    "\n",
    "# Load CSV into DataFrame\n",
    "parent_folder = 'NYPL-menus 2'\n",
    "dish = pd.read_csv(f\"{parent_folder}/Dish.csv\")\n",
    "menu = pd.read_csv(f\"{parent_folder}/Menu.csv\")\n",
    "menu_item = pd.read_csv(f\"{parent_folder}/MenuItem.csv\")\n",
    "menu_page = pd.read_csv(f\"{parent_folder}/MenuPage.csv\")\n",
    "\n",
    "display(dish)\n",
    "# display(menu)\n",
    "# display(menu_item)\n",
    "# display(menu_page)"
   ]
  },
  {
   "cell_type": "markdown",
   "id": "224a6c8d",
   "metadata": {},
   "source": [
    "# Data Profiling"
   ]
  },
  {
   "cell_type": "code",
   "execution_count": 12,
   "id": "5ca3b036",
   "metadata": {},
   "outputs": [
    {
     "data": {
      "application/vnd.microsoft.datawrangler.viewer.v0+json": {
       "columns": [
        {
         "name": "index",
         "rawType": "object",
         "type": "string"
        },
        {
         "name": "id",
         "rawType": "float64",
         "type": "float"
        },
        {
         "name": "description",
         "rawType": "float64",
         "type": "float"
        },
        {
         "name": "menus_appeared",
         "rawType": "float64",
         "type": "float"
        },
        {
         "name": "times_appeared",
         "rawType": "float64",
         "type": "float"
        },
        {
         "name": "first_appeared",
         "rawType": "float64",
         "type": "float"
        },
        {
         "name": "last_appeared",
         "rawType": "float64",
         "type": "float"
        },
        {
         "name": "lowest_price",
         "rawType": "float64",
         "type": "float"
        },
        {
         "name": "highest_price",
         "rawType": "float64",
         "type": "float"
        }
       ],
       "ref": "e3e65464-2987-445a-be34-4b6ad1623971",
       "rows": [
        [
         "count",
         "423397.0",
         "0.0",
         "423397.0",
         "423397.0",
         "423397.0",
         "423397.0",
         "394297.0",
         "394297.0"
        ],
        [
         "mean",
         "264456.5949002945",
         null,
         "3.060489327982957",
         "3.1467936711880338",
         "1675.5145548976493",
         "1679.2997375985187",
         "0.9652646609028219",
         "1.6038751753120108"
        ],
        [
         "std",
         "150489.0708893592",
         null,
         "27.818178011829055",
         "29.962121630951994",
         "651.3214614684812",
         "651.9345802161782",
         "6.714564428021191",
         "12.696274395864371"
        ],
        [
         "min",
         "1.0",
         null,
         "0.0",
         "-6.0",
         "0.0",
         "0.0",
         "0.0",
         "0.0"
        ],
        [
         "25%",
         "132374.0",
         null,
         "1.0",
         "1.0",
         "1900.0",
         "1900.0",
         "0.0",
         "0.0"
        ],
        [
         "50%",
         "269636.0",
         null,
         "1.0",
         "1.0",
         "1914.0",
         "1917.0",
         "0.0",
         "0.0"
        ],
        [
         "75%",
         "397135.0",
         null,
         "1.0",
         "1.0",
         "1949.0",
         "1955.0",
         "0.4",
         "0.6"
        ],
        [
         "max",
         "515677.0",
         null,
         "7740.0",
         "8484.0",
         "2928.0",
         "2928.0",
         "1035.0",
         "3050.0"
        ]
       ],
       "shape": {
        "columns": 8,
        "rows": 8
       }
      },
      "text/html": [
       "<div>\n",
       "<style scoped>\n",
       "    .dataframe tbody tr th:only-of-type {\n",
       "        vertical-align: middle;\n",
       "    }\n",
       "\n",
       "    .dataframe tbody tr th {\n",
       "        vertical-align: top;\n",
       "    }\n",
       "\n",
       "    .dataframe thead th {\n",
       "        text-align: right;\n",
       "    }\n",
       "</style>\n",
       "<table border=\"1\" class=\"dataframe\">\n",
       "  <thead>\n",
       "    <tr style=\"text-align: right;\">\n",
       "      <th></th>\n",
       "      <th>id</th>\n",
       "      <th>description</th>\n",
       "      <th>menus_appeared</th>\n",
       "      <th>times_appeared</th>\n",
       "      <th>first_appeared</th>\n",
       "      <th>last_appeared</th>\n",
       "      <th>lowest_price</th>\n",
       "      <th>highest_price</th>\n",
       "    </tr>\n",
       "  </thead>\n",
       "  <tbody>\n",
       "    <tr>\n",
       "      <th>count</th>\n",
       "      <td>423397.000000</td>\n",
       "      <td>0.0</td>\n",
       "      <td>423397.000000</td>\n",
       "      <td>423397.000000</td>\n",
       "      <td>423397.000000</td>\n",
       "      <td>423397.000000</td>\n",
       "      <td>394297.000000</td>\n",
       "      <td>394297.000000</td>\n",
       "    </tr>\n",
       "    <tr>\n",
       "      <th>mean</th>\n",
       "      <td>264456.594900</td>\n",
       "      <td>NaN</td>\n",
       "      <td>3.060489</td>\n",
       "      <td>3.146794</td>\n",
       "      <td>1675.514555</td>\n",
       "      <td>1679.299738</td>\n",
       "      <td>0.965265</td>\n",
       "      <td>1.603875</td>\n",
       "    </tr>\n",
       "    <tr>\n",
       "      <th>std</th>\n",
       "      <td>150489.070889</td>\n",
       "      <td>NaN</td>\n",
       "      <td>27.818178</td>\n",
       "      <td>29.962122</td>\n",
       "      <td>651.321461</td>\n",
       "      <td>651.934580</td>\n",
       "      <td>6.714564</td>\n",
       "      <td>12.696274</td>\n",
       "    </tr>\n",
       "    <tr>\n",
       "      <th>min</th>\n",
       "      <td>1.000000</td>\n",
       "      <td>NaN</td>\n",
       "      <td>0.000000</td>\n",
       "      <td>-6.000000</td>\n",
       "      <td>0.000000</td>\n",
       "      <td>0.000000</td>\n",
       "      <td>0.000000</td>\n",
       "      <td>0.000000</td>\n",
       "    </tr>\n",
       "    <tr>\n",
       "      <th>25%</th>\n",
       "      <td>132374.000000</td>\n",
       "      <td>NaN</td>\n",
       "      <td>1.000000</td>\n",
       "      <td>1.000000</td>\n",
       "      <td>1900.000000</td>\n",
       "      <td>1900.000000</td>\n",
       "      <td>0.000000</td>\n",
       "      <td>0.000000</td>\n",
       "    </tr>\n",
       "    <tr>\n",
       "      <th>50%</th>\n",
       "      <td>269636.000000</td>\n",
       "      <td>NaN</td>\n",
       "      <td>1.000000</td>\n",
       "      <td>1.000000</td>\n",
       "      <td>1914.000000</td>\n",
       "      <td>1917.000000</td>\n",
       "      <td>0.000000</td>\n",
       "      <td>0.000000</td>\n",
       "    </tr>\n",
       "    <tr>\n",
       "      <th>75%</th>\n",
       "      <td>397135.000000</td>\n",
       "      <td>NaN</td>\n",
       "      <td>1.000000</td>\n",
       "      <td>1.000000</td>\n",
       "      <td>1949.000000</td>\n",
       "      <td>1955.000000</td>\n",
       "      <td>0.400000</td>\n",
       "      <td>0.600000</td>\n",
       "    </tr>\n",
       "    <tr>\n",
       "      <th>max</th>\n",
       "      <td>515677.000000</td>\n",
       "      <td>NaN</td>\n",
       "      <td>7740.000000</td>\n",
       "      <td>8484.000000</td>\n",
       "      <td>2928.000000</td>\n",
       "      <td>2928.000000</td>\n",
       "      <td>1035.000000</td>\n",
       "      <td>3050.000000</td>\n",
       "    </tr>\n",
       "  </tbody>\n",
       "</table>\n",
       "</div>"
      ],
      "text/plain": [
       "                  id  description  menus_appeared  times_appeared  \\\n",
       "count  423397.000000          0.0   423397.000000   423397.000000   \n",
       "mean   264456.594900          NaN        3.060489        3.146794   \n",
       "std    150489.070889          NaN       27.818178       29.962122   \n",
       "min         1.000000          NaN        0.000000       -6.000000   \n",
       "25%    132374.000000          NaN        1.000000        1.000000   \n",
       "50%    269636.000000          NaN        1.000000        1.000000   \n",
       "75%    397135.000000          NaN        1.000000        1.000000   \n",
       "max    515677.000000          NaN     7740.000000     8484.000000   \n",
       "\n",
       "       first_appeared  last_appeared   lowest_price  highest_price  \n",
       "count   423397.000000  423397.000000  394297.000000  394297.000000  \n",
       "mean      1675.514555    1679.299738       0.965265       1.603875  \n",
       "std        651.321461     651.934580       6.714564      12.696274  \n",
       "min          0.000000       0.000000       0.000000       0.000000  \n",
       "25%       1900.000000    1900.000000       0.000000       0.000000  \n",
       "50%       1914.000000    1917.000000       0.000000       0.000000  \n",
       "75%       1949.000000    1955.000000       0.400000       0.600000  \n",
       "max       2928.000000    2928.000000    1035.000000    3050.000000  "
      ]
     },
     "execution_count": 12,
     "metadata": {},
     "output_type": "execute_result"
    }
   ],
   "source": [
    "dish.describe()"
   ]
  },
  {
   "cell_type": "code",
   "execution_count": 6,
   "id": "1d97e9b7",
   "metadata": {},
   "outputs": [
    {
     "name": "stdout",
     "output_type": "stream",
     "text": [
      "<class 'pandas.core.frame.DataFrame'>\n",
      "RangeIndex: 423397 entries, 0 to 423396\n",
      "Data columns (total 9 columns):\n",
      " #   Column          Non-Null Count   Dtype  \n",
      "---  ------          --------------   -----  \n",
      " 0   id              423397 non-null  int64  \n",
      " 1   name            423397 non-null  object \n",
      " 2   description     0 non-null       float64\n",
      " 3   menus_appeared  423397 non-null  int64  \n",
      " 4   times_appeared  423397 non-null  int64  \n",
      " 5   first_appeared  423397 non-null  int64  \n",
      " 6   last_appeared   423397 non-null  int64  \n",
      " 7   lowest_price    394297 non-null  float64\n",
      " 8   highest_price   394297 non-null  float64\n",
      "dtypes: float64(3), int64(5), object(1)\n",
      "memory usage: 29.1+ MB\n"
     ]
    },
    {
     "data": {
      "application/vnd.microsoft.datawrangler.viewer.v0+json": {
       "columns": [
        {
         "name": "index",
         "rawType": "object",
         "type": "string"
        },
        {
         "name": "0",
         "rawType": "int64",
         "type": "integer"
        }
       ],
       "ref": "1bfdd35d-9c64-4e28-9450-3c7785f848d7",
       "rows": [
        [
         "description",
         "423397"
        ],
        [
         "lowest_price",
         "29100"
        ],
        [
         "highest_price",
         "29100"
        ]
       ],
       "shape": {
        "columns": 1,
        "rows": 3
       }
      },
      "text/plain": [
       "description      423397\n",
       "lowest_price      29100\n",
       "highest_price     29100\n",
       "dtype: int64"
      ]
     },
     "execution_count": 6,
     "metadata": {},
     "output_type": "execute_result"
    }
   ],
   "source": [
    "df = dish\n",
    "df.info(verbose=True)\n",
    "\n",
    "columns_with_mv = df.columns[df.isnull().any()]\n",
    "df[columns_with_mv].isnull().sum()"
   ]
  },
  {
   "cell_type": "markdown",
   "id": "8c0c1113",
   "metadata": {},
   "source": [
    "# Cleaning Verification"
   ]
  },
  {
   "cell_type": "code",
   "execution_count": 17,
   "id": "c610e985",
   "metadata": {},
   "outputs": [
    {
     "name": "stdout",
     "output_type": "stream",
     "text": [
      "=== Count ===\n",
      "description    423397\n",
      "dtype: int64\n",
      "=== Percent ===\n",
      "description    1.0\n",
      "dtype: float64\n"
     ]
    }
   ],
   "source": [
    "# null count as percentage or sum\n",
    "fields = ['description']\n",
    "null = dish[fields].isnull()\n",
    "counts = null.sum()\n",
    "\n",
    "print(\"=== Count ===\")\n",
    "print(counts)\n",
    "print(\"=== Percent ===\")\n",
    "print(null.mean())"
   ]
  },
  {
   "cell_type": "code",
   "execution_count": 14,
   "id": "433d7b20",
   "metadata": {},
   "outputs": [
    {
     "data": {
      "application/vnd.microsoft.datawrangler.viewer.v0+json": {
       "columns": [
        {
         "name": "index",
         "rawType": "int64",
         "type": "integer"
        },
        {
         "name": "id",
         "rawType": "int64",
         "type": "integer"
        },
        {
         "name": "name",
         "rawType": "object",
         "type": "unknown"
        },
        {
         "name": "description",
         "rawType": "float64",
         "type": "float"
        },
        {
         "name": "menus_appeared",
         "rawType": "int64",
         "type": "integer"
        },
        {
         "name": "times_appeared",
         "rawType": "int64",
         "type": "integer"
        },
        {
         "name": "first_appeared",
         "rawType": "int64",
         "type": "integer"
        },
        {
         "name": "last_appeared",
         "rawType": "int64",
         "type": "integer"
        },
        {
         "name": "lowest_price",
         "rawType": "float64",
         "type": "float"
        },
        {
         "name": "highest_price",
         "rawType": "float64",
         "type": "float"
        }
       ],
       "ref": "6157e62e-1f4d-4003-a1a1-9a6a2fae2142",
       "rows": [],
       "shape": {
        "columns": 9,
        "rows": 0
       }
      },
      "text/html": [
       "<div>\n",
       "<style scoped>\n",
       "    .dataframe tbody tr th:only-of-type {\n",
       "        vertical-align: middle;\n",
       "    }\n",
       "\n",
       "    .dataframe tbody tr th {\n",
       "        vertical-align: top;\n",
       "    }\n",
       "\n",
       "    .dataframe thead th {\n",
       "        text-align: right;\n",
       "    }\n",
       "</style>\n",
       "<table border=\"1\" class=\"dataframe\">\n",
       "  <thead>\n",
       "    <tr style=\"text-align: right;\">\n",
       "      <th></th>\n",
       "      <th>id</th>\n",
       "      <th>name</th>\n",
       "      <th>description</th>\n",
       "      <th>menus_appeared</th>\n",
       "      <th>times_appeared</th>\n",
       "      <th>first_appeared</th>\n",
       "      <th>last_appeared</th>\n",
       "      <th>lowest_price</th>\n",
       "      <th>highest_price</th>\n",
       "    </tr>\n",
       "  </thead>\n",
       "  <tbody>\n",
       "  </tbody>\n",
       "</table>\n",
       "</div>"
      ],
      "text/plain": [
       "Empty DataFrame\n",
       "Columns: [id, name, description, menus_appeared, times_appeared, first_appeared, last_appeared, lowest_price, highest_price]\n",
       "Index: []"
      ]
     },
     "metadata": {},
     "output_type": "display_data"
    },
    {
     "data": {
      "application/vnd.microsoft.datawrangler.viewer.v0+json": {
       "columns": [
        {
         "name": "index",
         "rawType": "int64",
         "type": "integer"
        },
        {
         "name": "id",
         "rawType": "int64",
         "type": "integer"
        },
        {
         "name": "name",
         "rawType": "object",
         "type": "unknown"
        },
        {
         "name": "description",
         "rawType": "float64",
         "type": "float"
        },
        {
         "name": "menus_appeared",
         "rawType": "int64",
         "type": "integer"
        },
        {
         "name": "times_appeared",
         "rawType": "int64",
         "type": "integer"
        },
        {
         "name": "first_appeared",
         "rawType": "int64",
         "type": "integer"
        },
        {
         "name": "last_appeared",
         "rawType": "int64",
         "type": "integer"
        },
        {
         "name": "lowest_price",
         "rawType": "float64",
         "type": "float"
        },
        {
         "name": "highest_price",
         "rawType": "float64",
         "type": "float"
        }
       ],
       "ref": "337d55f6-0e9f-4846-a7cd-52a02370d420",
       "rows": [],
       "shape": {
        "columns": 9,
        "rows": 0
       }
      },
      "text/html": [
       "<div>\n",
       "<style scoped>\n",
       "    .dataframe tbody tr th:only-of-type {\n",
       "        vertical-align: middle;\n",
       "    }\n",
       "\n",
       "    .dataframe tbody tr th {\n",
       "        vertical-align: top;\n",
       "    }\n",
       "\n",
       "    .dataframe thead th {\n",
       "        text-align: right;\n",
       "    }\n",
       "</style>\n",
       "<table border=\"1\" class=\"dataframe\">\n",
       "  <thead>\n",
       "    <tr style=\"text-align: right;\">\n",
       "      <th></th>\n",
       "      <th>id</th>\n",
       "      <th>name</th>\n",
       "      <th>description</th>\n",
       "      <th>menus_appeared</th>\n",
       "      <th>times_appeared</th>\n",
       "      <th>first_appeared</th>\n",
       "      <th>last_appeared</th>\n",
       "      <th>lowest_price</th>\n",
       "      <th>highest_price</th>\n",
       "    </tr>\n",
       "  </thead>\n",
       "  <tbody>\n",
       "  </tbody>\n",
       "</table>\n",
       "</div>"
      ],
      "text/plain": [
       "Empty DataFrame\n",
       "Columns: [id, name, description, menus_appeared, times_appeared, first_appeared, last_appeared, lowest_price, highest_price]\n",
       "Index: []"
      ]
     },
     "metadata": {},
     "output_type": "display_data"
    },
    {
     "data": {
      "text/plain": [
       "{}"
      ]
     },
     "execution_count": 14,
     "metadata": {},
     "output_type": "execute_result"
    }
   ],
   "source": [
    "# IC Violations and Constraints\n",
    "\n",
    "# check for duplicate rows\n",
    "df = dish\n",
    "dups = df[df.duplicated(subset=['id'], keep=False)]\n",
    "display(dups)\n",
    "\n",
    "# FK and PK\n",
    "counts = df.groupby('id')['name'].nunique()\n",
    "bad_id = counts[counts > 1].index\n",
    "bad_df = df[df['id'].isin(bad_id)]\n",
    "display(bad_df)\n",
    "\n",
    "ic3_violations = bad_df.groupby(['id', 'name']).size().to_dict()\n",
    "ic3_violations"
   ]
  },
  {
   "cell_type": "markdown",
   "id": "6e7fccc7",
   "metadata": {},
   "source": [
    "# Data Cleaning"
   ]
  },
  {
   "cell_type": "code",
   "execution_count": null,
   "id": "bc433a2e",
   "metadata": {},
   "outputs": [],
   "source": [
    "df = dish\n",
    "df['name_trim'] = df['name'].str.strip()\n",
    "df['host_name_trim'] = df['host_name'].str.strip()\n",
    "df['name_upper'] = df['name_trim'].str.upper()\n",
    "df_wt_outliers = df[df['minimum_nights'] < 400]\n",
    "df['new_last_review'] = pd.to_datetime(df['last_review'], format='%m/%d/%y', errors='coerce')\n",
    "avg = df['number_of_reviews'].astype(float).mean()\n",
    "df['no_reviews_wt_missing'] = df['number_of_reviews'].fillna(avg).astype(float)"
   ]
  }
 ],
 "metadata": {
  "kernelspec": {
   "display_name": "base",
   "language": "python",
   "name": "python3"
  },
  "language_info": {
   "codemirror_mode": {
    "name": "ipython",
    "version": 3
   },
   "file_extension": ".py",
   "mimetype": "text/x-python",
   "name": "python",
   "nbconvert_exporter": "python",
   "pygments_lexer": "ipython3",
   "version": "3.9.18"
  }
 },
 "nbformat": 4,
 "nbformat_minor": 5
}
